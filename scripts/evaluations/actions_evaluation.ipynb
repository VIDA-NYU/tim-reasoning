{
 "cells": [
  {
   "cell_type": "code",
   "execution_count": 43,
   "id": "3788aefe",
   "metadata": {},
   "outputs": [],
   "source": [
    "import json\n",
    "import pickle"
   ]
  },
  {
   "cell_type": "code",
   "execution_count": 44,
   "id": "31673d29",
   "metadata": {},
   "outputs": [],
   "source": [
    "recipe_id = 'pinwheels'\n",
    "\n",
    "with open(f'/Users/rlopez/PTG/tim-reasoning/scripts/evaluations/resource/recipe_{recipe_id}.pickle', 'rb') as f:\n",
    "    inputs_by_step = pickle.load(f)\n",
    "\n",
    "with open(f'/Users/rlopez/PTG/tim-reasoning/tim_reasoning/resource/mit_recipes/recipe_{recipe_id}.json') as fin:\n",
    "    recipe_steps = {str(i): v for i, v in enumerate (json.load(fin)['instructions'], 1)}"
   ]
  },
  {
   "cell_type": "code",
   "execution_count": 45,
   "id": "578a1b79",
   "metadata": {},
   "outputs": [],
   "source": [
    "def rank_actions(inputs_by_step, step_id):\n",
    "    actions_in_step = inputs_by_step[step_id]\n",
    "    all_actions = {}\n",
    "    \n",
    "    for actions_data in actions_in_step:\n",
    "        for action_label, action_proba in actions_data['detected_actions']:\n",
    "            if action_label not in all_actions:\n",
    "                all_actions[action_label] = 0\n",
    "            all_actions[action_label] += action_proba\n",
    "            \n",
    "    num_inputs = len(actions_in_step)\n",
    "    all_actions = {k: v/num_inputs for k, v in all_actions.items()}\n",
    "    sorted_actions = sorted(all_actions.items(), key=lambda x: x[1], reverse=True)\n",
    "    print(f'Total inputs: {num_inputs}')\n",
    "    print('Ranking of Actions:')\n",
    "    for action_label, action_proba in sorted_actions:\n",
    "        print(f'{action_label}: {action_proba}')\n",
    "\n",
    "def evaluate_reasoning_step(inputs_by_step, current_step_id, show_output=False):\n",
    "    actions_in_step = inputs_by_step[current_step_id]\n",
    "    num_actions = float(len(actions_in_step))\n",
    "    detected_steps = [x['output'] for x in actions_in_step]\n",
    "    performance = detected_steps.count(current_step_id) / num_actions\n",
    "    \n",
    "    if show_output:\n",
    "        print('Output Steps:', detected_steps)\n",
    "    \n",
    "    return performance\n",
    "    \n",
    "def evaluate_reasoning(inputs_by_step):\n",
    "    for step_id in inputs_by_step.keys():\n",
    "        performance = evaluate_reasoning_step(inputs_by_step, step_id)\n",
    "        print(f'Step: {step_id}, Accuracy: {performance}')"
   ]
  },
  {
   "cell_type": "code",
   "execution_count": 46,
   "id": "47fe1ccb",
   "metadata": {},
   "outputs": [
    {
     "name": "stdout",
     "output_type": "stream",
     "text": [
      "Step: 1, Accuracy: 1.0\n",
      "Step: 2, Accuracy: 0.0\n",
      "Step: 3, Accuracy: 0.0\n",
      "Step: 4, Accuracy: 0.0\n",
      "Step: 5, Accuracy: 0.0\n",
      "Step: 6, Accuracy: 0.0\n",
      "Step: 7, Accuracy: 0.0\n",
      "Step: 8, Accuracy: 0.0\n",
      "Step: 9, Accuracy: 0.0\n",
      "Step: 10, Accuracy: 0.0\n",
      "Step: 11, Accuracy: 0.0\n",
      "Step: 12, Accuracy: 0.0\n"
     ]
    }
   ],
   "source": [
    "evaluate_reasoning(inputs_by_step)"
   ]
  },
  {
   "cell_type": "code",
   "execution_count": 47,
   "id": "07371fae",
   "metadata": {},
   "outputs": [],
   "source": [
    "step_id = '1'"
   ]
  },
  {
   "cell_type": "code",
   "execution_count": 48,
   "id": "d450aad0",
   "metadata": {},
   "outputs": [
    {
     "name": "stdout",
     "output_type": "stream",
     "text": [
      "Output Steps: ['1', '1', '1', '1', '1', '1']\n"
     ]
    }
   ],
   "source": [
    "accuracy = evaluate_reasoning_step(inputs_by_step, step_id, True)"
   ]
  },
  {
   "cell_type": "code",
   "execution_count": 49,
   "id": "86699177",
   "metadata": {},
   "outputs": [
    {
     "name": "stdout",
     "output_type": "stream",
     "text": [
      "Step 1: \"Place tortilla on cutting board.\"\n",
      "Total inputs: 6\n",
      "Ranking of Actions:\n",
      "take wire: 0.292929292929293\n",
      "wash knife cloth: 0.2424242424242424\n",
      "apply spreads: 0.1464646464646465\n",
      "put tortilla: 0.12121212121212122\n",
      "take jar: 0.04545454545454545\n",
      "scoop spreads: 0.04545454545454545\n",
      "move wrap: 0.020202020202020204\n",
      "no action: 0.015151515151515152\n",
      "put wrap plate: 0.010101010101010102\n"
     ]
    }
   ],
   "source": [
    "print(f'Step {step_id}: \"{recipe_steps[step_id]}\"')\n",
    "rank_actions(inputs_by_step, step_id)"
   ]
  },
  {
   "cell_type": "code",
   "execution_count": 50,
   "id": "ccfe652a",
   "metadata": {
    "scrolled": true
   },
   "outputs": [
    {
     "data": {
      "text/plain": [
       "[{'time': 20.20912194252014,\n",
       "  'detected_actions': [('wash knife cloth', 0.48484848484848486),\n",
       "   ('take wire', 0.2727272727272727),\n",
       "   ('take jar', 0.09090909090909091),\n",
       "   ('scoop spreads', 0.09090909090909091),\n",
       "   ('put wrap plate', 0.06060606060606061)],\n",
       "  'output': '1'},\n",
       " {'time': 20.882663249969482,\n",
       "  'detected_actions': [('wash knife cloth', 0.48484848484848486),\n",
       "   ('take wire', 0.30303030303030304),\n",
       "   ('scoop spreads', 0.09090909090909091),\n",
       "   ('apply spreads', 0.06060606060606061),\n",
       "   ('put tortilla', 0.030303030303030304)],\n",
       "  'output': '1'},\n",
       " {'time': 21.57319211959839,\n",
       "  'detected_actions': [('take wire', 0.42424242424242425),\n",
       "   ('wash knife cloth', 0.30303030303030304),\n",
       "   ('apply spreads', 0.15151515151515152),\n",
       "   ('move wrap', 0.06060606060606061),\n",
       "   ('scoop spreads', 0.030303030303030304)],\n",
       "  'output': '1'},\n",
       " {'time': 22.25040602684021,\n",
       "  'detected_actions': [('put tortilla', 0.5454545454545454),\n",
       "   ('apply spreads', 0.12121212121212122),\n",
       "   ('no action', 0.09090909090909091),\n",
       "   ('scoop spreads', 0.06060606060606061),\n",
       "   ('move wrap', 0.06060606060606061)],\n",
       "  'output': '1'},\n",
       " {'time': 22.603304147720337,\n",
       "  'detected_actions': [('take wire', 0.36363636363636365),\n",
       "   ('apply spreads', 0.24242424242424243),\n",
       "   ('take jar', 0.12121212121212122),\n",
       "   ('put tortilla', 0.09090909090909091),\n",
       "   ('wash knife cloth', 0.09090909090909091)],\n",
       "  'output': '1'},\n",
       " {'time': 23.32735824584961,\n",
       "  'detected_actions': [('take wire', 0.3939393939393939),\n",
       "   ('apply spreads', 0.30303030303030304),\n",
       "   ('wash knife cloth', 0.09090909090909091),\n",
       "   ('take jar', 0.06060606060606061),\n",
       "   ('put tortilla', 0.06060606060606061)],\n",
       "  'output': '1'}]"
      ]
     },
     "execution_count": 50,
     "metadata": {},
     "output_type": "execute_result"
    }
   ],
   "source": [
    "inputs_by_step[step_id]"
   ]
  },
  {
   "cell_type": "code",
   "execution_count": null,
   "id": "08b7c179",
   "metadata": {},
   "outputs": [],
   "source": []
  }
 ],
 "metadata": {
  "kernelspec": {
   "display_name": "Python 3 (ipykernel)",
   "language": "python",
   "name": "python3"
  },
  "language_info": {
   "codemirror_mode": {
    "name": "ipython",
    "version": 3
   },
   "file_extension": ".py",
   "mimetype": "text/x-python",
   "name": "python",
   "nbconvert_exporter": "python",
   "pygments_lexer": "ipython3",
   "version": "3.8.13"
  }
 },
 "nbformat": 4,
 "nbformat_minor": 5
}
