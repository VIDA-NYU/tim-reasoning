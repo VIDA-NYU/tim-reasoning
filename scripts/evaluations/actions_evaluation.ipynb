{
 "cells": [
  {
   "cell_type": "markdown",
   "id": "4c849395",
   "metadata": {},
   "source": [
    "## Evaluating Reasoning"
   ]
  },
  {
   "cell_type": "code",
   "execution_count": 20,
   "id": "3788aefe",
   "metadata": {},
   "outputs": [],
   "source": [
    "import json\n",
    "import pickle\n",
    "import pandas as pd\n",
    "import numpy as np\n",
    "from os.path import join, dirname"
   ]
  },
  {
   "cell_type": "code",
   "execution_count": 21,
   "id": "31673d29",
   "metadata": {},
   "outputs": [],
   "source": [
    "recipe_id = 'pinwheels'\n",
    "\n",
    "with open(f'/Users/rlopez/PTG/tim-reasoning/scripts/evaluations/resource/recipe_{recipe_id}.pickle', 'rb') as f:\n",
    "    inputs_by_step = pickle.load(f)\n",
    "\n",
    "with open(f'/Users/rlopez/PTG/tim-reasoning/tim_reasoning/resource/mit_recipes/recipe_{recipe_id}.json') as fin:\n",
    "    recipe_steps = {str(i): v for i, v in enumerate (json.load(fin)['instructions'], 1)}"
   ]
  },
  {
   "cell_type": "code",
   "execution_count": 22,
   "id": "578a1b79",
   "metadata": {},
   "outputs": [],
   "source": [
    "ANNOTATED_VIDEOS_PATH = '/Users/rlopez/PTG/tim-reasoning/tim_reasoning/resource/annotated_videos'\n",
    "\n",
    "def rank_actions(inputs_by_step, step_id, top=100):\n",
    "    actions_in_step = inputs_by_step[step_id]\n",
    "    all_actions = {}\n",
    "    \n",
    "    for actions_data in actions_in_step:\n",
    "        for action_label, action_proba in actions_data['detected_actions']:\n",
    "            if action_label not in all_actions:\n",
    "                all_actions[action_label] = 0\n",
    "            all_actions[action_label] += action_proba\n",
    "            \n",
    "    num_inputs = len(actions_in_step)\n",
    "    all_actions = {k: v/num_inputs for k, v in all_actions.items()}\n",
    "    sorted_actions = sorted(all_actions.items(), key=lambda x: x[1], reverse=True)\n",
    "    print(f'Total inputs: {num_inputs}')\n",
    "    print('Ranking of Actions:')\n",
    "    for action_label, action_proba in sorted_actions[:top]:\n",
    "        print(f'{action_label}: {action_proba}')\n",
    "\n",
    "def calculate_probabilities(inputs_by_step, step_id, top=100):\n",
    "    actions_in_step = inputs_by_step[step_id]\n",
    "    all_actions = {}\n",
    "    num_actions = 0.0\n",
    "    for actions_data in actions_in_step:\n",
    "        for action_label, _ in actions_data['detected_actions']:\n",
    "            if action_label not in all_actions:\n",
    "                all_actions[action_label] = 0\n",
    "            all_actions[action_label] += 1\n",
    "            num_actions += 1\n",
    "    \n",
    "    all_actions = {k: v/num_actions for k, v in all_actions.items()}\n",
    "    sorted_actions = sorted(all_actions.items(), key=lambda x: x[1], reverse=True)\n",
    "    \n",
    "    print(f'Total actions: {int(num_actions)}')\n",
    "    print('Ranking of Probabilities:')\n",
    "    for action_label, action_proba in sorted_actions[:top]:\n",
    "        print(f'{action_label}: {action_proba}')\n",
    "    \n",
    "def evaluate_reasoning_step(inputs_by_step, current_step_id, show_output=False):\n",
    "    actions_in_step = inputs_by_step[current_step_id]\n",
    "    num_actions = float(len(actions_in_step))\n",
    "    detected_steps = [x['output'] for x in actions_in_step]\n",
    "    performance = detected_steps.count(current_step_id) / num_actions\n",
    "    \n",
    "    if show_output:\n",
    "        print('Output Steps:', detected_steps)\n",
    "    \n",
    "    return performance\n",
    "    \n",
    "def evaluate_reasoning(inputs_by_step):\n",
    "    for step_id in inputs_by_step.keys():\n",
    "        performance = evaluate_reasoning_step(inputs_by_step, step_id)\n",
    "        print(f'Step: {step_id}, Accuracy: {performance}')\n",
    "        \n",
    "def create_matrix(recipe_id, normalize=True):\n",
    "    # TODO: Add \"no action\" as a step\n",
    "    annotations = pd.read_csv(join(ANNOTATED_VIDEOS_PATH, f'recipe_{recipe_id}.csv'), keep_default_na=False)\n",
    "    annotations = annotations[annotations['step_id'] != 'NA']\n",
    "    annotations['narration'] = annotations['narration'].replace(['NA'], 'no action')\n",
    "    unique_steps = annotations['step_id'].unique()\n",
    "    unique_actions = annotations['narration'].unique()\n",
    "    matrix = {}\n",
    "    \n",
    "    for step in unique_steps:\n",
    "        matrix[step] = {}\n",
    "        for action in unique_actions:\n",
    "            matrix[step][action] = 0\n",
    "        # Add the 'no action' label\n",
    "        if 'no action' not in matrix[step]:\n",
    "            matrix[step]['no action'] = 0\n",
    "\n",
    "    for index, row in annotations.iterrows():\n",
    "        action = row['narration']\n",
    "        step = row['step_id']\n",
    "        duration = row['stop_sec'] - row['start_sec']\n",
    "        matrix[step][action] += duration\n",
    "\n",
    "    if normalize:\n",
    "        for step, actions in matrix.items():\n",
    "            total_duration = float(sum([x for x in matrix[step].values()]))\n",
    "            matrix[step] = {k: v/total_duration for k, v in matrix[step].items()}\n",
    "            \n",
    "    return matrix"
   ]
  },
  {
   "cell_type": "code",
   "execution_count": 23,
   "id": "5e77cf85",
   "metadata": {},
   "outputs": [],
   "source": [
    "matrix = create_matrix(recipe_id)"
   ]
  },
  {
   "cell_type": "code",
   "execution_count": 24,
   "id": "5d7d5fd0",
   "metadata": {},
   "outputs": [
    {
     "ename": "NameError",
     "evalue": "name 'action2index' is not defined",
     "output_type": "error",
     "traceback": [
      "\u001b[0;31m---------------------------------------------------------------------------\u001b[0m",
      "\u001b[0;31mNameError\u001b[0m                                 Traceback (most recent call last)",
      "Input \u001b[0;32mIn [24]\u001b[0m, in \u001b[0;36m<cell line: 4>\u001b[0;34m()\u001b[0m\n\u001b[1;32m      2\u001b[0m \u001b[38;5;28;01mimport\u001b[39;00m \u001b[38;5;21;01mnumpy\u001b[39;00m \u001b[38;5;28;01mas\u001b[39;00m \u001b[38;5;21;01mnp\u001b[39;00m\n\u001b[1;32m      3\u001b[0m df \u001b[38;5;241m=\u001b[39m pd\u001b[38;5;241m.\u001b[39mread_csv(\u001b[38;5;124m'\u001b[39m\u001b[38;5;124m/Users/rlopez/PTG/experiments/datasets/NYU_PTG/recipe_pinwheels.csv\u001b[39m\u001b[38;5;124m'\u001b[39m)\n\u001b[0;32m----> 4\u001b[0m density_hist \u001b[38;5;241m=\u001b[39m np\u001b[38;5;241m.\u001b[39mzeros(\u001b[38;5;28mlen\u001b[39m(\u001b[43maction2index\u001b[49m))\n\u001b[1;32m      5\u001b[0m start \u001b[38;5;241m=\u001b[39m \u001b[38;5;241m0\u001b[39m\n\u001b[1;32m      6\u001b[0m \u001b[38;5;28;01mfor\u001b[39;00m irow, row \u001b[38;5;129;01min\u001b[39;00m df\u001b[38;5;241m.\u001b[39miterrows():\n",
      "\u001b[0;31mNameError\u001b[0m: name 'action2index' is not defined"
     ]
    }
   ],
   "source": [
    "import pandas as pd\n",
    "import numpy as np\n",
    "df = pd.read_csv('/Users/rlopez/PTG/experiments/datasets/NYU_PTG/recipe_pinwheels.csv')\n",
    "density_hist = np.zeros(len(action2index))\n",
    "start = 0\n",
    "for irow, row in df.iterrows():\n",
    "   density_now = np.zeros(len(action2index))\n",
    "   no_action = row.loc['start sec'] - start\n",
    "   density_now[action2index['no action']] = no_action\n",
    "   density_now[action2index[row.narration]] = (row.loc['stop sec'] - row.loc['start sec'])\n",
    "   density_hist = 0.3*density_hist + density_now\n",
    "   start = row.loc['stop sec']\n",
    "   print(row.narration)\n",
    "   print(density_hist/np.sum(density_hist))\n",
    "   input()"
   ]
  },
  {
   "cell_type": "markdown",
   "id": "9c93ddcb",
   "metadata": {},
   "source": [
    "### Overall Results"
   ]
  },
  {
   "cell_type": "code",
   "execution_count": 25,
   "id": "47fe1ccb",
   "metadata": {},
   "outputs": [
    {
     "name": "stdout",
     "output_type": "stream",
     "text": [
      "Step: 1, Accuracy: 1.0\n",
      "Step: 2, Accuracy: 0.0\n",
      "Step: 3, Accuracy: 0.0\n",
      "Step: 4, Accuracy: 0.0\n",
      "Step: 5, Accuracy: 0.0\n",
      "Step: 6, Accuracy: 0.0\n",
      "Step: 7, Accuracy: 0.0\n",
      "Step: 8, Accuracy: 0.0\n",
      "Step: 9, Accuracy: 0.0\n",
      "Step: 10, Accuracy: 0.0\n",
      "Step: 11, Accuracy: 0.0\n",
      "Step: 12, Accuracy: 0.0\n"
     ]
    }
   ],
   "source": [
    "evaluate_reasoning(inputs_by_step)"
   ]
  },
  {
   "cell_type": "markdown",
   "id": "38836b65",
   "metadata": {},
   "source": [
    "### Individual Results"
   ]
  },
  {
   "cell_type": "code",
   "execution_count": 26,
   "id": "2814804a",
   "metadata": {},
   "outputs": [],
   "source": [
    "step_id = '1'"
   ]
  },
  {
   "cell_type": "code",
   "execution_count": 27,
   "id": "d450aad0",
   "metadata": {},
   "outputs": [
    {
     "name": "stdout",
     "output_type": "stream",
     "text": [
      "Output Steps: ['1', '1', '1', '1', '1']\n"
     ]
    }
   ],
   "source": [
    "accuracy = evaluate_reasoning_step(inputs_by_step, step_id, True)"
   ]
  },
  {
   "cell_type": "code",
   "execution_count": 28,
   "id": "763185c5",
   "metadata": {},
   "outputs": [
    {
     "name": "stdout",
     "output_type": "stream",
     "text": [
      "Step 1: \"Place tortilla on cutting board.\"\n",
      "Total inputs: 5\n",
      "Ranking of Actions:\n",
      "wrap wrap: 0.5836822163313627\n",
      "put tortilla: 0.11426806543022394\n",
      "wash knife cloth: 0.10976165067404509\n",
      "apply spreads: 0.10077090971171856\n",
      "scoop spreads: 0.04119620025157929\n",
      "take knife: 0.014252858725376428\n",
      "no action: 0.010869679693132638\n",
      "put wrap plate: 0.007393367169424891\n",
      "take wire: 0.005728509183973074\n",
      "cut wrap wire: 0.004162352532148361\n",
      "move wrap: 0.0029128803173080085\n",
      "take jar: 0.0028042993508279324\n",
      "insert wire: 0.0013466126401908696\n",
      "put knife: 0.0004890007840003818\n",
      "take cloth: 0.00018306731508346274\n",
      "cut wrap knife: 0.00017834387472248636\n",
      "\n",
      "Total actions: 80\n",
      "Ranking of Probabilities:\n",
      "put tortilla: 0.0625\n",
      "wash knife cloth: 0.0625\n",
      "apply spreads: 0.0625\n",
      "scoop spreads: 0.0625\n",
      "put wrap plate: 0.0625\n",
      "take knife: 0.0625\n",
      "no action: 0.0625\n",
      "move wrap: 0.0625\n",
      "cut wrap wire: 0.0625\n",
      "take wire: 0.0625\n",
      "wrap wrap: 0.0625\n",
      "take jar: 0.0625\n",
      "put knife: 0.0625\n",
      "insert wire: 0.0625\n",
      "take cloth: 0.0625\n",
      "cut wrap knife: 0.0625\n"
     ]
    }
   ],
   "source": [
    "print(f'Step {step_id}: \"{recipe_steps[step_id]}\"')\n",
    "rank_actions(inputs_by_step, step_id)\n",
    "print('')\n",
    "calculate_probabilities(inputs_by_step, step_id)"
   ]
  },
  {
   "cell_type": "code",
   "execution_count": 29,
   "id": "08b7c179",
   "metadata": {
    "scrolled": true
   },
   "outputs": [
    {
     "data": {
      "text/plain": [
       "[{'time': 20.730143785476685,\n",
       "  'detected_actions': [('put tortilla', 0.543027400970459),\n",
       "   ('wash knife cloth', 0.24217437207698822),\n",
       "   ('apply spreads', 0.06834840029478073),\n",
       "   ('scoop spreads', 0.06427710503339767),\n",
       "   ('put wrap plate', 0.022315338253974915),\n",
       "   ('take knife', 0.011227279901504517),\n",
       "   ('no action', 0.010732024908065796),\n",
       "   ('move wrap', 0.009000993333756924),\n",
       "   ('cut wrap wire', 0.0076096393167972565),\n",
       "   ('take wire', 0.006415889132767916),\n",
       "   ('wrap wrap', 0.0057398732751607895),\n",
       "   ('take jar', 0.00534234382212162),\n",
       "   ('put knife', 0.0016027139499783516),\n",
       "   ('insert wire', 0.0012225662358105183),\n",
       "   ('take cloth', 0.0005582384183071554),\n",
       "   ('cut wrap knife', 0.0004058251215610653)],\n",
       "  'output': '1'},\n",
       " {'time': 21.820941925048828,\n",
       "  'detected_actions': [('wrap wrap', 0.6166084408760071),\n",
       "   ('apply spreads', 0.18682706356048584),\n",
       "   ('wash knife cloth', 0.1595708578824997),\n",
       "   ('scoop spreads', 0.009613214060664177),\n",
       "   ('put tortilla', 0.006959469988942146),\n",
       "   ('take wire', 0.0049159047193825245),\n",
       "   ('put wrap plate', 0.004778311122208834),\n",
       "   ('take jar', 0.002887930255383253),\n",
       "   ('cut wrap wire', 0.0023598037660121918),\n",
       "   ('no action', 0.0015354687348008156),\n",
       "   ('take knife', 0.0014762460486963391),\n",
       "   ('insert wire', 0.0011898110387846828),\n",
       "   ('move wrap', 0.001032922649756074),\n",
       "   ('put knife', 0.00010288902558386326),\n",
       "   ('take cloth', 9.462088928557932e-05),\n",
       "   ('cut wrap knife', 4.703200829681009e-05)],\n",
       "  'output': '1'},\n",
       " {'time': 22.296241998672485,\n",
       "  'detected_actions': [('wrap wrap', 0.6563178300857544),\n",
       "   ('apply spreads', 0.17030417919158936),\n",
       "   ('wash knife cloth', 0.11955831944942474),\n",
       "   ('scoop spreads', 0.017594175413250923),\n",
       "   ('put tortilla', 0.0070630148984491825),\n",
       "   ('take knife', 0.00597406318411231),\n",
       "   ('cut wrap wire', 0.00506662717089057),\n",
       "   ('no action', 0.004822245799005032),\n",
       "   ('take wire', 0.003617924638092518),\n",
       "   ('put wrap plate', 0.0032756871078163385),\n",
       "   ('take jar', 0.0030206183437258005),\n",
       "   ('insert wire', 0.001770676113665104),\n",
       "   ('move wrap', 0.001119565567933023),\n",
       "   ('put knife', 0.00037190027069300413),\n",
       "   ('take cloth', 9.540009341435507e-05),\n",
       "   ('cut wrap knife', 2.780885188258253e-05)],\n",
       "  'output': '1'},\n",
       " {'time': 22.90272808074951,\n",
       "  'detected_actions': [('wrap wrap', 0.7773325443267822),\n",
       "   ('scoop spreads', 0.06355944275856018),\n",
       "   ('apply spreads', 0.050830014050006866),\n",
       "   ('no action', 0.031149812042713165),\n",
       "   ('take knife', 0.027192842215299606),\n",
       "   ('wash knife cloth', 0.01707271672785282),\n",
       "   ('put tortilla', 0.009213250130414963),\n",
       "   ('take wire', 0.007816574536263943),\n",
       "   ('cut wrap wire', 0.004400888457894325),\n",
       "   ('put wrap plate', 0.0041320133022964),\n",
       "   ('move wrap', 0.002391056390479207),\n",
       "   ('insert wire', 0.0021547037176787853),\n",
       "   ('take jar', 0.0021017049439251423),\n",
       "   ('cut wrap knife', 0.0003453087992966175),\n",
       "   ('put knife', 0.0002098689292324707),\n",
       "   ('take cloth', 9.728217264637351e-05)],\n",
       "  'output': '1'},\n",
       " {'time': 23.56521487236023,\n",
       "  'detected_actions': [('wrap wrap', 0.8624123930931091),\n",
       "   ('scoop spreads', 0.05093706399202347),\n",
       "   ('apply spreads', 0.027544891461730003),\n",
       "   ('take knife', 0.025393862277269363),\n",
       "   ('wash knife cloth', 0.01043198723345995),\n",
       "   ('no action', 0.006108846981078386),\n",
       "   ('take wire', 0.005876252893358469),\n",
       "   ('put tortilla', 0.005077191162854433),\n",
       "   ('put wrap plate', 0.0024654860608279705),\n",
       "   ('cut wrap wire', 0.0013748039491474628),\n",
       "   ('move wrap', 0.0010198636446148157),\n",
       "   ('take jar', 0.0006688993889838457),\n",
       "   ('insert wire', 0.0003953060950152576),\n",
       "   ('put knife', 0.00015763174451421946),\n",
       "   ('take cloth', 6.979500176385045e-05),\n",
       "   ('cut wrap knife', 6.574459257535636e-05)],\n",
       "  'output': '1'}]"
      ]
     },
     "execution_count": 29,
     "metadata": {},
     "output_type": "execute_result"
    }
   ],
   "source": [
    "inputs_by_step[step_id]"
   ]
  },
  {
   "cell_type": "code",
   "execution_count": 31,
   "id": "a2342ed4",
   "metadata": {},
   "outputs": [],
   "source": [
    "perception_actions = set([i for i, j in inputs_by_step[step_id][1]['detected_actions']])\n",
    "annotated_actions = set([i for i in matrix[step_id].keys()])"
   ]
  },
  {
   "cell_type": "code",
   "execution_count": 32,
   "id": "5333792a",
   "metadata": {},
   "outputs": [
    {
     "data": {
      "text/plain": [
       "set()"
      ]
     },
     "execution_count": 32,
     "metadata": {},
     "output_type": "execute_result"
    }
   ],
   "source": [
    "perception_actions - annotated_actions"
   ]
  },
  {
   "cell_type": "code",
   "execution_count": 33,
   "id": "b2e256d2",
   "metadata": {},
   "outputs": [
    {
     "data": {
      "text/plain": [
       "{'put wire', 'take tortilla'}"
      ]
     },
     "execution_count": 33,
     "metadata": {},
     "output_type": "execute_result"
    }
   ],
   "source": [
    "annotated_actions - perception_actions"
   ]
  },
  {
   "cell_type": "code",
   "execution_count": 34,
   "id": "8c66b61a",
   "metadata": {},
   "outputs": [
    {
     "data": {
      "text/plain": [
       "{'take tortilla': 0.25,\n",
       " 'put tortilla': 0.75,\n",
       " 'take knife': 0.0,\n",
       " 'take cloth': 0.0,\n",
       " 'take jar': 0.0,\n",
       " 'scoop spreads': 0.0,\n",
       " 'apply spreads': 0.0,\n",
       " 'wash knife cloth': 0.0,\n",
       " 'put knife': 0.0,\n",
       " 'move wrap': 0.0,\n",
       " 'wrap wrap': 0.0,\n",
       " 'take wire': 0.0,\n",
       " 'insert wire': 0.0,\n",
       " 'cut wrap knife': 0.0,\n",
       " 'cut wrap wire': 0.0,\n",
       " 'put wire': 0.0,\n",
       " 'put wrap plate': 0.0,\n",
       " 'no action': 0.0}"
      ]
     },
     "execution_count": 34,
     "metadata": {},
     "output_type": "execute_result"
    }
   ],
   "source": [
    "matrix['1']"
   ]
  },
  {
   "cell_type": "code",
   "execution_count": null,
   "id": "c3692745",
   "metadata": {},
   "outputs": [],
   "source": []
  }
 ],
 "metadata": {
  "kernelspec": {
   "display_name": "Python 3 (ipykernel)",
   "language": "python",
   "name": "python3"
  },
  "language_info": {
   "codemirror_mode": {
    "name": "ipython",
    "version": 3
   },
   "file_extension": ".py",
   "mimetype": "text/x-python",
   "name": "python",
   "nbconvert_exporter": "python",
   "pygments_lexer": "ipython3",
   "version": "3.8.13"
  }
 },
 "nbformat": 4,
 "nbformat_minor": 5
}
