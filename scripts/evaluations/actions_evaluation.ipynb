{
 "cells": [
  {
   "cell_type": "markdown",
   "id": "750dd8c3",
   "metadata": {},
   "source": [
    "## Evaluating Reasoning Module"
   ]
  },
  {
   "cell_type": "code",
   "execution_count": 1,
   "id": "3788aefe",
   "metadata": {},
   "outputs": [],
   "source": [
    "import json\n",
    "import pickle\n",
    "import pandas as pd\n",
    "import numpy as np\n",
    "import matplotlib.pyplot as plt\n",
    "from os.path import join, dirname"
   ]
  },
  {
   "cell_type": "code",
   "execution_count": 2,
   "id": "578a1b79",
   "metadata": {},
   "outputs": [],
   "source": [
    "ANNOTATED_VIDEOS_PATH = '/Users/rlopez/PTG/tim-reasoning/tim_reasoning/resource/annotated_videos'\n",
    "\n",
    "def evaluate_reasoning(inputs_by_step):\n",
    "    performances = []\n",
    "    print('Accuracy')\n",
    "    for step_id in inputs_by_step.keys():\n",
    "        performance = evaluate_reasoning_step(inputs_by_step, step_id)\n",
    "        print(f'Step: {step_id}: {performance}')\n",
    "        performances.append(performance)\n",
    "    \n",
    "    total = sum(performances)/len(performances)\n",
    "    print('Total:', total)\n",
    "\n",
    "\n",
    "def evaluate_reasoning_step(inputs_by_step, current_step_id, show_output=False):\n",
    "    actions_in_step = inputs_by_step[current_step_id]\n",
    "    num_actions = float(len(actions_in_step))\n",
    "    detected_steps = [x['output'] for x in actions_in_step]\n",
    "    performance = detected_steps.count(current_step_id) / num_actions\n",
    "    \n",
    "    if show_output:\n",
    "        print('Predicted Steps:', detected_steps)\n",
    "    \n",
    "    return performance\n",
    "\n",
    "        \n",
    "def rank_actions(inputs_by_step, step_id, top=100):\n",
    "    actions_in_step = inputs_by_step[step_id]\n",
    "    all_actions = {}\n",
    "    \n",
    "    for actions_data in actions_in_step:\n",
    "        for action_label, action_proba in actions_data['detected_actions']:\n",
    "            if action_label not in all_actions:\n",
    "                all_actions[action_label] = 0\n",
    "            all_actions[action_label] += action_proba\n",
    "            \n",
    "    num_inputs = len(actions_in_step)\n",
    "    all_actions = {k: v/num_inputs for k, v in all_actions.items()}\n",
    "    sorted_actions = sorted(all_actions.items(), key=lambda x: x[1], reverse=True)\n",
    "    print(f'Total inputs: {num_inputs}')\n",
    "    print('Ranking of Actions:')\n",
    "    for action_label, action_proba in sorted_actions[:top]:\n",
    "        print(f'{action_label}: {action_proba}')\n",
    "\n",
    "\n",
    "def calculate_probabilities(inputs_by_step, step_id, top=100):\n",
    "    actions_in_step = inputs_by_step[step_id]\n",
    "    all_actions = {}\n",
    "    num_actions = 0.0\n",
    "    for actions_data in actions_in_step:\n",
    "        for action_label, _ in actions_data['detected_actions']:\n",
    "            if action_label not in all_actions:\n",
    "                all_actions[action_label] = 0\n",
    "            all_actions[action_label] += 1\n",
    "            num_actions += 1\n",
    "    \n",
    "    all_actions = {k: v/num_actions for k, v in all_actions.items()}\n",
    "    sorted_actions = sorted(all_actions.items(), key=lambda x: x[1], reverse=True)\n",
    "    \n",
    "    print(f'Total actions: {int(num_actions)}')\n",
    "    print('Ranking of Probabilities:')\n",
    "    for action_label, action_proba in sorted_actions[:top]:\n",
    "        print(f'{action_label}: {action_proba}')\n",
    "\n",
    "\n",
    "def create_matrix(recipe_id, normalize=True):\n",
    "    annotations = pd.read_csv(join(ANNOTATED_VIDEOS_PATH, f'recipe_{recipe_id}.csv'), keep_default_na=False)\n",
    "    annotations = annotations[annotations['video_id'] != 'coffee-test-2']  # For testing\n",
    "    annotations = annotations[annotations['step_id'] != 'NA']\n",
    "    no_action_label = 'no action'\n",
    "    annotations['narration'] = annotations['narration'].replace(['NA'], no_action_label)\n",
    "    unique_steps = {s: i for i, s in enumerate(annotations['step_id'].unique())}\n",
    "    unique_actions = {a: i for i, a in enumerate(annotations['narration'].unique())}\n",
    "\n",
    "    if no_action_label not in unique_actions:\n",
    "        unique_actions[no_action_label] = len(unique_actions)\n",
    "\n",
    "    matrix = np.zeros((len(unique_steps), len(unique_actions)))\n",
    "\n",
    "    for _, row in annotations.iterrows():\n",
    "        action_index = unique_actions[row['narration']]\n",
    "        step_index = unique_steps[row['step_id']]\n",
    "        duration = row['stop_sec'] - row['start_sec']\n",
    "\n",
    "        matrix[step_index][action_index] += duration\n",
    "\n",
    "    if normalize:\n",
    "        row_sums = matrix.sum(axis=1)\n",
    "        matrix = matrix / row_sums[:, np.newaxis]\n",
    "\n",
    "    return {'indexes': unique_actions, 'matrix': matrix}\n",
    "\n",
    "def create_matrix_dict(recipe_id, normalize=True):\n",
    "    # TODO: Add \"no action\" as a step\n",
    "    annotations = pd.read_csv(join(ANNOTATED_VIDEOS_PATH, f'recipe_{recipe_id}.csv'), keep_default_na=False)\n",
    "    annotations = annotations[annotations['step_id'] != 'NA']\n",
    "    annotations['narration'] = annotations['narration'].replace(['NA'], 'no action')\n",
    "    unique_steps = annotations['step_id'].unique()\n",
    "    unique_actions = annotations['narration'].unique()\n",
    "    matrix = {}\n",
    "    \n",
    "    for step in unique_steps:\n",
    "        matrix[step] = {}\n",
    "        for action in unique_actions:\n",
    "            matrix[step][action] = 0\n",
    "        # Add the 'no action' label\n",
    "        if 'no action' not in matrix[step]:\n",
    "            matrix[step]['no action'] = 0\n",
    "\n",
    "    for index, row in annotations.iterrows():\n",
    "        action = row['narration']\n",
    "        step = row['step_id']\n",
    "        duration = row['stop_sec'] - row['start_sec']\n",
    "        matrix[step][action] += duration\n",
    "\n",
    "    if normalize:\n",
    "        for step, actions in matrix.items():\n",
    "            total_duration = float(sum([x for x in matrix[step].values()]))\n",
    "            matrix[step] = {k: v/total_duration for k, v in matrix[step].items()}\n",
    "            \n",
    "    return matrix"
   ]
  },
  {
   "cell_type": "code",
   "execution_count": 3,
   "id": "31673d29",
   "metadata": {},
   "outputs": [],
   "source": [
    "recipe_id = 'pinwheels'\n",
    "\n",
    "with open(f'/Users/rlopez/PTG/tim-reasoning/scripts/evaluations/resource/recipe_{recipe_id}.pickle', 'rb') as f:\n",
    "    inputs_by_step = pickle.load(f)\n",
    "\n",
    "with open(f'/Users/rlopez/PTG/tim-reasoning/tim_reasoning/resource/mit_recipes/recipe_{recipe_id}.json') as fin:\n",
    "    recipe_steps = {str(i): v for i, v in enumerate (json.load(fin)['instructions'], 1)}"
   ]
  },
  {
   "cell_type": "markdown",
   "id": "6354c59e",
   "metadata": {},
   "source": [
    "### Overall Results"
   ]
  },
  {
   "cell_type": "code",
   "execution_count": null,
   "id": "f17f6acf",
   "metadata": {},
   "outputs": [],
   "source": [
    "evaluate_reasoning(inputs_by_step)"
   ]
  },
  {
   "cell_type": "markdown",
   "id": "105c2f8c",
   "metadata": {},
   "source": [
    "### Individual Results"
   ]
  },
  {
   "cell_type": "code",
   "execution_count": 5,
   "id": "9c6ca079",
   "metadata": {},
   "outputs": [
    {
     "name": "stdout",
     "output_type": "stream",
     "text": [
      "Step 1: \"Place tortilla on cutting board.\"\n"
     ]
    }
   ],
   "source": [
    "step_id = '1'\n",
    "print(f'Step {step_id}: \"{recipe_steps[step_id]}\"')"
   ]
  },
  {
   "cell_type": "code",
   "execution_count": 6,
   "id": "d450aad0",
   "metadata": {},
   "outputs": [
    {
     "name": "stdout",
     "output_type": "stream",
     "text": [
      "Predicted Steps: ['1', '1', '1', '1', '1']\n"
     ]
    }
   ],
   "source": [
    "accuracy = evaluate_reasoning_step(inputs_by_step, step_id, True)"
   ]
  },
  {
   "cell_type": "code",
   "execution_count": 7,
   "id": "6d9b076c",
   "metadata": {},
   "outputs": [
    {
     "name": "stdout",
     "output_type": "stream",
     "text": [
      "Total inputs: 5\n",
      "Ranking of Actions:\n",
      "wrap wrap: 0.5836822163313627\n",
      "put tortilla: 0.11426806543022394\n",
      "wash knife cloth: 0.10976165067404509\n",
      "apply spreads: 0.10077090971171856\n",
      "scoop spreads: 0.04119620025157929\n",
      "take knife: 0.014252858725376428\n",
      "no action: 0.010869679693132638\n",
      "put wrap plate: 0.007393367169424891\n",
      "take wire: 0.005728509183973074\n",
      "cut wrap wire: 0.004162352532148361\n",
      "move wrap: 0.0029128803173080085\n",
      "take jar: 0.0028042993508279324\n",
      "insert wire: 0.0013466126401908696\n",
      "put knife: 0.0004890007840003818\n",
      "take cloth: 0.00018306731508346274\n",
      "cut wrap knife: 0.00017834387472248636\n",
      "\n",
      "Total actions: 80\n",
      "Ranking of Probabilities:\n",
      "put tortilla: 0.0625\n",
      "wash knife cloth: 0.0625\n",
      "apply spreads: 0.0625\n",
      "scoop spreads: 0.0625\n",
      "put wrap plate: 0.0625\n",
      "take knife: 0.0625\n",
      "no action: 0.0625\n",
      "move wrap: 0.0625\n",
      "cut wrap wire: 0.0625\n",
      "take wire: 0.0625\n",
      "wrap wrap: 0.0625\n",
      "take jar: 0.0625\n",
      "put knife: 0.0625\n",
      "insert wire: 0.0625\n",
      "take cloth: 0.0625\n",
      "cut wrap knife: 0.0625\n"
     ]
    }
   ],
   "source": [
    "rank_actions(inputs_by_step, step_id)\n",
    "print('')\n",
    "calculate_probabilities(inputs_by_step, step_id)"
   ]
  },
  {
   "cell_type": "code",
   "execution_count": 8,
   "id": "11357c17",
   "metadata": {},
   "outputs": [
    {
     "name": "stdout",
     "output_type": "stream",
     "text": [
      "{'take tortilla': 0, 'put tortilla': 1, 'take knife': 2, 'take cloth': 3, 'take jar': 4, 'scoop spreads': 5, 'apply spreads': 6, 'wash knife cloth': 7, 'put knife': 8, 'move wrap': 9, 'wrap wrap': 10, 'take wire': 11, 'insert wire': 12, 'cut wrap knife': 13, 'cut wrap wire': 14, 'put wire': 15, 'put wrap plate': 16, 'take wrap': 17, 'take bag': 18, 'open bag': 19, 'open jar': 20, 'no action': 21}\n"
     ]
    },
    {
     "data": {
      "text/plain": [
       "<matplotlib.image.AxesImage at 0x1195b8640>"
      ]
     },
     "execution_count": 8,
     "metadata": {},
     "output_type": "execute_result"
    },
    {
     "data": {
      "image/png": "[encoded data removed]",
      "text/plain": [
       "<Figure size 640x480 with 1 Axes>"
      ]
     },
     "metadata": {},
     "output_type": "display_data"
    }
   ],
   "source": [
    "matrix = create_matrix(recipe_id, False)['matrix']\n",
    "indexes = create_matrix(recipe_id)['indexes']\n",
    "print(indexes)\n",
    "plt.imshow(matrix,)"
   ]
  },
  {
   "cell_type": "code",
   "execution_count": 9,
   "id": "d738b9f6",
   "metadata": {},
   "outputs": [
    {
     "data": {
      "text/plain": [
       "[('take tortilla', 0.0),\n",
       " ('put tortilla', 0.0),\n",
       " ('take knife', 9.0),\n",
       " ('take cloth', 2.0),\n",
       " ('take jar', 11.0),\n",
       " ('scoop spreads', 41.0),\n",
       " ('apply spreads', 296.0),\n",
       " ('wash knife cloth', 0.0),\n",
       " ('put knife', 0.0),\n",
       " ('move wrap', 0.0),\n",
       " ('wrap wrap', 0.0),\n",
       " ('take wire', 0.0),\n",
       " ('insert wire', 0.0),\n",
       " ('cut wrap knife', 0.0),\n",
       " ('cut wrap wire', 0.0),\n",
       " ('put wire', 0.0),\n",
       " ('put wrap plate', 0.0),\n",
       " ('take wrap', 0.0),\n",
       " ('take bag', 0.0),\n",
       " ('open bag', 0.0),\n",
       " ('open jar', 5.0),\n",
       " ('no action', 0.0)]"
      ]
     },
     "execution_count": 9,
     "metadata": {},
     "output_type": "execute_result"
    }
   ],
   "source": [
    "step = 1\n",
    "[(a, matrix[step][i]) for a, i in indexes.items()]"
   ]
  },
  {
   "cell_type": "code",
   "execution_count": 10,
   "id": "9d96116d",
   "metadata": {},
   "outputs": [
    {
     "data": {
      "text/plain": [
       "{'take tortilla': 0.0,\n",
       " 'put tortilla': 0.0,\n",
       " 'take knife': 0.10101010101010101,\n",
       " 'take cloth': 0.0,\n",
       " 'take jar': 0.0,\n",
       " 'scoop spreads': 0.0,\n",
       " 'apply spreads': 0.0,\n",
       " 'wash knife cloth': 0.0,\n",
       " 'put knife': 0.08080808080808081,\n",
       " 'move wrap': 0.0,\n",
       " 'wrap wrap': 0.0,\n",
       " 'take wire': 0.0,\n",
       " 'insert wire': 0.0,\n",
       " 'cut wrap knife': 0.8181818181818182,\n",
       " 'cut wrap wire': 0.0,\n",
       " 'put wire': 0.0,\n",
       " 'put wrap plate': 0.0,\n",
       " 'take wrap': 0.0,\n",
       " 'take bag': 0.0,\n",
       " 'open bag': 0.0,\n",
       " 'open jar': 0.0,\n",
       " 'no action': 0.0}"
      ]
     },
     "execution_count": 10,
     "metadata": {},
     "output_type": "execute_result"
    }
   ],
   "source": [
    "matrix_dict = create_matrix_dict(recipe_id)\n",
    "matrix_dict['8']"
   ]
  },
  {
   "cell_type": "code",
   "execution_count": 11,
   "id": "08b7c179",
   "metadata": {
    "scrolled": true
   },
   "outputs": [
    {
     "data": {
      "text/plain": [
       "[{'time': 20.730143785476685,\n",
       "  'detected_actions': [('put tortilla', 0.543027400970459),\n",
       "   ('wash knife cloth', 0.24217437207698822),\n",
       "   ('apply spreads', 0.06834840029478073),\n",
       "   ('scoop spreads', 0.06427710503339767),\n",
       "   ('put wrap plate', 0.022315338253974915),\n",
       "   ('take knife', 0.011227279901504517),\n",
       "   ('no action', 0.010732024908065796),\n",
       "   ('move wrap', 0.009000993333756924),\n",
       "   ('cut wrap wire', 0.0076096393167972565),\n",
       "   ('take wire', 0.006415889132767916),\n",
       "   ('wrap wrap', 0.0057398732751607895),\n",
       "   ('take jar', 0.00534234382212162),\n",
       "   ('put knife', 0.0016027139499783516),\n",
       "   ('insert wire', 0.0012225662358105183),\n",
       "   ('take cloth', 0.0005582384183071554),\n",
       "   ('cut wrap knife', 0.0004058251215610653)],\n",
       "  'output': '1'},\n",
       " {'time': 21.820941925048828,\n",
       "  'detected_actions': [('wrap wrap', 0.6166084408760071),\n",
       "   ('apply spreads', 0.18682706356048584),\n",
       "   ('wash knife cloth', 0.1595708578824997),\n",
       "   ('scoop spreads', 0.009613214060664177),\n",
       "   ('put tortilla', 0.006959469988942146),\n",
       "   ('take wire', 0.0049159047193825245),\n",
       "   ('put wrap plate', 0.004778311122208834),\n",
       "   ('take jar', 0.002887930255383253),\n",
       "   ('cut wrap wire', 0.0023598037660121918),\n",
       "   ('no action', 0.0015354687348008156),\n",
       "   ('take knife', 0.0014762460486963391),\n",
       "   ('insert wire', 0.0011898110387846828),\n",
       "   ('move wrap', 0.001032922649756074),\n",
       "   ('put knife', 0.00010288902558386326),\n",
       "   ('take cloth', 9.462088928557932e-05),\n",
       "   ('cut wrap knife', 4.703200829681009e-05)],\n",
       "  'output': '1'},\n",
       " {'time': 22.296241998672485,\n",
       "  'detected_actions': [('wrap wrap', 0.6563178300857544),\n",
       "   ('apply spreads', 0.17030417919158936),\n",
       "   ('wash knife cloth', 0.11955831944942474),\n",
       "   ('scoop spreads', 0.017594175413250923),\n",
       "   ('put tortilla', 0.0070630148984491825),\n",
       "   ('take knife', 0.00597406318411231),\n",
       "   ('cut wrap wire', 0.00506662717089057),\n",
       "   ('no action', 0.004822245799005032),\n",
       "   ('take wire', 0.003617924638092518),\n",
       "   ('put wrap plate', 0.0032756871078163385),\n",
       "   ('take jar', 0.0030206183437258005),\n",
       "   ('insert wire', 0.001770676113665104),\n",
       "   ('move wrap', 0.001119565567933023),\n",
       "   ('put knife', 0.00037190027069300413),\n",
       "   ('take cloth', 9.540009341435507e-05),\n",
       "   ('cut wrap knife', 2.780885188258253e-05)],\n",
       "  'output': '1'},\n",
       " {'time': 22.90272808074951,\n",
       "  'detected_actions': [('wrap wrap', 0.7773325443267822),\n",
       "   ('scoop spreads', 0.06355944275856018),\n",
       "   ('apply spreads', 0.050830014050006866),\n",
       "   ('no action', 0.031149812042713165),\n",
       "   ('take knife', 0.027192842215299606),\n",
       "   ('wash knife cloth', 0.01707271672785282),\n",
       "   ('put tortilla', 0.009213250130414963),\n",
       "   ('take wire', 0.007816574536263943),\n",
       "   ('cut wrap wire', 0.004400888457894325),\n",
       "   ('put wrap plate', 0.0041320133022964),\n",
       "   ('move wrap', 0.002391056390479207),\n",
       "   ('insert wire', 0.0021547037176787853),\n",
       "   ('take jar', 0.0021017049439251423),\n",
       "   ('cut wrap knife', 0.0003453087992966175),\n",
       "   ('put knife', 0.0002098689292324707),\n",
       "   ('take cloth', 9.728217264637351e-05)],\n",
       "  'output': '1'},\n",
       " {'time': 23.56521487236023,\n",
       "  'detected_actions': [('wrap wrap', 0.8624123930931091),\n",
       "   ('scoop spreads', 0.05093706399202347),\n",
       "   ('apply spreads', 0.027544891461730003),\n",
       "   ('take knife', 0.025393862277269363),\n",
       "   ('wash knife cloth', 0.01043198723345995),\n",
       "   ('no action', 0.006108846981078386),\n",
       "   ('take wire', 0.005876252893358469),\n",
       "   ('put tortilla', 0.005077191162854433),\n",
       "   ('put wrap plate', 0.0024654860608279705),\n",
       "   ('cut wrap wire', 0.0013748039491474628),\n",
       "   ('move wrap', 0.0010198636446148157),\n",
       "   ('take jar', 0.0006688993889838457),\n",
       "   ('insert wire', 0.0003953060950152576),\n",
       "   ('put knife', 0.00015763174451421946),\n",
       "   ('take cloth', 6.979500176385045e-05),\n",
       "   ('cut wrap knife', 6.574459257535636e-05)],\n",
       "  'output': '1'}]"
      ]
     },
     "execution_count": 11,
     "metadata": {},
     "output_type": "execute_result"
    }
   ],
   "source": [
    "inputs_by_step[step_id]"
   ]
  }
 ],
 "metadata": {
  "kernelspec": {
   "display_name": "Python 3 (ipykernel)",
   "language": "python",
   "name": "python3"
  },
  "language_info": {
   "codemirror_mode": {
    "name": "ipython",
    "version": 3
   },
   "file_extension": ".py",
   "mimetype": "text/x-python",
   "name": "python",
   "nbconvert_exporter": "python",
   "pygments_lexer": "ipython3",
   "version": "3.8.13"
  }
 },
 "nbformat": 4,
 "nbformat_minor": 5
}
