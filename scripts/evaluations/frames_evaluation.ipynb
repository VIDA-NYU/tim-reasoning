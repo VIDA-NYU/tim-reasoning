{
 "cells": [
  {
   "cell_type": "markdown",
   "id": "7605f19a",
   "metadata": {},
   "source": [
    "## Evaluating Reasoning Module"
   ]
  },
  {
   "cell_type": "code",
   "execution_count": null,
   "id": "3788aefe",
   "metadata": {},
   "outputs": [],
   "source": [
    "import pandas as pd\n",
    "import matplotlib.pyplot as plt\n",
    "from os.path import join"
   ]
  },
  {
   "cell_type": "code",
   "execution_count": null,
   "id": "578a1b79",
   "metadata": {},
   "outputs": [],
   "source": [
    "RESULTS_PATH = '/Users/rlopez/PTG/tim-reasoning/scripts/evaluations/resource/'\n",
    "\n",
    "def evaluate_reasoning(recipe_id):\n",
    "    results = pd.read_csv(join(RESULTS_PATH, f'results_{recipe_id}.csv'))\n",
    "    \n",
    "    return results\n",
    "\n"
   ]
  },
  {
   "cell_type": "code",
   "execution_count": null,
   "id": "31673d29",
   "metadata": {},
   "outputs": [],
   "source": [
    "recipe_id = 'pinwheels'\n",
    "results = evaluate_reasoning(recipe_id)\n",
    "results"
   ]
  },
  {
   "cell_type": "code",
   "execution_count": null,
   "id": "c60fd46f",
   "metadata": {},
   "outputs": [],
   "source": [
    "results['Match'] = results['Predicted'].eq(results['True'])\n",
    "results"
   ]
  },
  {
   "cell_type": "code",
   "execution_count": null,
   "id": "e970151a",
   "metadata": {},
   "outputs": [],
   "source": [
    "dfa = results.groupby('True')['Match'].mean().mul(100).round(2)\n",
    "dfa"
   ]
  },
  {
   "cell_type": "code",
   "execution_count": null,
   "id": "9a70b7b6",
   "metadata": {},
   "outputs": [],
   "source": []
  }
 ],
 "metadata": {
  "kernelspec": {
   "display_name": "Python 3 (ipykernel)",
   "language": "python",
   "name": "python3"
  },
  "language_info": {
   "codemirror_mode": {
    "name": "ipython",
    "version": 3
   },
   "file_extension": ".py",
   "mimetype": "text/x-python",
   "name": "python",
   "nbconvert_exporter": "python",
   "pygments_lexer": "ipython3",
   "version": "3.8.13"
  }
 },
 "nbformat": 4,
 "nbformat_minor": 5
}
