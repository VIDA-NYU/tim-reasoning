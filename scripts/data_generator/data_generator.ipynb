{
 "cells": [
  {
   "cell_type": "markdown",
   "metadata": {},
   "source": [
    "# Modifiying Recipes"
   ]
  },
  {
   "cell_type": "code",
   "execution_count": 1,
   "metadata": {},
   "outputs": [],
   "source": [
    "from tim_reasoning import RecipeTagger"
   ]
  },
  {
   "cell_type": "markdown",
   "metadata": {},
   "source": [
    "### Tagger Example"
   ]
  },
  {
   "cell_type": "code",
   "execution_count": 2,
   "metadata": {},
   "outputs": [
    {
     "name": "stderr",
     "output_type": "stream",
     "text": [
      "/Users/rlopez/opt/anaconda3/envs/allennlp/lib/python3.7/site-packages/allennlp/tango/__init__.py:18: UserWarning: AllenNLP Tango is an experimental API and parts of it might change or disappear every time we release a new version.\n",
      "  \"AllenNLP Tango is an experimental API and parts of it might change or disappear \"\n"
     ]
    }
   ],
   "source": [
    "ner_model_path = '/Users/rlopez/PTG/experiments/models/xlm-roberta-base-finetuned-recipe-all'\n",
    "srl_model_path = '/Users/rlopez/PTG/experiments/models/structured-prediction-srl-bert.2020.12.15.tar.gz'\n",
    "tagger = RecipeTagger(ner_model_path, srl_model_path)"
   ]
  },
  {
   "cell_type": "code",
   "execution_count": 3,
   "metadata": {},
   "outputs": [
    {
     "data": {
      "text/html": [
       "<span class=\"tex2jax_ignore\"><div class=\"entities\" style=\"line-height: 2.5; direction: ltr\">\n",
       "<mark class=\"entity\" style=\"background: gray; padding: 0.45em 0.6em; margin: 0 0.25em; line-height: 1; border-radius: 0.35em;\">\n",
       "    25\n",
       "    <span style=\"font-size: 0.8em; font-weight: bold; line-height: 1; border-radius: 0.35em; vertical-align: middle; margin-left: 0.5rem\">QUANTITY</span>\n",
       "</mark>\n",
       " \n",
       "<mark class=\"entity\" style=\"background: pink; padding: 0.45em 0.6em; margin: 0 0.25em; line-height: 1; border-radius: 0.35em;\">\n",
       "    grams\n",
       "    <span style=\"font-size: 0.8em; font-weight: bold; line-height: 1; border-radius: 0.35em; vertical-align: middle; margin-left: 0.5rem\">UNIT</span>\n",
       "</mark>\n",
       " whole \n",
       "<mark class=\"entity\" style=\"background: orange; padding: 0.45em 0.6em; margin: 0 0.25em; line-height: 1; border-radius: 0.35em;\">\n",
       "    coffee\n",
       "    <span style=\"font-size: 0.8em; font-weight: bold; line-height: 1; border-radius: 0.35em; vertical-align: middle; margin-left: 0.5rem\">INGREDIENT</span>\n",
       "</mark>\n",
       " \n",
       "<mark class=\"entity\" style=\"background: orange; padding: 0.45em 0.6em; margin: 0 0.25em; line-height: 1; border-radius: 0.35em;\">\n",
       "    beans.\n",
       "    <span style=\"font-size: 0.8em; font-weight: bold; line-height: 1; border-radius: 0.35em; vertical-align: middle; margin-left: 0.5rem\">INGREDIENT</span>\n",
       "</mark>\n",
       "</div></span>"
      ],
      "text/plain": [
       "<IPython.core.display.HTML object>"
      ]
     },
     "metadata": {},
     "output_type": "display_data"
    },
    {
     "name": "stdout",
     "output_type": "stream",
     "text": [
      "Actions: []\n"
     ]
    },
    {
     "data": {
      "text/html": [
       "<span class=\"tex2jax_ignore\"><div class=\"entities\" style=\"line-height: 2.5; direction: ltr\">\n",
       "<mark class=\"entity\" style=\"background: green; padding: 0.45em 0.6em; margin: 0 0.25em; line-height: 1; border-radius: 0.35em;\">\n",
       "    Let\n",
       "    <span style=\"font-size: 0.8em; font-weight: bold; line-height: 1; border-radius: 0.35em; vertical-align: middle; margin-left: 0.5rem\">ACTION</span>\n",
       "</mark>\n",
       " the \n",
       "<mark class=\"entity\" style=\"background: orange; padding: 0.45em 0.6em; margin: 0 0.25em; line-height: 1; border-radius: 0.35em;\">\n",
       "    coffee\n",
       "    <span style=\"font-size: 0.8em; font-weight: bold; line-height: 1; border-radius: 0.35em; vertical-align: middle; margin-left: 0.5rem\">INGREDIENT</span>\n",
       "</mark>\n",
       " \n",
       "<mark class=\"entity\" style=\"background: green; padding: 0.45em 0.6em; margin: 0 0.25em; line-height: 1; border-radius: 0.35em;\">\n",
       "    drain\n",
       "    <span style=\"font-size: 0.8em; font-weight: bold; line-height: 1; border-radius: 0.35em; vertical-align: middle; margin-left: 0.5rem\">ACTION</span>\n",
       "</mark>\n",
       " completely into the mug before \n",
       "<mark class=\"entity\" style=\"background: green; padding: 0.45em 0.6em; margin: 0 0.25em; line-height: 1; border-radius: 0.35em;\">\n",
       "    removing\n",
       "    <span style=\"font-size: 0.8em; font-weight: bold; line-height: 1; border-radius: 0.35em; vertical-align: middle; margin-left: 0.5rem\">ACTION</span>\n",
       "</mark>\n",
       " the dripper.</div></span>"
      ],
      "text/plain": [
       "<IPython.core.display.HTML object>"
      ]
     },
     "metadata": {},
     "output_type": "display_data"
    },
    {
     "name": "stdout",
     "output_type": "stream",
     "text": [
      "Actions: [('Let', 'coffee'), ('drain', None), ('removing', None)]\n"
     ]
    }
   ],
   "source": [
    "tokens, tags = tagger.predict_entities('25 grams whole coffee beans.')\n",
    "tagger.plot_entities(tokens, tags)\n",
    "actions = tagger.extract_action_relations(tokens, tags)\n",
    "print('Actions:', actions)\n",
    "tokens, tags = tagger.predict_entities('Let the coffee drain completely into the mug before removing the dripper.')\n",
    "tagger.plot_entities(tokens, tags)\n",
    "actions = tagger.extract_action_relations(tokens, tags)\n",
    "print('Actions:', actions)"
   ]
  },
  {
   "cell_type": "markdown",
   "metadata": {},
   "source": [
    "### Loading Resources: Actions, Ingredients, Units and Quantities"
   ]
  },
  {
   "cell_type": "code",
   "execution_count": 4,
   "metadata": {},
   "outputs": [
    {
     "data": {
      "text/html": [
       "<div>\n",
       "<style scoped>\n",
       "    .dataframe tbody tr th:only-of-type {\n",
       "        vertical-align: middle;\n",
       "    }\n",
       "\n",
       "    .dataframe tbody tr th {\n",
       "        vertical-align: top;\n",
       "    }\n",
       "\n",
       "    .dataframe thead th {\n",
       "        text-align: right;\n",
       "    }\n",
       "</style>\n",
       "<table border=\"1\" class=\"dataframe\">\n",
       "  <thead>\n",
       "    <tr style=\"text-align: right;\">\n",
       "      <th></th>\n",
       "      <th>id</th>\n",
       "      <th>key</th>\n",
       "      <th>instances</th>\n",
       "      <th>category</th>\n",
       "    </tr>\n",
       "  </thead>\n",
       "  <tbody>\n",
       "    <tr>\n",
       "      <th>0</th>\n",
       "      <td>0</td>\n",
       "      <td>take</td>\n",
       "      <td>['collect-from', 'collect-into', 'draw', 'fetc...</td>\n",
       "      <td>retrieve</td>\n",
       "    </tr>\n",
       "    <tr>\n",
       "      <th>1</th>\n",
       "      <td>1</td>\n",
       "      <td>put</td>\n",
       "      <td>['create', 'dose', 'lay', 'lay-down', 'lay-on'...</td>\n",
       "      <td>leave</td>\n",
       "    </tr>\n",
       "    <tr>\n",
       "      <th>2</th>\n",
       "      <td>2</td>\n",
       "      <td>wash</td>\n",
       "      <td>['clean', 'clean-around', 'clean-from', 'clean...</td>\n",
       "      <td>clean</td>\n",
       "    </tr>\n",
       "    <tr>\n",
       "      <th>3</th>\n",
       "      <td>3</td>\n",
       "      <td>open</td>\n",
       "      <td>['lever-open', 'open', 'open-in', 'open-on', '...</td>\n",
       "      <td>access</td>\n",
       "    </tr>\n",
       "    <tr>\n",
       "      <th>4</th>\n",
       "      <td>4</td>\n",
       "      <td>close</td>\n",
       "      <td>['close', 'close-off', 'close-with', 'screw-on...</td>\n",
       "      <td>block</td>\n",
       "    </tr>\n",
       "    <tr>\n",
       "      <th>...</th>\n",
       "      <td>...</td>\n",
       "      <td>...</td>\n",
       "      <td>...</td>\n",
       "      <td>...</td>\n",
       "    </tr>\n",
       "    <tr>\n",
       "      <th>92</th>\n",
       "      <td>92</td>\n",
       "      <td>prepare</td>\n",
       "      <td>['prepare', 'prepare-for']</td>\n",
       "      <td>manipulate</td>\n",
       "    </tr>\n",
       "    <tr>\n",
       "      <th>93</th>\n",
       "      <td>93</td>\n",
       "      <td>bake</td>\n",
       "      <td>['bake']</td>\n",
       "      <td>manipulate</td>\n",
       "    </tr>\n",
       "    <tr>\n",
       "      <th>94</th>\n",
       "      <td>94</td>\n",
       "      <td>mark</td>\n",
       "      <td>['mark', 'mark-on']</td>\n",
       "      <td>manipulate</td>\n",
       "    </tr>\n",
       "    <tr>\n",
       "      <th>95</th>\n",
       "      <td>95</td>\n",
       "      <td>bend</td>\n",
       "      <td>['bend']</td>\n",
       "      <td>manipulate</td>\n",
       "    </tr>\n",
       "    <tr>\n",
       "      <th>96</th>\n",
       "      <td>96</td>\n",
       "      <td>unfreeze</td>\n",
       "      <td>['unfreeze']</td>\n",
       "      <td>monitor</td>\n",
       "    </tr>\n",
       "  </tbody>\n",
       "</table>\n",
       "<p>97 rows × 4 columns</p>\n",
       "</div>"
      ],
      "text/plain": [
       "    id       key                                          instances  \\\n",
       "0    0      take  ['collect-from', 'collect-into', 'draw', 'fetc...   \n",
       "1    1       put  ['create', 'dose', 'lay', 'lay-down', 'lay-on'...   \n",
       "2    2      wash  ['clean', 'clean-around', 'clean-from', 'clean...   \n",
       "3    3      open  ['lever-open', 'open', 'open-in', 'open-on', '...   \n",
       "4    4     close  ['close', 'close-off', 'close-with', 'screw-on...   \n",
       "..  ..       ...                                                ...   \n",
       "92  92   prepare                         ['prepare', 'prepare-for']   \n",
       "93  93      bake                                           ['bake']   \n",
       "94  94      mark                                ['mark', 'mark-on']   \n",
       "95  95      bend                                           ['bend']   \n",
       "96  96  unfreeze                                       ['unfreeze']   \n",
       "\n",
       "      category  \n",
       "0     retrieve  \n",
       "1        leave  \n",
       "2        clean  \n",
       "3       access  \n",
       "4        block  \n",
       "..         ...  \n",
       "92  manipulate  \n",
       "93  manipulate  \n",
       "94  manipulate  \n",
       "95  manipulate  \n",
       "96     monitor  \n",
       "\n",
       "[97 rows x 4 columns]"
      ]
     },
     "execution_count": 4,
     "metadata": {},
     "output_type": "execute_result"
    }
   ],
   "source": [
    "import pandas as pd\n",
    "\n",
    "actions_data = pd.read_csv('/Users/rlopez/PTG/experiments/datasets/epic_kitchens/EPIC_100_verb_classes.csv')\n",
    "actions_data"
   ]
  },
  {
   "cell_type": "code",
   "execution_count": 5,
   "metadata": {},
   "outputs": [
    {
     "name": "stdout",
     "output_type": "stream",
     "text": [
      "Found 974 actions\n"
     ]
    }
   ],
   "source": [
    "import ast\n",
    "\n",
    "def load_action_groups():\n",
    "    action_groups = {}\n",
    "    for index, row in  actions_data.iterrows():\n",
    "        main_action = row['key']\n",
    "        related_actions = ast.literal_eval(row['instances'])\n",
    "        related_actions = [main_action] + related_actions\n",
    "        for  action in related_actions:\n",
    "            action_groups[ action] = [v for v in related_actions if v != action]\n",
    "    \n",
    "    return action_groups\n",
    "\n",
    "action_groups = load_action_groups()\n",
    "print('Found %d actions' % len(action_groups))"
   ]
  },
  {
   "cell_type": "code",
   "execution_count": 6,
   "metadata": {},
   "outputs": [
    {
     "data": {
      "text/html": [
       "<div>\n",
       "<style scoped>\n",
       "    .dataframe tbody tr th:only-of-type {\n",
       "        vertical-align: middle;\n",
       "    }\n",
       "\n",
       "    .dataframe tbody tr th {\n",
       "        vertical-align: top;\n",
       "    }\n",
       "\n",
       "    .dataframe thead th {\n",
       "        text-align: right;\n",
       "    }\n",
       "</style>\n",
       "<table border=\"1\" class=\"dataframe\">\n",
       "  <thead>\n",
       "    <tr style=\"text-align: right;\">\n",
       "      <th></th>\n",
       "      <th>index</th>\n",
       "      <th>input</th>\n",
       "      <th>name</th>\n",
       "      <th>qty</th>\n",
       "      <th>range_end</th>\n",
       "      <th>unit</th>\n",
       "      <th>comment</th>\n",
       "    </tr>\n",
       "  </thead>\n",
       "  <tbody>\n",
       "    <tr>\n",
       "      <th>0</th>\n",
       "      <td>0</td>\n",
       "      <td>1 1/4 cups cooked and pureed fresh butternut s...</td>\n",
       "      <td>butternut squash</td>\n",
       "      <td>1.25</td>\n",
       "      <td>0.0</td>\n",
       "      <td>cup</td>\n",
       "      <td>cooked and pureed fresh, or 1 10-ounce package...</td>\n",
       "    </tr>\n",
       "    <tr>\n",
       "      <th>1</th>\n",
       "      <td>1</td>\n",
       "      <td>1 cup peeled and cooked fresh chestnuts (about...</td>\n",
       "      <td>chestnuts</td>\n",
       "      <td>1.00</td>\n",
       "      <td>0.0</td>\n",
       "      <td>cup</td>\n",
       "      <td>peeled and cooked fresh (about 20), or 1 cup c...</td>\n",
       "    </tr>\n",
       "    <tr>\n",
       "      <th>2</th>\n",
       "      <td>2</td>\n",
       "      <td>1 medium-size onion, peeled and chopped</td>\n",
       "      <td>onion</td>\n",
       "      <td>1.00</td>\n",
       "      <td>0.0</td>\n",
       "      <td>NaN</td>\n",
       "      <td>medium-size, peeled and chopped</td>\n",
       "    </tr>\n",
       "    <tr>\n",
       "      <th>3</th>\n",
       "      <td>3</td>\n",
       "      <td>2 stalks celery, chopped coarse</td>\n",
       "      <td>celery</td>\n",
       "      <td>2.00</td>\n",
       "      <td>0.0</td>\n",
       "      <td>stalk</td>\n",
       "      <td>chopped coarse</td>\n",
       "    </tr>\n",
       "    <tr>\n",
       "      <th>4</th>\n",
       "      <td>4</td>\n",
       "      <td>1 1/2 tablespoons vegetable oil</td>\n",
       "      <td>vegetable oil</td>\n",
       "      <td>1.50</td>\n",
       "      <td>0.0</td>\n",
       "      <td>tablespoon</td>\n",
       "      <td>NaN</td>\n",
       "    </tr>\n",
       "    <tr>\n",
       "      <th>...</th>\n",
       "      <td>...</td>\n",
       "      <td>...</td>\n",
       "      <td>...</td>\n",
       "      <td>...</td>\n",
       "      <td>...</td>\n",
       "      <td>...</td>\n",
       "      <td>...</td>\n",
       "    </tr>\n",
       "    <tr>\n",
       "      <th>179202</th>\n",
       "      <td>179202</td>\n",
       "      <td>3/4 oz. pineapple juice</td>\n",
       "      <td>pineapple juice</td>\n",
       "      <td>0.75</td>\n",
       "      <td>0.0</td>\n",
       "      <td>ounce</td>\n",
       "      <td>NaN</td>\n",
       "    </tr>\n",
       "    <tr>\n",
       "      <th>179203</th>\n",
       "      <td>179203</td>\n",
       "      <td>1 tsp. fresh lemon juice</td>\n",
       "      <td>lemon juice</td>\n",
       "      <td>1.00</td>\n",
       "      <td>0.0</td>\n",
       "      <td>teaspoon</td>\n",
       "      <td>fresh</td>\n",
       "    </tr>\n",
       "    <tr>\n",
       "      <th>179204</th>\n",
       "      <td>179204</td>\n",
       "      <td>Angostura bitters</td>\n",
       "      <td>Angostura bitters</td>\n",
       "      <td>0.00</td>\n",
       "      <td>0.0</td>\n",
       "      <td>NaN</td>\n",
       "      <td>NaN</td>\n",
       "    </tr>\n",
       "    <tr>\n",
       "      <th>179205</th>\n",
       "      <td>179205</td>\n",
       "      <td>Wedge of pineapple</td>\n",
       "      <td>pineapple</td>\n",
       "      <td>1.00</td>\n",
       "      <td>0.0</td>\n",
       "      <td>wedge</td>\n",
       "      <td>NaN</td>\n",
       "    </tr>\n",
       "    <tr>\n",
       "      <th>179206</th>\n",
       "      <td>179206</td>\n",
       "      <td>Brandied cherry</td>\n",
       "      <td>Brandied cherry</td>\n",
       "      <td>0.00</td>\n",
       "      <td>0.0</td>\n",
       "      <td>NaN</td>\n",
       "      <td>NaN</td>\n",
       "    </tr>\n",
       "  </tbody>\n",
       "</table>\n",
       "<p>179207 rows × 7 columns</p>\n",
       "</div>"
      ],
      "text/plain": [
       "         index                                              input  \\\n",
       "0            0  1 1/4 cups cooked and pureed fresh butternut s...   \n",
       "1            1  1 cup peeled and cooked fresh chestnuts (about...   \n",
       "2            2            1 medium-size onion, peeled and chopped   \n",
       "3            3                    2 stalks celery, chopped coarse   \n",
       "4            4                    1 1/2 tablespoons vegetable oil   \n",
       "...        ...                                                ...   \n",
       "179202  179202                            3/4 oz. pineapple juice   \n",
       "179203  179203                           1 tsp. fresh lemon juice   \n",
       "179204  179204                                  Angostura bitters   \n",
       "179205  179205                                 Wedge of pineapple   \n",
       "179206  179206                                    Brandied cherry   \n",
       "\n",
       "                     name   qty  range_end        unit  \\\n",
       "0        butternut squash  1.25        0.0         cup   \n",
       "1               chestnuts  1.00        0.0         cup   \n",
       "2                   onion  1.00        0.0         NaN   \n",
       "3                  celery  2.00        0.0       stalk   \n",
       "4           vegetable oil  1.50        0.0  tablespoon   \n",
       "...                   ...   ...        ...         ...   \n",
       "179202    pineapple juice  0.75        0.0       ounce   \n",
       "179203        lemon juice  1.00        0.0    teaspoon   \n",
       "179204  Angostura bitters  0.00        0.0         NaN   \n",
       "179205          pineapple  1.00        0.0       wedge   \n",
       "179206    Brandied cherry  0.00        0.0         NaN   \n",
       "\n",
       "                                                  comment  \n",
       "0       cooked and pureed fresh, or 1 10-ounce package...  \n",
       "1       peeled and cooked fresh (about 20), or 1 cup c...  \n",
       "2                         medium-size, peeled and chopped  \n",
       "3                                          chopped coarse  \n",
       "4                                                     NaN  \n",
       "...                                                   ...  \n",
       "179202                                                NaN  \n",
       "179203                                              fresh  \n",
       "179204                                                NaN  \n",
       "179205                                                NaN  \n",
       "179206                                                NaN  \n",
       "\n",
       "[179207 rows x 7 columns]"
      ]
     },
     "execution_count": 6,
     "metadata": {},
     "output_type": "execute_result"
    }
   ],
   "source": [
    "nyt_data = pd.read_csv('/Users/rlopez/PTG/experiments/datasets/nyt/nyt-ingredients-snapshot-2015.csv')\n",
    "nyt_data"
   ]
  },
  {
   "cell_type": "code",
   "execution_count": 7,
   "metadata": {},
   "outputs": [
    {
     "name": "stdout",
     "output_type": "stream",
     "text": [
      "Found 779 unique ingredients: ['salt', 'garlic', 'olive oil', 'sugar', 'butter']...\n",
      "Found 52 unique units: ['cup', 'tablespoon', 'teaspoon', 'pound', 'ounce']...\n",
      "Found 60 unique quantities: ['1', '2', '0', '1/2', '1/4']...\n"
     ]
    }
   ],
   "source": [
    "from fractions import Fraction\n",
    "import math\n",
    "\n",
    "def get_frequent_entities(entity, min_frequency=20):\n",
    "    entity_counts = entity.value_counts()\n",
    "    entity_counts = entity_counts[entity_counts > min_frequency]\n",
    "    \n",
    "    return entity_counts.index.tolist()\n",
    "\n",
    "def create_fraction(number):\n",
    "    if number < 1:\n",
    "        fraction = str(Fraction(number).limit_denominator(10))\n",
    "        return fraction\n",
    "    else:\n",
    "        decimal_part, int_part  = math.modf(number)\n",
    "        if decimal_part == 0:\n",
    "            return str(int(int_part))\n",
    "        else:\n",
    "            fraction = str(Fraction(decimal_part).limit_denominator(10))\n",
    "            return '%d %s' % (int_part, fraction)\n",
    "        \n",
    "nyt_data['name'] = nyt_data['name'].str.lower()\n",
    "nyt_data['unit'] = nyt_data['unit'].str.lower()\n",
    "\n",
    "ingredients = get_frequent_entities(nyt_data['name'])\n",
    "units = get_frequent_entities(nyt_data['unit'])\n",
    "quantities = get_frequent_entities(nyt_data['qty'])\n",
    "quantities = [create_fraction(x)  for x in quantities]\n",
    "\n",
    "print('Found %d unique ingredients: %s...' % (len(ingredients), str(ingredients[:5])))\n",
    "print('Found %d unique units: %s...' % (len(units), str(units[:5])))\n",
    "print('Found %d unique quantities: %s...' % (len(quantities), str(quantities[:5])))\n",
    "\n",
    "corpus_recipe_entities = {'ingredients': ingredients, 'units': units, 'quantities': quantities}"
   ]
  },
  {
   "cell_type": "markdown",
   "metadata": {},
   "source": [
    "### Generating Positive Examples"
   ]
  },
  {
   "cell_type": "code",
   "execution_count": 8,
   "metadata": {},
   "outputs": [],
   "source": [
    "import nltk\n",
    "import random\n",
    "from nltk.stem.wordnet import WordNetLemmatizer\n",
    "\n",
    "random.seed(0)\n",
    "lemmatizer = WordNetLemmatizer()\n",
    "\n",
    "    \n",
    "def generate_positive_instances(recipe_steps, max_new_actions=2):\n",
    "    recipe_actions = []\n",
    "    \n",
    "    for recipe_step in recipe_steps:\n",
    "        print('o-----------begin-----------o')\n",
    "        print('Step:', recipe_step)\n",
    "        step_actions = extract_step_actions(recipe_step)\n",
    "        print('Actions:', create_phrases(step_actions))\n",
    "        related_actions = search_related_actions(step_actions, max_new_actions)\n",
    "        new_actions = create_phrases(related_actions)\n",
    "        print('New Actions:', new_actions)\n",
    "        recipe_actions.append({'step': recipe_step, 'actions': step_actions})\n",
    "        print('o------------end------------o')\n",
    "    \n",
    "\n",
    "def extract_step_actions(recipe_step):\n",
    "    sentences = nltk.sent_tokenize(recipe_step)\n",
    "    step_actions = []\n",
    "    for sentence in sentences:\n",
    "        tokens, tags = tagger.predict_entities(sentence)\n",
    "        sentence_actions = tagger.extract_action_relations(tokens, tags)\n",
    "        step_actions += sentence_actions\n",
    "\n",
    "    return step_actions\n",
    "\n",
    "\n",
    "def search_related_actions(action_tuples, max_new_actions):\n",
    "    related_actions = []\n",
    "    \n",
    "    for action, objects_in_action in action_tuples:\n",
    "        action = convert_to_infinitive(action)\n",
    "        if action in action_groups:\n",
    "            all_related_actions = action_groups[action]\n",
    "            if len(all_related_actions) > max_new_actions:\n",
    "                all_related_actions = random.sample(all_related_actions, max_new_actions)\n",
    "            selected_related_actions = [(a, objects_in_action) for a in all_related_actions]\n",
    "            related_actions += selected_related_actions\n",
    "        \n",
    "    return related_actions\n",
    "\n",
    "\n",
    "def convert_to_infinitive(verb):\n",
    "    return lemmatizer.lemmatize(verb.lower(), 'v')\n",
    "\n",
    "def create_phrases(action_tuples):\n",
    "    phrases = []\n",
    "    \n",
    "    for action, objects_in_action in action_tuples:\n",
    "        phrase = action.capitalize()\n",
    "        if objects_in_action is not None:\n",
    "            phrase += ' ' + objects_in_action\n",
    "        phrases.append(phrase)\n",
    "    \n",
    "    return phrases\n",
    "    "
   ]
  },
  {
   "cell_type": "code",
   "execution_count": 9,
   "metadata": {},
   "outputs": [],
   "source": [
    "import json\n",
    "\n",
    "\n",
    "def load_mit_recipe(recipe_id):\n",
    "    with open('../../resource/recipes_oct_eval/recipe_%s.json' % recipe_id) as fin:\n",
    "        recipe_data = json.load(fin)\n",
    "        \n",
    "    recipe_title = recipe_data['title']\n",
    "    recipe_ingredients = [x for x in recipe_data['ingredients']]\n",
    "    recipe_steps = [x for x in recipe_data['steps']]\n",
    "    print('Recipe \"%s\" loaded!' % recipe_title)\n",
    "    return (recipe_title, recipe_ingredients, recipe_steps)\n",
    "    "
   ]
  },
  {
   "cell_type": "code",
   "execution_count": 10,
   "metadata": {},
   "outputs": [
    {
     "name": "stdout",
     "output_type": "stream",
     "text": [
      "Recipe \"Pour-over Coffee\" loaded!\n"
     ]
    }
   ],
   "source": [
    "recipe_title, recipe_ingredients, recipe_steps = load_mit_recipe('B')"
   ]
  },
  {
   "cell_type": "code",
   "execution_count": 11,
   "metadata": {},
   "outputs": [
    {
     "name": "stdout",
     "output_type": "stream",
     "text": [
      "o-----------begin-----------o\n",
      "Step: Measure 12 ounces of cold water and transfer to a kettle.\n",
      "Actions: ['Measure water']\n",
      "New Actions: ['Measure-in water', 'Measure-out water']\n",
      "o------------end------------o\n",
      "o-----------begin-----------o\n",
      "Step: Assemble the filter cone.  Place the dripper on top of a coffee mug.\n",
      "Actions: ['Assemble filter', 'Assemble cone', 'Place coffee', 'Place mug']\n",
      "New Actions: ['Attach filter', 'Clip-on filter', 'Plug-into cone', 'Plug-in cone', 'Save coffee', 'Replace coffee', 'Combine-from mug', 'Return mug']\n",
      "o------------end------------o\n",
      "o-----------begin-----------o\n",
      "Step: Prepare the filter insert by folding the paper filter in half to create a semi-circle, and in half again to create a quarter-circle. Place the paper filter in the dripper and spread open to create a cone.\n",
      "Actions: ['Prepare', 'Folding', 'Create', 'Create', 'Place paper', 'Create']\n",
      "New Actions: ['Prepare-for', 'Fold-up', 'Fold-into', 'Put-between', 'Place-on', 'Put-up', 'Place-on', 'Lie paper', 'Put-onto paper', 'Place-onto', 'Reposition']\n",
      "o------------end------------o\n",
      "o-----------begin-----------o\n",
      "Step: Weigh the coffee beans and grind until the coffee grounds are the consistency of coarse sand, about 20 seconds. Transfer the grounds to the filter cone.\n",
      "Actions: ['Weigh coffee', 'Weigh beans', 'Are', 'Transfer grounds']\n",
      "New Actions: ['Measure coffee', 'Measure-in coffee', 'Measure-into beans', 'Measure-out beans', 'Transfer-from grounds', 'Move grounds']\n",
      "o------------end------------o\n",
      "o-----------begin-----------o\n",
      "Step: Check the temperature of the water.\n",
      "Actions: ['Check water']\n",
      "New Actions: ['Inspect water', 'Look-in water']\n",
      "o------------end------------o\n",
      "o-----------begin-----------o\n",
      "Step: Pour a small amount of water in the filter to wet the grounds. Wait about 30 seconds.\n",
      "Actions: ['Pour water', 'Wet']\n",
      "New Actions: ['Pour-over water', 'Pour-into water', 'Water', 'Damp']\n",
      "o------------end------------o\n",
      "o-----------begin-----------o\n",
      "Step: Slowly pour the rest of the water over the grounds in a circular motion. Do not overfill beyond the top of the paper filter.\n",
      "Actions: ['Pour water', 'Overfill']\n",
      "New Actions: ['Tip-in water', 'Pour-inside water']\n",
      "o------------end------------o\n",
      "o-----------begin-----------o\n",
      "Step: Let the coffee drain completely into the mug before removing the dripper. Discard the paper filter and coffee grounds.\n",
      "Actions: ['Let coffee', 'Drain', 'Removing']\n",
      "New Actions: ['Let-go coffee', 'Let-go coffee', 'Drain-out', 'Filter', 'Remove-off', 'Dispense']\n",
      "o------------end------------o\n"
     ]
    }
   ],
   "source": [
    "generate_positive_instances(recipe_steps)"
   ]
  },
  {
   "cell_type": "markdown",
   "metadata": {},
   "source": [
    "### Generating Negative Examples"
   ]
  },
  {
   "cell_type": "code",
   "execution_count": 12,
   "metadata": {},
   "outputs": [],
   "source": [
    "import random\n",
    "random.seed(0)\n",
    "\n",
    "def generate_negative_instances(recipe_sentences, entities_to_replace):\n",
    "    create_wrong_recipe(recipe_sentences, entities_to_replace)\n",
    "    \n",
    "def create_wrong_recipe(recipe_sentences, entities_to_replace):\n",
    "    recipe_entities = {'tokens': [], 'tags': []}\n",
    "    \n",
    "    for recipe_sentence in recipe_sentences:\n",
    "        tokens, tags = tagger.predict_entities(recipe_sentence)\n",
    "        recipe_entities['tokens'].append(list(tokens))\n",
    "        recipe_entities['tags'].append(list(tags))\n",
    "        \n",
    "    new_recipe_entities = replace_entity(recipe_entities, entities_to_replace)\n",
    "    print_changes(recipe_entities, new_recipe_entities, entities_to_replace)\n",
    "    \n",
    "def replace_entity(recipe_entities, entities_to_replace):\n",
    "    new_recipe_entities = {'tokens': [], 'tags': recipe_entities['tags']}\n",
    "    replacement_mapping = {}\n",
    "    \n",
    "    for sentence_tokens, sentence_tags in zip(recipe_entities['tokens'], recipe_entities['tags']):\n",
    "        new_sentence_tokens = []\n",
    "        for token, tag in zip(sentence_tokens, sentence_tags):\n",
    "            if tag in entities_to_replace:\n",
    "                if tag == 'UNIT':\n",
    "                    new_token = select_random(token, corpus_recipe_entities['units'], replacement_mapping)\n",
    "                elif tag == 'INGREDIENT':\n",
    "                    new_token = select_random(token, corpus_recipe_entities['ingredients'], replacement_mapping)\n",
    "                elif tag == 'QUANTITY':\n",
    "                    new_token = select_random(token, corpus_recipe_entities['quantities'], replacement_mapping)\n",
    "                replacement_mapping[token] = new_token\n",
    "                token = new_token\n",
    "            new_sentence_tokens.append(token)\n",
    "            \n",
    "        new_recipe_entities['tokens'].append(new_sentence_tokens)\n",
    "    \n",
    "    return new_recipe_entities\n",
    "                \n",
    "def select_random(token, options, replacement_mapping):\n",
    "    if token in replacement_mapping:\n",
    "        return replacement_mapping[token]\n",
    "    \n",
    "    return random.choice(options)\n",
    "    \n",
    "def print_recipe_text(recipe_title, recipe_entities):\n",
    "    print('\\n'.join([' '.join(x) for x in recipe_entities['tokens']]))\n",
    "\n",
    "def print_recipe(recipe_title, recipe_entities, display_entities):\n",
    "    for sentence_tokens, sentence_tags in zip(recipe_entities['tokens'], recipe_entities['tags']):\n",
    "        tagger.plot_entities(sentence_tokens, sentence_tags, display_entities)\n",
    "        \n",
    "def print_changes(original_recipe_entities, new_recipe_entities, display_entities):\n",
    "    for index in range(len(original_recipe_entities['tokens'])):\n",
    "        sentence_tags = original_recipe_entities['tags'][index]\n",
    "        sentence_tokens = original_recipe_entities['tokens'][index]\n",
    "        new_sentence_tokens = new_recipe_entities['tokens'][index]\n",
    "        print('o-----------begin-----------o')\n",
    "        print('Original step:')\n",
    "        tagger.plot_entities(sentence_tokens, sentence_tags, display_entities)\n",
    "        print('Modified step:')\n",
    "        tagger.plot_entities(new_sentence_tokens, sentence_tags, display_entities)\n",
    "        print('o------------end------------o')"
   ]
  },
  {
   "cell_type": "markdown",
   "metadata": {},
   "source": [
    "#### Replacing Ingredients"
   ]
  },
  {
   "cell_type": "code",
   "execution_count": 13,
   "metadata": {},
   "outputs": [
    {
     "name": "stdout",
     "output_type": "stream",
     "text": [
      "o-----------begin-----------o\n",
      "Original step:\n"
     ]
    },
    {
     "data": {
      "text/html": [
       "<span class=\"tex2jax_ignore\"><div class=\"entities\" style=\"line-height: 2.5; direction: ltr\">Measure 12 ounces of cold \n",
       "<mark class=\"entity\" style=\"background: orange; padding: 0.45em 0.6em; margin: 0 0.25em; line-height: 1; border-radius: 0.35em;\">\n",
       "    water\n",
       "    <span style=\"font-size: 0.8em; font-weight: bold; line-height: 1; border-radius: 0.35em; vertical-align: middle; margin-left: 0.5rem\">INGREDIENT</span>\n",
       "</mark>\n",
       " and transfer to a kettle.</div></span>"
      ],
      "text/plain": [
       "<IPython.core.display.HTML object>"
      ]
     },
     "metadata": {},
     "output_type": "display_data"
    },
    {
     "name": "stdout",
     "output_type": "stream",
     "text": [
      "Modified step:\n"
     ]
    },
    {
     "data": {
      "text/html": [
       "<span class=\"tex2jax_ignore\"><div class=\"entities\" style=\"line-height: 2.5; direction: ltr\">Measure 12 ounces of cold \n",
       "<mark class=\"entity\" style=\"background: orange; padding: 0.45em 0.6em; margin: 0 0.25em; line-height: 1; border-radius: 0.35em;\">\n",
       "    chopped parsley\n",
       "    <span style=\"font-size: 0.8em; font-weight: bold; line-height: 1; border-radius: 0.35em; vertical-align: middle; margin-left: 0.5rem\">INGREDIENT</span>\n",
       "</mark>\n",
       " and transfer to a kettle.</div></span>"
      ],
      "text/plain": [
       "<IPython.core.display.HTML object>"
      ]
     },
     "metadata": {},
     "output_type": "display_data"
    },
    {
     "name": "stdout",
     "output_type": "stream",
     "text": [
      "o------------end------------o\n",
      "o-----------begin-----------o\n",
      "Original step:\n"
     ]
    },
    {
     "data": {
      "text/html": [
       "<span class=\"tex2jax_ignore\"><div class=\"entities\" style=\"line-height: 2.5; direction: ltr\">Assemble the \n",
       "<mark class=\"entity\" style=\"background: orange; padding: 0.45em 0.6em; margin: 0 0.25em; line-height: 1; border-radius: 0.35em;\">\n",
       "    filter\n",
       "    <span style=\"font-size: 0.8em; font-weight: bold; line-height: 1; border-radius: 0.35em; vertical-align: middle; margin-left: 0.5rem\">INGREDIENT</span>\n",
       "</mark>\n",
       " \n",
       "<mark class=\"entity\" style=\"background: orange; padding: 0.45em 0.6em; margin: 0 0.25em; line-height: 1; border-radius: 0.35em;\">\n",
       "    cone.\n",
       "    <span style=\"font-size: 0.8em; font-weight: bold; line-height: 1; border-radius: 0.35em; vertical-align: middle; margin-left: 0.5rem\">INGREDIENT</span>\n",
       "</mark>\n",
       " Place the dripper on top of a \n",
       "<mark class=\"entity\" style=\"background: orange; padding: 0.45em 0.6em; margin: 0 0.25em; line-height: 1; border-radius: 0.35em;\">\n",
       "    coffee\n",
       "    <span style=\"font-size: 0.8em; font-weight: bold; line-height: 1; border-radius: 0.35em; vertical-align: middle; margin-left: 0.5rem\">INGREDIENT</span>\n",
       "</mark>\n",
       " mug.</div></span>"
      ],
      "text/plain": [
       "<IPython.core.display.HTML object>"
      ]
     },
     "metadata": {},
     "output_type": "display_data"
    },
    {
     "name": "stdout",
     "output_type": "stream",
     "text": [
      "Modified step:\n"
     ]
    },
    {
     "data": {
      "text/html": [
       "<span class=\"tex2jax_ignore\"><div class=\"entities\" style=\"line-height: 2.5; direction: ltr\">Assemble the \n",
       "<mark class=\"entity\" style=\"background: orange; padding: 0.45em 0.6em; margin: 0 0.25em; line-height: 1; border-radius: 0.35em;\">\n",
       "    ground turmeric\n",
       "    <span style=\"font-size: 0.8em; font-weight: bold; line-height: 1; border-radius: 0.35em; vertical-align: middle; margin-left: 0.5rem\">INGREDIENT</span>\n",
       "</mark>\n",
       " \n",
       "<mark class=\"entity\" style=\"background: orange; padding: 0.45em 0.6em; margin: 0 0.25em; line-height: 1; border-radius: 0.35em;\">\n",
       "    country bread\n",
       "    <span style=\"font-size: 0.8em; font-weight: bold; line-height: 1; border-radius: 0.35em; vertical-align: middle; margin-left: 0.5rem\">INGREDIENT</span>\n",
       "</mark>\n",
       " Place the dripper on top of a \n",
       "<mark class=\"entity\" style=\"background: orange; padding: 0.45em 0.6em; margin: 0 0.25em; line-height: 1; border-radius: 0.35em;\">\n",
       "    chicken stock\n",
       "    <span style=\"font-size: 0.8em; font-weight: bold; line-height: 1; border-radius: 0.35em; vertical-align: middle; margin-left: 0.5rem\">INGREDIENT</span>\n",
       "</mark>\n",
       " mug.</div></span>"
      ],
      "text/plain": [
       "<IPython.core.display.HTML object>"
      ]
     },
     "metadata": {},
     "output_type": "display_data"
    },
    {
     "name": "stdout",
     "output_type": "stream",
     "text": [
      "o------------end------------o\n",
      "o-----------begin-----------o\n",
      "Original step:\n"
     ]
    },
    {
     "data": {
      "text/html": [
       "<span class=\"tex2jax_ignore\"><div class=\"entities\" style=\"line-height: 2.5; direction: ltr\">Prepare the filter insert by folding the paper filter in half to create a semi-circle, and in half again to create a quarter-circle. Place the paper filter in the dripper and spread open to create a cone.</div></span>"
      ],
      "text/plain": [
       "<IPython.core.display.HTML object>"
      ]
     },
     "metadata": {},
     "output_type": "display_data"
    },
    {
     "name": "stdout",
     "output_type": "stream",
     "text": [
      "Modified step:\n"
     ]
    },
    {
     "data": {
      "text/html": [
       "<span class=\"tex2jax_ignore\"><div class=\"entities\" style=\"line-height: 2.5; direction: ltr\">Prepare the filter insert by folding the paper filter in half to create a semi-circle, and in half again to create a quarter-circle. Place the paper filter in the dripper and spread open to create a cone.</div></span>"
      ],
      "text/plain": [
       "<IPython.core.display.HTML object>"
      ]
     },
     "metadata": {},
     "output_type": "display_data"
    },
    {
     "name": "stdout",
     "output_type": "stream",
     "text": [
      "o------------end------------o\n",
      "o-----------begin-----------o\n",
      "Original step:\n"
     ]
    },
    {
     "data": {
      "text/html": [
       "<span class=\"tex2jax_ignore\"><div class=\"entities\" style=\"line-height: 2.5; direction: ltr\">Weigh the \n",
       "<mark class=\"entity\" style=\"background: orange; padding: 0.45em 0.6em; margin: 0 0.25em; line-height: 1; border-radius: 0.35em;\">\n",
       "    coffee\n",
       "    <span style=\"font-size: 0.8em; font-weight: bold; line-height: 1; border-radius: 0.35em; vertical-align: middle; margin-left: 0.5rem\">INGREDIENT</span>\n",
       "</mark>\n",
       " \n",
       "<mark class=\"entity\" style=\"background: orange; padding: 0.45em 0.6em; margin: 0 0.25em; line-height: 1; border-radius: 0.35em;\">\n",
       "    beans\n",
       "    <span style=\"font-size: 0.8em; font-weight: bold; line-height: 1; border-radius: 0.35em; vertical-align: middle; margin-left: 0.5rem\">INGREDIENT</span>\n",
       "</mark>\n",
       " and grind until the coffee grounds are the consistency of coarse sand, about 20 seconds. Transfer the grounds to the filter cone.</div></span>"
      ],
      "text/plain": [
       "<IPython.core.display.HTML object>"
      ]
     },
     "metadata": {},
     "output_type": "display_data"
    },
    {
     "name": "stdout",
     "output_type": "stream",
     "text": [
      "Modified step:\n"
     ]
    },
    {
     "data": {
      "text/html": [
       "<span class=\"tex2jax_ignore\"><div class=\"entities\" style=\"line-height: 2.5; direction: ltr\">Weigh the \n",
       "<mark class=\"entity\" style=\"background: orange; padding: 0.45em 0.6em; margin: 0 0.25em; line-height: 1; border-radius: 0.35em;\">\n",
       "    chicken stock\n",
       "    <span style=\"font-size: 0.8em; font-weight: bold; line-height: 1; border-radius: 0.35em; vertical-align: middle; margin-left: 0.5rem\">INGREDIENT</span>\n",
       "</mark>\n",
       " \n",
       "<mark class=\"entity\" style=\"background: orange; padding: 0.45em 0.6em; margin: 0 0.25em; line-height: 1; border-radius: 0.35em;\">\n",
       "    ricotta\n",
       "    <span style=\"font-size: 0.8em; font-weight: bold; line-height: 1; border-radius: 0.35em; vertical-align: middle; margin-left: 0.5rem\">INGREDIENT</span>\n",
       "</mark>\n",
       " and grind until the coffee grounds are the consistency of coarse sand, about 20 seconds. Transfer the grounds to the filter cone.</div></span>"
      ],
      "text/plain": [
       "<IPython.core.display.HTML object>"
      ]
     },
     "metadata": {},
     "output_type": "display_data"
    },
    {
     "name": "stdout",
     "output_type": "stream",
     "text": [
      "o------------end------------o\n",
      "o-----------begin-----------o\n",
      "Original step:\n"
     ]
    },
    {
     "data": {
      "text/html": [
       "<span class=\"tex2jax_ignore\"><div class=\"entities\" style=\"line-height: 2.5; direction: ltr\">Check the temperature of the \n",
       "<mark class=\"entity\" style=\"background: orange; padding: 0.45em 0.6em; margin: 0 0.25em; line-height: 1; border-radius: 0.35em;\">\n",
       "    water.\n",
       "    <span style=\"font-size: 0.8em; font-weight: bold; line-height: 1; border-radius: 0.35em; vertical-align: middle; margin-left: 0.5rem\">INGREDIENT</span>\n",
       "</mark>\n",
       "</div></span>"
      ],
      "text/plain": [
       "<IPython.core.display.HTML object>"
      ]
     },
     "metadata": {},
     "output_type": "display_data"
    },
    {
     "name": "stdout",
     "output_type": "stream",
     "text": [
      "Modified step:\n"
     ]
    },
    {
     "data": {
      "text/html": [
       "<span class=\"tex2jax_ignore\"><div class=\"entities\" style=\"line-height: 2.5; direction: ltr\">Check the temperature of the \n",
       "<mark class=\"entity\" style=\"background: orange; padding: 0.45em 0.6em; margin: 0 0.25em; line-height: 1; border-radius: 0.35em;\">\n",
       "    tarragon vinegar\n",
       "    <span style=\"font-size: 0.8em; font-weight: bold; line-height: 1; border-radius: 0.35em; vertical-align: middle; margin-left: 0.5rem\">INGREDIENT</span>\n",
       "</mark>\n",
       "</div></span>"
      ],
      "text/plain": [
       "<IPython.core.display.HTML object>"
      ]
     },
     "metadata": {},
     "output_type": "display_data"
    },
    {
     "name": "stdout",
     "output_type": "stream",
     "text": [
      "o------------end------------o\n",
      "o-----------begin-----------o\n",
      "Original step:\n"
     ]
    },
    {
     "data": {
      "text/html": [
       "<span class=\"tex2jax_ignore\"><div class=\"entities\" style=\"line-height: 2.5; direction: ltr\">Pour a small amount of \n",
       "<mark class=\"entity\" style=\"background: orange; padding: 0.45em 0.6em; margin: 0 0.25em; line-height: 1; border-radius: 0.35em;\">\n",
       "    water\n",
       "    <span style=\"font-size: 0.8em; font-weight: bold; line-height: 1; border-radius: 0.35em; vertical-align: middle; margin-left: 0.5rem\">INGREDIENT</span>\n",
       "</mark>\n",
       " in the filter to wet the grounds. Wait about 30 seconds.</div></span>"
      ],
      "text/plain": [
       "<IPython.core.display.HTML object>"
      ]
     },
     "metadata": {},
     "output_type": "display_data"
    },
    {
     "name": "stdout",
     "output_type": "stream",
     "text": [
      "Modified step:\n"
     ]
    },
    {
     "data": {
      "text/html": [
       "<span class=\"tex2jax_ignore\"><div class=\"entities\" style=\"line-height: 2.5; direction: ltr\">Pour a small amount of \n",
       "<mark class=\"entity\" style=\"background: orange; padding: 0.45em 0.6em; margin: 0 0.25em; line-height: 1; border-radius: 0.35em;\">\n",
       "    chopped parsley\n",
       "    <span style=\"font-size: 0.8em; font-weight: bold; line-height: 1; border-radius: 0.35em; vertical-align: middle; margin-left: 0.5rem\">INGREDIENT</span>\n",
       "</mark>\n",
       " in the filter to wet the grounds. Wait about 30 seconds.</div></span>"
      ],
      "text/plain": [
       "<IPython.core.display.HTML object>"
      ]
     },
     "metadata": {},
     "output_type": "display_data"
    },
    {
     "name": "stdout",
     "output_type": "stream",
     "text": [
      "o------------end------------o\n",
      "o-----------begin-----------o\n",
      "Original step:\n"
     ]
    },
    {
     "data": {
      "text/html": [
       "<span class=\"tex2jax_ignore\"><div class=\"entities\" style=\"line-height: 2.5; direction: ltr\">Slowly pour the rest of the \n",
       "<mark class=\"entity\" style=\"background: orange; padding: 0.45em 0.6em; margin: 0 0.25em; line-height: 1; border-radius: 0.35em;\">\n",
       "    water\n",
       "    <span style=\"font-size: 0.8em; font-weight: bold; line-height: 1; border-radius: 0.35em; vertical-align: middle; margin-left: 0.5rem\">INGREDIENT</span>\n",
       "</mark>\n",
       " over the grounds in a circular motion. Do not overfill beyond the top of the paper filter.</div></span>"
      ],
      "text/plain": [
       "<IPython.core.display.HTML object>"
      ]
     },
     "metadata": {},
     "output_type": "display_data"
    },
    {
     "name": "stdout",
     "output_type": "stream",
     "text": [
      "Modified step:\n"
     ]
    },
    {
     "data": {
      "text/html": [
       "<span class=\"tex2jax_ignore\"><div class=\"entities\" style=\"line-height: 2.5; direction: ltr\">Slowly pour the rest of the \n",
       "<mark class=\"entity\" style=\"background: orange; padding: 0.45em 0.6em; margin: 0 0.25em; line-height: 1; border-radius: 0.35em;\">\n",
       "    chopped parsley\n",
       "    <span style=\"font-size: 0.8em; font-weight: bold; line-height: 1; border-radius: 0.35em; vertical-align: middle; margin-left: 0.5rem\">INGREDIENT</span>\n",
       "</mark>\n",
       " over the grounds in a circular motion. Do not overfill beyond the top of the paper filter.</div></span>"
      ],
      "text/plain": [
       "<IPython.core.display.HTML object>"
      ]
     },
     "metadata": {},
     "output_type": "display_data"
    },
    {
     "name": "stdout",
     "output_type": "stream",
     "text": [
      "o------------end------------o\n",
      "o-----------begin-----------o\n",
      "Original step:\n"
     ]
    },
    {
     "data": {
      "text/html": [
       "<span class=\"tex2jax_ignore\"><div class=\"entities\" style=\"line-height: 2.5; direction: ltr\">Let the \n",
       "<mark class=\"entity\" style=\"background: orange; padding: 0.45em 0.6em; margin: 0 0.25em; line-height: 1; border-radius: 0.35em;\">\n",
       "    coffee\n",
       "    <span style=\"font-size: 0.8em; font-weight: bold; line-height: 1; border-radius: 0.35em; vertical-align: middle; margin-left: 0.5rem\">INGREDIENT</span>\n",
       "</mark>\n",
       " drain completely into the mug before removing the dripper. Discard the paper filter and coffee grounds.</div></span>"
      ],
      "text/plain": [
       "<IPython.core.display.HTML object>"
      ]
     },
     "metadata": {},
     "output_type": "display_data"
    },
    {
     "name": "stdout",
     "output_type": "stream",
     "text": [
      "Modified step:\n"
     ]
    },
    {
     "data": {
      "text/html": [
       "<span class=\"tex2jax_ignore\"><div class=\"entities\" style=\"line-height: 2.5; direction: ltr\">Let the \n",
       "<mark class=\"entity\" style=\"background: orange; padding: 0.45em 0.6em; margin: 0 0.25em; line-height: 1; border-radius: 0.35em;\">\n",
       "    chicken stock\n",
       "    <span style=\"font-size: 0.8em; font-weight: bold; line-height: 1; border-radius: 0.35em; vertical-align: middle; margin-left: 0.5rem\">INGREDIENT</span>\n",
       "</mark>\n",
       " drain completely into the mug before removing the dripper. Discard the paper filter and coffee grounds.</div></span>"
      ],
      "text/plain": [
       "<IPython.core.display.HTML object>"
      ]
     },
     "metadata": {},
     "output_type": "display_data"
    },
    {
     "name": "stdout",
     "output_type": "stream",
     "text": [
      "o------------end------------o\n"
     ]
    }
   ],
   "source": [
    "generate_negative_instances(recipe_steps, ['INGREDIENT'])"
   ]
  },
  {
   "cell_type": "markdown",
   "metadata": {},
   "source": [
    "#### Replacing Quantities"
   ]
  },
  {
   "cell_type": "code",
   "execution_count": 14,
   "metadata": {},
   "outputs": [
    {
     "name": "stdout",
     "output_type": "stream",
     "text": [
      "o-----------begin-----------o\n",
      "Original step:\n"
     ]
    },
    {
     "data": {
      "text/html": [
       "<span class=\"tex2jax_ignore\"><div class=\"entities\" style=\"line-height: 2.5; direction: ltr\">Measure \n",
       "<mark class=\"entity\" style=\"background: gray; padding: 0.45em 0.6em; margin: 0 0.25em; line-height: 1; border-radius: 0.35em;\">\n",
       "    12\n",
       "    <span style=\"font-size: 0.8em; font-weight: bold; line-height: 1; border-radius: 0.35em; vertical-align: middle; margin-left: 0.5rem\">QUANTITY</span>\n",
       "</mark>\n",
       " ounces of cold water and transfer to a kettle.</div></span>"
      ],
      "text/plain": [
       "<IPython.core.display.HTML object>"
      ]
     },
     "metadata": {},
     "output_type": "display_data"
    },
    {
     "name": "stdout",
     "output_type": "stream",
     "text": [
      "Modified step:\n"
     ]
    },
    {
     "data": {
      "text/html": [
       "<span class=\"tex2jax_ignore\"><div class=\"entities\" style=\"line-height: 2.5; direction: ltr\">Measure \n",
       "<mark class=\"entity\" style=\"background: gray; padding: 0.45em 0.6em; margin: 0 0.25em; line-height: 1; border-radius: 0.35em;\">\n",
       "    4 1/2\n",
       "    <span style=\"font-size: 0.8em; font-weight: bold; line-height: 1; border-radius: 0.35em; vertical-align: middle; margin-left: 0.5rem\">QUANTITY</span>\n",
       "</mark>\n",
       " ounces of cold water and transfer to a kettle.</div></span>"
      ],
      "text/plain": [
       "<IPython.core.display.HTML object>"
      ]
     },
     "metadata": {},
     "output_type": "display_data"
    },
    {
     "name": "stdout",
     "output_type": "stream",
     "text": [
      "o------------end------------o\n",
      "o-----------begin-----------o\n",
      "Original step:\n"
     ]
    },
    {
     "data": {
      "text/html": [
       "<span class=\"tex2jax_ignore\"><div class=\"entities\" style=\"line-height: 2.5; direction: ltr\">Assemble the filter cone. Place the dripper on top of a coffee mug.</div></span>"
      ],
      "text/plain": [
       "<IPython.core.display.HTML object>"
      ]
     },
     "metadata": {},
     "output_type": "display_data"
    },
    {
     "name": "stdout",
     "output_type": "stream",
     "text": [
      "Modified step:\n"
     ]
    },
    {
     "data": {
      "text/html": [
       "<span class=\"tex2jax_ignore\"><div class=\"entities\" style=\"line-height: 2.5; direction: ltr\">Assemble the filter cone. Place the dripper on top of a coffee mug.</div></span>"
      ],
      "text/plain": [
       "<IPython.core.display.HTML object>"
      ]
     },
     "metadata": {},
     "output_type": "display_data"
    },
    {
     "name": "stdout",
     "output_type": "stream",
     "text": [
      "o------------end------------o\n",
      "o-----------begin-----------o\n",
      "Original step:\n"
     ]
    },
    {
     "data": {
      "text/html": [
       "<span class=\"tex2jax_ignore\"><div class=\"entities\" style=\"line-height: 2.5; direction: ltr\">Prepare the filter insert by folding the paper filter in half to create a semi-circle, and in half again to create a quarter-circle. Place the paper filter in the dripper and spread open to create a cone.</div></span>"
      ],
      "text/plain": [
       "<IPython.core.display.HTML object>"
      ]
     },
     "metadata": {},
     "output_type": "display_data"
    },
    {
     "name": "stdout",
     "output_type": "stream",
     "text": [
      "Modified step:\n"
     ]
    },
    {
     "data": {
      "text/html": [
       "<span class=\"tex2jax_ignore\"><div class=\"entities\" style=\"line-height: 2.5; direction: ltr\">Prepare the filter insert by folding the paper filter in half to create a semi-circle, and in half again to create a quarter-circle. Place the paper filter in the dripper and spread open to create a cone.</div></span>"
      ],
      "text/plain": [
       "<IPython.core.display.HTML object>"
      ]
     },
     "metadata": {},
     "output_type": "display_data"
    },
    {
     "name": "stdout",
     "output_type": "stream",
     "text": [
      "o------------end------------o\n",
      "o-----------begin-----------o\n",
      "Original step:\n"
     ]
    },
    {
     "data": {
      "text/html": [
       "<span class=\"tex2jax_ignore\"><div class=\"entities\" style=\"line-height: 2.5; direction: ltr\">Weigh the coffee beans and grind until the coffee grounds are the consistency of coarse sand, about 20 seconds. Transfer the grounds to the filter cone.</div></span>"
      ],
      "text/plain": [
       "<IPython.core.display.HTML object>"
      ]
     },
     "metadata": {},
     "output_type": "display_data"
    },
    {
     "name": "stdout",
     "output_type": "stream",
     "text": [
      "Modified step:\n"
     ]
    },
    {
     "data": {
      "text/html": [
       "<span class=\"tex2jax_ignore\"><div class=\"entities\" style=\"line-height: 2.5; direction: ltr\">Weigh the coffee beans and grind until the coffee grounds are the consistency of coarse sand, about 20 seconds. Transfer the grounds to the filter cone.</div></span>"
      ],
      "text/plain": [
       "<IPython.core.display.HTML object>"
      ]
     },
     "metadata": {},
     "output_type": "display_data"
    },
    {
     "name": "stdout",
     "output_type": "stream",
     "text": [
      "o------------end------------o\n",
      "o-----------begin-----------o\n",
      "Original step:\n"
     ]
    },
    {
     "data": {
      "text/html": [
       "<span class=\"tex2jax_ignore\"><div class=\"entities\" style=\"line-height: 2.5; direction: ltr\">Check the temperature of the water.</div></span>"
      ],
      "text/plain": [
       "<IPython.core.display.HTML object>"
      ]
     },
     "metadata": {},
     "output_type": "display_data"
    },
    {
     "name": "stdout",
     "output_type": "stream",
     "text": [
      "Modified step:\n"
     ]
    },
    {
     "data": {
      "text/html": [
       "<span class=\"tex2jax_ignore\"><div class=\"entities\" style=\"line-height: 2.5; direction: ltr\">Check the temperature of the water.</div></span>"
      ],
      "text/plain": [
       "<IPython.core.display.HTML object>"
      ]
     },
     "metadata": {},
     "output_type": "display_data"
    },
    {
     "name": "stdout",
     "output_type": "stream",
     "text": [
      "o------------end------------o\n",
      "o-----------begin-----------o\n",
      "Original step:\n"
     ]
    },
    {
     "data": {
      "text/html": [
       "<span class=\"tex2jax_ignore\"><div class=\"entities\" style=\"line-height: 2.5; direction: ltr\">Pour a small amount of water in the filter to wet the grounds. Wait about 30 seconds.</div></span>"
      ],
      "text/plain": [
       "<IPython.core.display.HTML object>"
      ]
     },
     "metadata": {},
     "output_type": "display_data"
    },
    {
     "name": "stdout",
     "output_type": "stream",
     "text": [
      "Modified step:\n"
     ]
    },
    {
     "data": {
      "text/html": [
       "<span class=\"tex2jax_ignore\"><div class=\"entities\" style=\"line-height: 2.5; direction: ltr\">Pour a small amount of water in the filter to wet the grounds. Wait about 30 seconds.</div></span>"
      ],
      "text/plain": [
       "<IPython.core.display.HTML object>"
      ]
     },
     "metadata": {},
     "output_type": "display_data"
    },
    {
     "name": "stdout",
     "output_type": "stream",
     "text": [
      "o------------end------------o\n",
      "o-----------begin-----------o\n",
      "Original step:\n"
     ]
    },
    {
     "data": {
      "text/html": [
       "<span class=\"tex2jax_ignore\"><div class=\"entities\" style=\"line-height: 2.5; direction: ltr\">Slowly pour the rest of the water over the grounds in a circular motion. Do not overfill beyond the top of the paper filter.</div></span>"
      ],
      "text/plain": [
       "<IPython.core.display.HTML object>"
      ]
     },
     "metadata": {},
     "output_type": "display_data"
    },
    {
     "name": "stdout",
     "output_type": "stream",
     "text": [
      "Modified step:\n"
     ]
    },
    {
     "data": {
      "text/html": [
       "<span class=\"tex2jax_ignore\"><div class=\"entities\" style=\"line-height: 2.5; direction: ltr\">Slowly pour the rest of the water over the grounds in a circular motion. Do not overfill beyond the top of the paper filter.</div></span>"
      ],
      "text/plain": [
       "<IPython.core.display.HTML object>"
      ]
     },
     "metadata": {},
     "output_type": "display_data"
    },
    {
     "name": "stdout",
     "output_type": "stream",
     "text": [
      "o------------end------------o\n",
      "o-----------begin-----------o\n",
      "Original step:\n"
     ]
    },
    {
     "data": {
      "text/html": [
       "<span class=\"tex2jax_ignore\"><div class=\"entities\" style=\"line-height: 2.5; direction: ltr\">Let the coffee drain completely into the mug before removing the dripper. Discard the paper filter and coffee grounds.</div></span>"
      ],
      "text/plain": [
       "<IPython.core.display.HTML object>"
      ]
     },
     "metadata": {},
     "output_type": "display_data"
    },
    {
     "name": "stdout",
     "output_type": "stream",
     "text": [
      "Modified step:\n"
     ]
    },
    {
     "data": {
      "text/html": [
       "<span class=\"tex2jax_ignore\"><div class=\"entities\" style=\"line-height: 2.5; direction: ltr\">Let the coffee drain completely into the mug before removing the dripper. Discard the paper filter and coffee grounds.</div></span>"
      ],
      "text/plain": [
       "<IPython.core.display.HTML object>"
      ]
     },
     "metadata": {},
     "output_type": "display_data"
    },
    {
     "name": "stdout",
     "output_type": "stream",
     "text": [
      "o------------end------------o\n"
     ]
    }
   ],
   "source": [
    "generate_negative_instances(recipe_steps, ['QUANTITY'])"
   ]
  },
  {
   "cell_type": "markdown",
   "metadata": {},
   "source": [
    "#### Replacing Units"
   ]
  },
  {
   "cell_type": "code",
   "execution_count": 15,
   "metadata": {},
   "outputs": [
    {
     "name": "stdout",
     "output_type": "stream",
     "text": [
      "o-----------begin-----------o\n",
      "Original step:\n"
     ]
    },
    {
     "data": {
      "text/html": [
       "<span class=\"tex2jax_ignore\"><div class=\"entities\" style=\"line-height: 2.5; direction: ltr\">Measure 12 \n",
       "<mark class=\"entity\" style=\"background: pink; padding: 0.45em 0.6em; margin: 0 0.25em; line-height: 1; border-radius: 0.35em;\">\n",
       "    ounces\n",
       "    <span style=\"font-size: 0.8em; font-weight: bold; line-height: 1; border-radius: 0.35em; vertical-align: middle; margin-left: 0.5rem\">UNIT</span>\n",
       "</mark>\n",
       " of cold water and transfer to a kettle.</div></span>"
      ],
      "text/plain": [
       "<IPython.core.display.HTML object>"
      ]
     },
     "metadata": {},
     "output_type": "display_data"
    },
    {
     "name": "stdout",
     "output_type": "stream",
     "text": [
      "Modified step:\n"
     ]
    },
    {
     "data": {
      "text/html": [
       "<span class=\"tex2jax_ignore\"><div class=\"entities\" style=\"line-height: 2.5; direction: ltr\">Measure 12 \n",
       "<mark class=\"entity\" style=\"background: pink; padding: 0.45em 0.6em; margin: 0 0.25em; line-height: 1; border-radius: 0.35em;\">\n",
       "    leaf\n",
       "    <span style=\"font-size: 0.8em; font-weight: bold; line-height: 1; border-radius: 0.35em; vertical-align: middle; margin-left: 0.5rem\">UNIT</span>\n",
       "</mark>\n",
       " of cold water and transfer to a kettle.</div></span>"
      ],
      "text/plain": [
       "<IPython.core.display.HTML object>"
      ]
     },
     "metadata": {},
     "output_type": "display_data"
    },
    {
     "name": "stdout",
     "output_type": "stream",
     "text": [
      "o------------end------------o\n",
      "o-----------begin-----------o\n",
      "Original step:\n"
     ]
    },
    {
     "data": {
      "text/html": [
       "<span class=\"tex2jax_ignore\"><div class=\"entities\" style=\"line-height: 2.5; direction: ltr\">Assemble the filter cone. Place the dripper on top of a coffee mug.</div></span>"
      ],
      "text/plain": [
       "<IPython.core.display.HTML object>"
      ]
     },
     "metadata": {},
     "output_type": "display_data"
    },
    {
     "name": "stdout",
     "output_type": "stream",
     "text": [
      "Modified step:\n"
     ]
    },
    {
     "data": {
      "text/html": [
       "<span class=\"tex2jax_ignore\"><div class=\"entities\" style=\"line-height: 2.5; direction: ltr\">Assemble the filter cone. Place the dripper on top of a coffee mug.</div></span>"
      ],
      "text/plain": [
       "<IPython.core.display.HTML object>"
      ]
     },
     "metadata": {},
     "output_type": "display_data"
    },
    {
     "name": "stdout",
     "output_type": "stream",
     "text": [
      "o------------end------------o\n",
      "o-----------begin-----------o\n",
      "Original step:\n"
     ]
    },
    {
     "data": {
      "text/html": [
       "<span class=\"tex2jax_ignore\"><div class=\"entities\" style=\"line-height: 2.5; direction: ltr\">Prepare the filter insert by folding the paper filter in half to create a semi-circle, and in half again to create a quarter-circle. Place the paper filter in the dripper and spread open to create a cone.</div></span>"
      ],
      "text/plain": [
       "<IPython.core.display.HTML object>"
      ]
     },
     "metadata": {},
     "output_type": "display_data"
    },
    {
     "name": "stdout",
     "output_type": "stream",
     "text": [
      "Modified step:\n"
     ]
    },
    {
     "data": {
      "text/html": [
       "<span class=\"tex2jax_ignore\"><div class=\"entities\" style=\"line-height: 2.5; direction: ltr\">Prepare the filter insert by folding the paper filter in half to create a semi-circle, and in half again to create a quarter-circle. Place the paper filter in the dripper and spread open to create a cone.</div></span>"
      ],
      "text/plain": [
       "<IPython.core.display.HTML object>"
      ]
     },
     "metadata": {},
     "output_type": "display_data"
    },
    {
     "name": "stdout",
     "output_type": "stream",
     "text": [
      "o------------end------------o\n",
      "o-----------begin-----------o\n",
      "Original step:\n"
     ]
    },
    {
     "data": {
      "text/html": [
       "<span class=\"tex2jax_ignore\"><div class=\"entities\" style=\"line-height: 2.5; direction: ltr\">Weigh the coffee beans and grind until the coffee grounds are the consistency of coarse sand, about 20 seconds. Transfer the grounds to the filter cone.</div></span>"
      ],
      "text/plain": [
       "<IPython.core.display.HTML object>"
      ]
     },
     "metadata": {},
     "output_type": "display_data"
    },
    {
     "name": "stdout",
     "output_type": "stream",
     "text": [
      "Modified step:\n"
     ]
    },
    {
     "data": {
      "text/html": [
       "<span class=\"tex2jax_ignore\"><div class=\"entities\" style=\"line-height: 2.5; direction: ltr\">Weigh the coffee beans and grind until the coffee grounds are the consistency of coarse sand, about 20 seconds. Transfer the grounds to the filter cone.</div></span>"
      ],
      "text/plain": [
       "<IPython.core.display.HTML object>"
      ]
     },
     "metadata": {},
     "output_type": "display_data"
    },
    {
     "name": "stdout",
     "output_type": "stream",
     "text": [
      "o------------end------------o\n",
      "o-----------begin-----------o\n",
      "Original step:\n"
     ]
    },
    {
     "data": {
      "text/html": [
       "<span class=\"tex2jax_ignore\"><div class=\"entities\" style=\"line-height: 2.5; direction: ltr\">Check the temperature of the water.</div></span>"
      ],
      "text/plain": [
       "<IPython.core.display.HTML object>"
      ]
     },
     "metadata": {},
     "output_type": "display_data"
    },
    {
     "name": "stdout",
     "output_type": "stream",
     "text": [
      "Modified step:\n"
     ]
    },
    {
     "data": {
      "text/html": [
       "<span class=\"tex2jax_ignore\"><div class=\"entities\" style=\"line-height: 2.5; direction: ltr\">Check the temperature of the water.</div></span>"
      ],
      "text/plain": [
       "<IPython.core.display.HTML object>"
      ]
     },
     "metadata": {},
     "output_type": "display_data"
    },
    {
     "name": "stdout",
     "output_type": "stream",
     "text": [
      "o------------end------------o\n",
      "o-----------begin-----------o\n",
      "Original step:\n"
     ]
    },
    {
     "data": {
      "text/html": [
       "<span class=\"tex2jax_ignore\"><div class=\"entities\" style=\"line-height: 2.5; direction: ltr\">Pour a small amount of water in the filter to wet the grounds. Wait about 30 seconds.</div></span>"
      ],
      "text/plain": [
       "<IPython.core.display.HTML object>"
      ]
     },
     "metadata": {},
     "output_type": "display_data"
    },
    {
     "name": "stdout",
     "output_type": "stream",
     "text": [
      "Modified step:\n"
     ]
    },
    {
     "data": {
      "text/html": [
       "<span class=\"tex2jax_ignore\"><div class=\"entities\" style=\"line-height: 2.5; direction: ltr\">Pour a small amount of water in the filter to wet the grounds. Wait about 30 seconds.</div></span>"
      ],
      "text/plain": [
       "<IPython.core.display.HTML object>"
      ]
     },
     "metadata": {},
     "output_type": "display_data"
    },
    {
     "name": "stdout",
     "output_type": "stream",
     "text": [
      "o------------end------------o\n",
      "o-----------begin-----------o\n",
      "Original step:\n"
     ]
    },
    {
     "data": {
      "text/html": [
       "<span class=\"tex2jax_ignore\"><div class=\"entities\" style=\"line-height: 2.5; direction: ltr\">Slowly pour the rest of the water over the grounds in a circular motion. Do not overfill beyond the top of the paper filter.</div></span>"
      ],
      "text/plain": [
       "<IPython.core.display.HTML object>"
      ]
     },
     "metadata": {},
     "output_type": "display_data"
    },
    {
     "name": "stdout",
     "output_type": "stream",
     "text": [
      "Modified step:\n"
     ]
    },
    {
     "data": {
      "text/html": [
       "<span class=\"tex2jax_ignore\"><div class=\"entities\" style=\"line-height: 2.5; direction: ltr\">Slowly pour the rest of the water over the grounds in a circular motion. Do not overfill beyond the top of the paper filter.</div></span>"
      ],
      "text/plain": [
       "<IPython.core.display.HTML object>"
      ]
     },
     "metadata": {},
     "output_type": "display_data"
    },
    {
     "name": "stdout",
     "output_type": "stream",
     "text": [
      "o------------end------------o\n",
      "o-----------begin-----------o\n",
      "Original step:\n"
     ]
    },
    {
     "data": {
      "text/html": [
       "<span class=\"tex2jax_ignore\"><div class=\"entities\" style=\"line-height: 2.5; direction: ltr\">Let the coffee drain completely into the mug before removing the dripper. Discard the paper filter and coffee grounds.</div></span>"
      ],
      "text/plain": [
       "<IPython.core.display.HTML object>"
      ]
     },
     "metadata": {},
     "output_type": "display_data"
    },
    {
     "name": "stdout",
     "output_type": "stream",
     "text": [
      "Modified step:\n"
     ]
    },
    {
     "data": {
      "text/html": [
       "<span class=\"tex2jax_ignore\"><div class=\"entities\" style=\"line-height: 2.5; direction: ltr\">Let the coffee drain completely into the mug before removing the dripper. Discard the paper filter and coffee grounds.</div></span>"
      ],
      "text/plain": [
       "<IPython.core.display.HTML object>"
      ]
     },
     "metadata": {},
     "output_type": "display_data"
    },
    {
     "name": "stdout",
     "output_type": "stream",
     "text": [
      "o------------end------------o\n"
     ]
    }
   ],
   "source": [
    "generate_negative_instances(recipe_steps, ['UNIT'])"
   ]
  }
 ],
 "metadata": {
  "kernelspec": {
   "display_name": "Python 3 (ipykernel)",
   "language": "python",
   "name": "python3"
  },
  "language_info": {
   "codemirror_mode": {
    "name": "ipython",
    "version": 3
   },
   "file_extension": ".py",
   "mimetype": "text/x-python",
   "name": "python",
   "nbconvert_exporter": "python",
   "pygments_lexer": "ipython3",
   "version": "3.7.11"
  },
  "widgets": {
   "application/vnd.jupyter.widget-state+json": {
    "state": {},
    "version_major": 2,
    "version_minor": 0
   }
  }
 },
 "nbformat": 4,
 "nbformat_minor": 2
}
