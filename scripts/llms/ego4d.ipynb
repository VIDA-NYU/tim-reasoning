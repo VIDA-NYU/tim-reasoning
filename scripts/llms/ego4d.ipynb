{
 "cells": [
  {
   "cell_type": "code",
   "execution_count": 1,
   "id": "9e99e39f",
   "metadata": {},
   "outputs": [],
   "source": [
    "#!pip install ego4d"
   ]
  },
  {
   "cell_type": "code",
   "execution_count": 2,
   "id": "d6533d70",
   "metadata": {},
   "outputs": [],
   "source": [
    "#!ego4d --output_directory=\"./data/ego4d\" --datasets full_scale --benchmarks goalstep --video_uids ac582760-09b1-4a6e-be08-f19f9bf5dfcb"
   ]
  },
  {
   "cell_type": "code",
   "execution_count": null,
   "id": "6d975297",
   "metadata": {},
   "outputs": [],
   "source": [
    "#!ffmpeg -i /scratch/rl3725/llms_experiments/data/ego4d/v2/full_scale/51224e32-3d6c-4148-9eea-7b73da751f25.mp4 -c:v libx264 -crf 23 -preset medium -r 30 -c:a copy  /scratch/rl3725/llms_experiments/data/ego4d/v2/full_scale/51224e32-3d6c-4148-9eea-7b73da751f25_mod.mp4"
   ]
  },
  {
   "cell_type": "code",
   "execution_count": 3,
   "id": "b70cfde2",
   "metadata": {},
   "outputs": [],
   "source": [
    "import json\n",
    "from os.path import join\n",
    "from torchmetrics.text import BLEUScore\n",
    "from torchmetrics.text.rouge import ROUGEScore\n",
    "\n",
    "FOLDER_PATH = \"./ego4d/annotations\"\n",
    "\n",
    "def read_data(file_path):\n",
    "    with open(file_path, \"r\") as file:\n",
    "        step_annotations = json.load(file)\n",
    "        return step_annotations\n",
    "    \n",
    "    \n",
    "\n",
    "def agregate_steps(target_video):\n",
    "    steps = \"\"\n",
    "    for video in train_data[\"videos\"]:\n",
    "        if video[\"video_uid\"] == target_video:\n",
    "            steps = \". \".join([f\"{i}. {x['step_description'].capitalize()}\" for i, x in  enumerate(video[\"segments\"], 1)])\n",
    "        \n",
    "    return steps\n",
    "\n",
    "def get_summary(target_video):\n",
    "    summary = \"\"\n",
    "    for video in train_data[\"videos\"]:\n",
    "        if video[\"video_uid\"] == target_video:\n",
    "            steps = \". \".join([f\"{i}: {x.capitalize()}\" for i, x in  enumerate(video[\"summary\"], 1)])\n",
    "        \n",
    "    return steps\n",
    "\n",
    "def get_summary(target_video):\n",
    "    summary = \"\"\n",
    "    for video in train_data[\"videos\"]:\n",
    "        if video[\"video_uid\"] == target_video:\n",
    "            summary = \". \".join([f\"{i}: {x.capitalize()}\" for i, x in  enumerate(video[\"summary\"], 1)])\n",
    "        \n",
    "    return summary\n",
    "\n",
    "def get_goal(target_video):\n",
    "    goal = \"\"\n",
    "    for video in train_data[\"videos\"]:\n",
    "        if video[\"video_uid\"] == target_video:\n",
    "            goal = video[\"goal_description\"].capitalize()\n",
    "        \n",
    "    return goal\n",
    "\n",
    "def calculate_bleu(pred, target):\n",
    "    bleu = BLEUScore(n_gram=1)\n",
    "    score = bleu([pred], [[target]]).item()\n",
    "    return round(score, 3)\n",
    "\n",
    "def calculate_rouge(pred, target):\n",
    "    rouge = ROUGEScore()\n",
    "    score = rouge(pred, target)['rouge1_fmeasure'].item()\n",
    "    return round(score, 3)\n",
    "\n",
    "def calculate_metrics(pred, target):\n",
    "    rouge_score = calculate_rouge(pred, target)\n",
    "    bleu_score = calculate_bleu(pred, target)\n",
    "    print(f\"BLEU: {bleu_score}   ROUGE: {rouge_score}\")"
   ]
  },
  {
   "cell_type": "code",
   "execution_count": 5,
   "id": "b880ae39",
   "metadata": {},
   "outputs": [
    {
     "data": {
      "text/plain": [
       "583"
      ]
     },
     "execution_count": 5,
     "metadata": {},
     "output_type": "execute_result"
    }
   ],
   "source": [
    "train_data = read_data(join(FOLDER_PATH, \"goalstep_train.json\"))\n",
    "len(train_data[\"videos\"])"
   ]
  },
  {
   "cell_type": "code",
   "execution_count": 6,
   "id": "f8a28870",
   "metadata": {},
   "outputs": [
    {
     "data": {
      "text/plain": [
       "134"
      ]
     },
     "execution_count": 6,
     "metadata": {},
     "output_type": "execute_result"
    }
   ],
   "source": [
    "val_data = read_data(join(FOLDER_PATH, \"goalstep_val.json\"))\n",
    "len(val_data[\"videos\"])"
   ]
  },
  {
   "cell_type": "code",
   "execution_count": 7,
   "id": "28c66f34",
   "metadata": {},
   "outputs": [
    {
     "data": {
      "text/plain": [
       "134"
      ]
     },
     "execution_count": 7,
     "metadata": {},
     "output_type": "execute_result"
    }
   ],
   "source": [
    "test_data = read_data(join(FOLDER_PATH,  \"goalstep_test_unannotated.json\"))\n",
    "len(test_data[\"videos\"])"
   ]
  },
  {
   "cell_type": "markdown",
   "id": "a8fdac17",
   "metadata": {},
   "source": [
    "## BLEU and ROUGE"
   ]
  },
  {
   "cell_type": "code",
   "execution_count": 29,
   "id": "f4215b54",
   "metadata": {},
   "outputs": [],
   "source": [
    "answers_no_context = {\n",
    "    \"1938c632-f575-49dd-8ae0-e48dbb467920\":{\n",
    "        \"general_answer\": \"The video shows a person washing dishes in a kitchen sink. They put away the clean dishes and put the dirty ones in a dish rack. The person then puts the clean dishes away in the cabinets.\",\n",
    "        \"detailed_answer\": \"The video shows a person washing dishes in a kitchen sink. They start by putting away the clean dishes in the cabinets and then put the dirty dishes in a dish rack. After that, the person takes out the clean dishes from the cabinets and puts them in a dish rack. The video is a simple demonstration of how to wash dishes in a kitchen. The person is shown performing the task of washing dishes in a kitchen sink, which is a common household chore. The video provides a clear visual representation of the process of washing dishes, from putting away the clean dishes to putting them in a dish rack. The video is shot in a kitchen setting, with a sink and cabinets visible in the background. Overall, the video is a helpful guide for anyone looking to learn how to wash dishes in a kitchen.\"\n",
    "    },\n",
    "    \"51224e32-3d6c-4148-9eea-7b73da751f25\":{\n",
    "        \"general_answer\": \"The video shows a woman cooking in a kitchen. She is seen cutting up food on a pan, frying it, and then mixing it with other ingredients. She also pours water into a pot and stirs it.\",\n",
    "        \"detailed_answer\": \"The video depicts a woman cooking in a kitchen. She is seen cutting up food on a pan and frying it. Afterwards, she pours water into a pot and stirs it. The woman then mixes the food with other ingredients and continues to cook. The video showcases the woman's culinary skills as she prepares a delicious meal. The kitchen is well-equipped with all the necessary tools and ingredients, and the woman appears to be experienced in cooking. The lighting in the kitchen is bright, and the colors of the ingredients are vibrant, making the video visually appealing. Overall, the video is an excellent representation of a woman's culinary skills and the process of cooking a meal.\"\n",
    "    },\n",
    "    \"0c192ca8-1ede-4ef0-a05e-2f4151b6bdfc\":{\n",
    "        \"general_answer\": \"The video shows a man kneading dough in a kitchen and then shaping it into balls. He then rolls out the dough and puts it into the oven.\",\n",
    "        \"detailed_answer\": \"The video shows a man in a kitchen preparing dough. He starts by kneading the dough on a table and then rolls it out. He then puts the dough into the oven and takes it out when it is fully baked. The man appears to be focused on his task and takes his time to ensure that the dough is properly prepared. The kitchen is well-lit, and the man is wearing an apron. The sound of the dough being kneaded and the oven being preheated can be heard in the background. Overall, the video provides a detailed look at the process of making dough from scratch, and the man's attention to detail is evident in the final product.\"\n",
    "    }\n",
    "}"
   ]
  },
  {
   "cell_type": "code",
   "execution_count": 30,
   "id": "f178b240",
   "metadata": {},
   "outputs": [],
   "source": [
    "target_video = \"51224e32-3d6c-4148-9eea-7b73da751f25\"\n",
    "goal = get_goal(target_video)\n",
    "summary = get_summary(target_video)\n",
    "steps = agregate_steps(target_video)"
   ]
  },
  {
   "cell_type": "code",
   "execution_count": 31,
   "id": "003382e8",
   "metadata": {},
   "outputs": [
    {
     "name": "stdout",
     "output_type": "stream",
     "text": [
      "BLEU: 0.081   ROUGE: 0.138\n"
     ]
    }
   ],
   "source": [
    "pred = answers_no_context[target_video][\"general_answer\"]\n",
    "calculate_metrics(pred, summary)"
   ]
  },
  {
   "cell_type": "code",
   "execution_count": 32,
   "id": "b3737fcb",
   "metadata": {},
   "outputs": [
    {
     "name": "stdout",
     "output_type": "stream",
     "text": [
      "BLEU: 0.052   ROUGE: 0.077\n"
     ]
    }
   ],
   "source": [
    "pred = answers_no_context[target_video][\"detailed_answer\"]\n",
    "calculate_metrics(pred, steps)"
   ]
  },
  {
   "cell_type": "code",
   "execution_count": 35,
   "id": "fa7d79b4",
   "metadata": {},
   "outputs": [],
   "source": [
    "answers_with_context = {\n",
    "    \"1938c632-f575-49dd-8ae0-e48dbb467920\":{\n",
    "        \"general_answer\": \"The video shows a person following a recipe to make a rice dish. They start by turning on the stove, getting a plate, and adding oil to a frying pan. They then add ham and fry it before returning it to the refrigerator. The person then gathers ingredients, adds them to the pan, and microwaves the rice. They arrange the utensils on the counter and drink soda before washing the dishes. The person then adds the fried ingredients to the rice and adds toppings before disposing of the plastic bag in the trash. They garnish the rice with the fried ingredient and add cream before washing the dishes again. Finally, they add meat to the rice and serve the meal.\",\n",
    "        \"detailed_answer\": \"The video starts with a person turning on the stove and getting a plate. They then add oil to a frying pan and add ham into it. After that, they get a frying pan lid and regulate the stove heat. The person gathers ingredients from the refrigerator and adds them to the pan. They then add eggs to the pan and wash their hands. The person adds water to the pan and microwaves the rice. They arrange the utensils on the counter and drink soda. The person washes the dishes and adds the fried ingredients to the rice. They add toppings to the rice and dispose of the plastic bag in the trash. The person garnishes the rice with the fried ingredient and adds cream to it. They serve the meal on a plate. Overall, the video shows a person cooking a rice dish by following a recipe. They start by adding ingredients to the pan and cooking them on the stove. They then add eggs and rice to the pan and microwave it. They add toppings and cream to the rice and serve it on a plate. The video provides a step-by-step guide on how to cook a rice dish and highlights the importance of following a recipe to achieve the desired outcome.\"\n",
    "    },\n",
    "    \"51224e32-3d6c-4148-9eea-7b73da751f25\":{\n",
    "        \"general_answer\": \"The video shows a person preparing a soup recipe by slicing onions and tomatoes, cooking them in a pot, and adding salt to the mixture. The person also rinses their hands under the tap before and after preparing the soup.\",\n",
    "        \"detailed_answer\": \"The video shows a person preparing a soup recipe in a kitchen. The person starts by slicing onions and tomatoes and pouring them into a pot. They then add more ingredients to the pot and stir them around. After that, the person rinses their hands under the tap. Next, they add salt to the pot and rinse their hands again. The person then ignites the cooking gas and continues to cook the soup. The video provides a step-by-step guide to making the soup, showing the person carefully adding ingredients and stirring them around. The viewer can see the person's hands moving around the pot, and the sound of the cooking gas can be heard in the background. Overall, the video provides a detailed and informative demonstration of how to make a delicious soup recipe.\"\n",
    "    },\n",
    "    \"0c192ca8-1ede-4ef0-a05e-2f4151b6bdfc\":{\n",
    "        \"general_answer\": \"The video shows a man making bread in a kitchen. He follows a recipe that involves gathering baking pan covers, cooling the oven with water, putting doughs in the oven, adjusting the baking tray, cooling the oven with water again, putting doughs in the oven, adjusting the baking pan with a rod, taking the doughs out of the oven, removing the dough cover, putting doughs in the oven again, adjusting the baking pan with a rod, kneading the dough in his hands, preparing the dough in a mixer, preparing the dough in a cloth, and preparing wrapped dough in a dough cutter.\",\n",
    "        \"detailed_answer\": \"The video shows a man in a kitchen following a recipe to make bread. He starts by gathering baking pan covers and cooling the oven with water. He then puts the doughs in the oven and adjusts the baking tray. After cooling the oven with water again, he puts the doughs back in the oven and adjusts the baking pan with a rod. He takes the doughs out of the oven, removes the dough cover, and puts the doughs back in the oven. He adjusts the baking pan with a rod again and kneads the dough in his hands. He then prepares the dough in a mixer and in a cloth. Finally, he prepares wrapped dough in a dough cutter. Throughout the video, the man is focused and determined, carefully following each step of the recipe to create delicious bread.\"\n",
    "    }\n",
    "}"
   ]
  },
  {
   "cell_type": "code",
   "execution_count": 36,
   "id": "6c9508c5",
   "metadata": {},
   "outputs": [
    {
     "name": "stdout",
     "output_type": "stream",
     "text": [
      "BLEU: 0.05   ROUGE: 0.098\n"
     ]
    }
   ],
   "source": [
    "pred = answers_with_context[target_video][\"general_answer\"]\n",
    "calculate_metrics(pred, summary)"
   ]
  },
  {
   "cell_type": "code",
   "execution_count": 37,
   "id": "b529e0fd",
   "metadata": {},
   "outputs": [
    {
     "name": "stdout",
     "output_type": "stream",
     "text": [
      "BLEU: 0.104   ROUGE: 0.204\n"
     ]
    }
   ],
   "source": [
    "pred = answers_with_context[target_video][\"detailed_answer\"]\n",
    "calculate_metrics(pred, steps)"
   ]
  },
  {
   "cell_type": "markdown",
   "id": "b0882e2a",
   "metadata": {},
   "source": [
    "## Examples"
   ]
  },
  {
   "cell_type": "markdown",
   "id": "b9bd57b9",
   "metadata": {},
   "source": [
    "### General Questions"
   ]
  },
  {
   "cell_type": "code",
   "execution_count": 41,
   "id": "282bf661",
   "metadata": {},
   "outputs": [
    {
     "data": {
      "text/plain": [
       "'The video shows a woman cooking in a kitchen. She is seen cutting up food on a pan, frying it, and then mixing it with other ingredients. She also pours water into a pot and stirs it.'"
      ]
     },
     "execution_count": 41,
     "metadata": {},
     "output_type": "execute_result"
    }
   ],
   "source": [
    "answers_no_context[target_video][\"general_answer\"]"
   ]
  },
  {
   "cell_type": "code",
   "execution_count": 42,
   "id": "bb165007",
   "metadata": {},
   "outputs": [
    {
     "data": {
      "text/plain": [
       "'The video shows a person preparing a soup recipe by slicing onions and tomatoes, cooking them in a pot, and adding salt to the mixture. The person also rinses their hands under the tap before and after preparing the soup.'"
      ]
     },
     "execution_count": 42,
     "metadata": {},
     "output_type": "execute_result"
    }
   ],
   "source": [
    "answers_with_context[target_video][\"general_answer\"]"
   ]
  },
  {
   "cell_type": "markdown",
   "id": "c355a225",
   "metadata": {},
   "source": [
    "### Detailed Questions"
   ]
  },
  {
   "cell_type": "code",
   "execution_count": 43,
   "id": "d4099e5c",
   "metadata": {},
   "outputs": [
    {
     "data": {
      "text/plain": [
       "\"The video depicts a woman cooking in a kitchen. She is seen cutting up food on a pan and frying it. Afterwards, she pours water into a pot and stirs it. The woman then mixes the food with other ingredients and continues to cook. The video showcases the woman's culinary skills as she prepares a delicious meal. The kitchen is well-equipped with all the necessary tools and ingredients, and the woman appears to be experienced in cooking. The lighting in the kitchen is bright, and the colors of the ingredients are vibrant, making the video visually appealing. Overall, the video is an excellent representation of a woman's culinary skills and the process of cooking a meal.\""
      ]
     },
     "execution_count": 43,
     "metadata": {},
     "output_type": "execute_result"
    }
   ],
   "source": [
    "answers_no_context[target_video][\"detailed_answer\"]"
   ]
  },
  {
   "cell_type": "code",
   "execution_count": 44,
   "id": "533267db",
   "metadata": {},
   "outputs": [
    {
     "data": {
      "text/plain": [
       "\"The video shows a person preparing a soup recipe in a kitchen. The person starts by slicing onions and tomatoes and pouring them into a pot. They then add more ingredients to the pot and stir them around. After that, the person rinses their hands under the tap. Next, they add salt to the pot and rinse their hands again. The person then ignites the cooking gas and continues to cook the soup. The video provides a step-by-step guide to making the soup, showing the person carefully adding ingredients and stirring them around. The viewer can see the person's hands moving around the pot, and the sound of the cooking gas can be heard in the background. Overall, the video provides a detailed and informative demonstration of how to make a delicious soup recipe.\""
      ]
     },
     "execution_count": 44,
     "metadata": {},
     "output_type": "execute_result"
    }
   ],
   "source": [
    "answers_with_context[target_video][\"detailed_answer\"]"
   ]
  },
  {
   "cell_type": "code",
   "execution_count": 40,
   "id": "9c827c1b",
   "metadata": {},
   "outputs": [
    {
     "name": "stdout",
     "output_type": "stream",
     "text": [
      "{'video_uid': '51224e32-3d6c-4148-9eea-7b73da751f25', 'start_time': 0.0210286458333333, 'end_time': 531.2876953125, 'goal_category': 'COOKING:COOKING_GENERAL', 'goal_description': 'preparing soup', 'goal_wikihow_url': '', 'summary': ['cutting vegetable', 'adding ingredients', 'putting vegetable in cooking utensils', 'putting meat in cooking utensils', 'pouring oil'], 'is_procedural': True, 'segments': [{'start_time': 0.17508, 'end_time': 8.17507, 'step_category': 'Peel and cut ingredients: Cut onion', 'step_description': 'slice onion with knife', 'is_continued': False, 'is_procedural': False, 'is_relevant': 'essential', 'summary': [], 'segments': []}, {'start_time': 8.37507, 'end_time': 71.333, 'step_category': 'Peel and cut ingredients: Cut tomato', 'step_description': 'slice tomato with knife', 'is_continued': False, 'is_procedural': False, 'is_relevant': 'essential', 'summary': [], 'segments': []}, {'start_time': 71.33335, 'end_time': 91.289, 'step_category': 'Add ingredients to the recipe: Add onion to recipe', 'step_description': 'pour sliced onions in pot', 'is_continued': False, 'is_procedural': False, 'is_relevant': 'essential', 'summary': [], 'segments': []}, {'start_time': 91.70036, 'end_time': 123.869, 'step_category': 'Add ingredients to the recipe: Add tomato to recipe', 'step_description': 'add sliced tomato in pot', 'is_continued': False, 'is_procedural': False, 'is_relevant': 'essential', 'summary': [], 'segments': []}, {'start_time': 124.8456, 'end_time': 178.805, 'step_category': 'Make recipes: Cook or prepare soup', 'step_description': 'prepares soup in pot', 'is_continued': False, 'is_procedural': True, 'is_relevant': 'essential', 'summary': ['add salt', 'add pepper', 'adds raw meat'], 'segments': [{'start_time': 127.41467, 'end_time': 136.28436, 'step_category': 'Add ingredients to the recipe: Add salt to recipe', 'step_description': 'add salt', 'is_continued': False, 'is_procedural': False, 'is_relevant': 'essential', 'summary': []}, {'start_time': 136.51769, 'end_time': 142.55331, 'step_category': 'Add ingredients to the recipe: Add pepper spice to recipe', 'step_description': 'Add pepper', 'is_continued': False, 'is_procedural': False, 'is_relevant': 'essential', 'summary': []}, {'start_time': 142.63687, 'end_time': 153.79985, 'step_category': 'Add ingredients to the recipe: Add spices to recipe', 'step_description': 'Add green spice\\n', 'is_continued': False, 'is_procedural': False, 'is_relevant': 'essential', 'summary': []}, {'start_time': 154.27262, 'end_time': 178.63165, 'step_category': 'Add ingredients to the recipe: Add meat to recipe', 'step_description': 'Add meat', 'is_continued': False, 'is_procedural': False, 'is_relevant': 'essential', 'summary': []}]}, {'start_time': 180.99411, 'end_time': 189.209, 'step_category': 'General activity: Wash hands', 'step_description': 'washes hands under tap', 'is_continued': False, 'is_procedural': True, 'is_relevant': 'essential', 'summary': ['put soap on hands', 'rubs soap in hands'], 'segments': []}, {'start_time': 193.1406, 'end_time': 268.86, 'step_category': 'Make recipes: Cook or prepare soup', 'step_description': 'prepares soup in pot', 'is_continued': True, 'is_procedural': True, 'is_relevant': 'essential', 'summary': ['add olive oil', 'add salt', 'adds pepper', 'adds green spice', 'adds sliced potato'], 'segments': [{'start_time': 193.97077, 'end_time': 205.02371, 'step_category': 'Add ingredients to the recipe: Add oil to recipe', 'step_description': 'Add olive oil\\n', 'is_continued': False, 'is_procedural': False, 'is_relevant': 'essential', 'summary': []}, {'start_time': 206.34118, 'end_time': 211.00128, 'step_category': 'Add ingredients to the recipe: Add salt to recipe', 'step_description': 'Add salt', 'is_continued': False, 'is_procedural': False, 'is_relevant': 'essential', 'summary': []}, {'start_time': 211.28019, 'end_time': 217.09344, 'step_category': 'Add ingredients to the recipe: Add pepper spice to recipe', 'step_description': 'Add pepper\\n', 'is_continued': False, 'is_procedural': False, 'is_relevant': 'essential', 'summary': []}, {'start_time': 217.4392, 'end_time': 221.85476, 'step_category': 'Add ingredients to the recipe: Add spices to recipe', 'step_description': 'Add green spice\\n', 'is_continued': False, 'is_procedural': False, 'is_relevant': 'essential', 'summary': []}, {'start_time': 222.25532, 'end_time': 267.51378, 'step_category': 'Add ingredients to the recipe: Add potato to recipe', 'step_description': 'Add slice potato\\n', 'is_continued': False, 'is_procedural': False, 'is_relevant': 'essential', 'summary': []}]}, {'start_time': 268.91572, 'end_time': 303.093, 'step_category': 'Peel and cut ingredients: Cut tomato', 'step_description': 'slice tomato with knife', 'is_continued': True, 'is_procedural': False, 'is_relevant': 'essential', 'summary': [], 'segments': []}, {'start_time': 305.76995, 'end_time': 332.792, 'step_category': 'Add ingredients to the recipe: Add onion to recipe', 'step_description': 'pour sliced onion in pot', 'is_continued': True, 'is_procedural': False, 'is_relevant': 'essential', 'summary': [], 'segments': []}, {'start_time': 332.82648, 'end_time': 350.762, 'step_category': 'Add ingredients to the recipe: Add tomato to recipe', 'step_description': 'add sliced tomato in pot', 'is_continued': True, 'is_procedural': False, 'is_relevant': 'essential', 'summary': [], 'segments': []}, {'start_time': 354.77177, 'end_time': 357.8757, 'step_category': 'General activity: Wash hands', 'step_description': 'rinses hands under tap', 'is_continued': False, 'is_procedural': False, 'is_relevant': 'optional', 'summary': [], 'segments': []}, {'start_time': 361.7776, 'end_time': 374.664, 'step_category': 'Add ingredients to the recipe: Add salt to recipe', 'step_description': 'adds salt in pot', 'is_continued': False, 'is_procedural': False, 'is_relevant': 'essential', 'summary': [], 'segments': []}, {'start_time': 376.0743, 'end_time': 380.78071, 'step_category': 'General activity: Wash hands', 'step_description': 'rinses hands under tap', 'is_continued': True, 'is_procedural': False, 'is_relevant': 'essential', 'summary': [], 'segments': []}, {'start_time': 382.09813, 'end_time': 474.835, 'step_category': 'Make recipes: Cook or prepare soup', 'step_description': 'prepares soup in pot', 'is_continued': True, 'is_procedural': True, 'is_relevant': 'essential', 'summary': ['adds salt', 'add green spice', 'add sliced potato in pot', 'adds sliced onions'], 'segments': [{'start_time': 382.61544, 'end_time': 388.85348, 'step_category': 'Add ingredients to the recipe: Add pepper spice to recipe', 'step_description': 'Add pepper', 'is_continued': False, 'is_procedural': False, 'is_relevant': 'essential', 'summary': []}, {'start_time': 391.24347, 'end_time': 403.64173, 'step_category': 'Add ingredients to the recipe: Add spices to recipe', 'step_description': 'Add green spice\\n', 'is_continued': False, 'is_procedural': False, 'is_relevant': 'essential', 'summary': []}, {'start_time': 404.13627, 'end_time': 462.2783, 'step_category': 'Add ingredients to the recipe: Add potato to recipe', 'step_description': 'Add sliced potato in pot\\n', 'is_continued': False, 'is_procedural': False, 'is_relevant': 'essential', 'summary': []}, {'start_time': 462.77044, 'end_time': 474.31145, 'step_category': 'Add ingredients to the recipe: Add onion to recipe', 'step_description': 'Add sliced onions', 'is_continued': False, 'is_procedural': False, 'is_relevant': 'essential', 'summary': []}]}, {'start_time': 475.60468, 'end_time': 481.231, 'step_category': 'General activity: Wash hands', 'step_description': 'rinses hands under tap', 'is_continued': True, 'is_procedural': False, 'is_relevant': 'essential', 'summary': [], 'segments': []}, {'start_time': 484.24214, 'end_time': 524.511, 'step_category': 'Make recipes: Cook or prepare soup', 'step_description': 'prepares soup in pot', 'is_continued': True, 'is_procedural': True, 'is_relevant': 'essential', 'summary': ['adds olive oil', 'adds salt', 'adds pepper', 'adds green spice'], 'segments': [{'start_time': 484.96432, 'end_time': 498.02644, 'step_category': 'Add ingredients to the recipe: Add oil to recipe', 'step_description': ' Add olive oil\\n', 'is_continued': False, 'is_procedural': False, 'is_relevant': 'essential', 'summary': []}, {'start_time': 499.78425, 'end_time': 506.69872, 'step_category': 'Add ingredients to the recipe: Add salt to recipe', 'step_description': 'adds salt\\n', 'is_continued': False, 'is_procedural': False, 'is_relevant': 'essential', 'summary': []}, {'start_time': 506.96595, 'end_time': 512.14969, 'step_category': 'Add ingredients to the recipe: Add pepper spice to recipe', 'step_description': 'Add pepper\\n', 'is_continued': False, 'is_procedural': False, 'is_relevant': 'essential', 'summary': []}, {'start_time': 512.26415, 'end_time': 524.4051, 'step_category': 'Add ingredients to the recipe: Add spices to recipe', 'step_description': 'Add green spice', 'is_continued': False, 'is_procedural': False, 'is_relevant': 'essential', 'summary': []}]}, {'start_time': 524.54482, 'end_time': 528.74954, 'step_category': 'Cook on a stovetop: Turn on the stovetop', 'step_description': 'ignites cooking gas', 'is_continued': False, 'is_procedural': False, 'is_relevant': 'essential', 'summary': [], 'segments': []}]}\n"
     ]
    }
   ],
   "source": [
    "#target_video = '51224e32-3d6c-4148-9eea-7b73da751f25'#'0c192ca8-1ede-4ef0-a05e-2f4151b6bdfc'#'ac582760-09b1-4a6e-be08-f19f9bf5dfcb'\n",
    "\n",
    "for video in train_data[\"videos\"]:\n",
    "    if video['video_uid'] == target_video:\n",
    "        print(video)"
   ]
  },
  {
   "cell_type": "code",
   "execution_count": null,
   "id": "5566aed3",
   "metadata": {},
   "outputs": [],
   "source": []
  },
  {
   "cell_type": "code",
   "execution_count": 45,
   "id": "2118f3fb",
   "metadata": {},
   "outputs": [],
   "source": [
    "video_uids = [x[\"video_uid\"] for x in train_data[\"videos\"]]"
   ]
  },
  {
   "cell_type": "code",
   "execution_count": 48,
   "id": "ba3b4f92",
   "metadata": {},
   "outputs": [
    {
     "data": {
      "text/plain": [
       "'39d087b0-afc2-47d8-ba91-b70dd8fab90e 2f6da5f6-e26c-4ac3-8f71-12386f7588e2 09bccca1-368b-4776-9433-3c8835837110 0c192ca8-1ede-4ef0-a05e-2f4151b6bdfc 6639f53c-701d-4fe7-adcd-55d040ce8afe grp-090c6bc0-49da-4d3b-b209-a1a60aeb0317 d9691bde-a0b2-4521-8374-a74f594aaaac 4c642620-db0e-4096-9ece-2b2c6fdb47b0 grp-ab070b36-def2-4ad7-a760-2a9ce29ce505 bbe7b4ee-0e62-4fb5-877e-d4c76a0c8247 952b1fa3-05cc-4c2b-8897-47d02cd598b8 grp-d250521e-5197-44aa-8baa-2f42b24444d2 5cdf77b8-7bf8-421b-99b6-19fa6429aeb4 546a1aed-676d-44ed-a63c-8db89fa4d935 94d5eff8-0fac-4719-adf2-5c0208ab89f7 91e3e6ce-bc01-4720-a490-e319dd380509 1938c632-f575-49dd-8ae0-e48dbb467920 b0a55292-f9a0-4af2-8f2a-bd6d7eff2b2e 51224e32-3d6c-4148-9eea-7b73da751f25 b83285c5-0b88-4ced-a52e-5c34ea371507 grp-2be0151d-8ee7-4e7a-adf5-6b2b3d5afdb0 68205f0f-9b30-4d81-986d-f8816e70bddd 0ebb682e-6aec-482c-bbb7-774ec5eca906 78b06017-cd7b-441c-ba48-33c04e37a82a 1bece8d5-2d0f-47bb-a1f0-4fc3f94970f5 4dcf1151-b0dd-49e8-8e76-3d0075d4c3f7 4371dce1-6911-4366-b36b-b62cb9b094b5 4fa75795-ddc4-4582-9715-bb7887439263 grp-344098b8-3b27-4a98-a11d-f18fa5c25a5c grp-5c00fc7f-e94b-47ac-98bb-a04896fd6092 grp-0cf6e8bd-48a6-4764-9367-c59603a00e4e 6aa40272-f90f-4f51-839a-2d2769dd4885 c939aae4-e7c8-453c-8671-40573db0c656 f5b87541-3879-444f-be65-2b17f1d95735 8383791d-2df9-4bac-89b6-4cc01df5f4d1 748536e4-636a-4dc6-b1a7-d9cbfdc1cffd grp-66a0900b-069d-48bf-9071-f4e659f8a9d0 f7a0beb6-b220-40c0-a72d-ec4b79134a73 grp-9f28e782-417c-4c8b-a7ae-42fc96a0e94f grp-e191e0de-e570-4925-9cbb-e05fe1132a47 4bddae9e-8ffb-4a03-9421-adf6268d91b6 48475a9f-e11e-46f7-bdb6-398b44af344e b4072935-56a6-4765-bb4d-d5f6bbeb95b9 e7341197-a3ee-4259-a392-32e766ef07c6 f52ff936-bd41-46f0-a1c2-44eb5dd6e575 aa7e4a70-abda-4ef4-a1e0-5af5bda1e560 737e9619-7768-407c-8a4f-6fe1e8d61f04 c79e05d5-eaf6-4323-a707-744020743037 0fe191ef-c28a-422c-aede-46f8aa8532a6 f1f66ad3-09d6-447f-baa1-9c0a638fad3b 1ab9d5f7-0181-458e-a5e7-72ce87501f3e 71c04f59-46c2-4ac8-af56-e04b29acc8ec grp-0eb88d90-6da1-4957-bc4f-1ced804cd7ce 1025f75a-dc3d-4a90-9542-8a92755e0761 9961615a-7e54-4b22-84ee-8e05f52c22df 97811639-7def-4034-8083-a82a59156234 grp-0b215326-8706-4611-9b76-3402d617f19e 2c27b5f1-4af6-49ad-a43c-3efb0c150868 ce90119f-0fb4-486b-b785-588e8f2bcb2d ec3556de-be79-4ad4-aa0f-eaca48abb5d5 58b2a4a4-b721-4753-bfc3-478cdb5bd1a8 d51a0b73-1ad7-4d4e-be99-714f6637668a 26202090-684d-4be8-b3cc-de04da827e91 grp-bbd4830e-fad8-4339-8290-eb298cf6ca30 f4cc5fdc-f64f-4dd7-9b95-61db9bbf33d5 2ea4e012-4664-4701-917f-7efffedaab7f grp-fc70c4fe-13e1-4691-ab97-501a22b3a71e 3a03f541-a520-4b67-87b2-f9c79f9b54ee e7bb40bd-2ba3-4ac9-8e10-b209504f2964 grp-a738fe92-4d8e-48db-9c1f-280a7471b5dd fa35a547-13b5-4355-873c-322c1860349a grp-6fea409b-159e-45cb-8fac-da7779d02309 grp-94cdabf3-c078-4ad4-a3a1-c42c8fc3f4ad f42ae9c2-d43e-45af-8adb-02d0b16b2ef7 767dbef9-f625-4785-810c-7d8c78c1eddb be8889c4-114f-4cb2-9e2c-fef576dbb00d d13dab0f-6165-43a5-b68a-79921dfba509 f938bcd9-bf30-4dfb-9a99-d6b9ee53c046 7376150d-53e2-43be-b97a-1c31723556ab grp-86b7a8dc-e0ba-4b21-a097-eed463fb2747 15d2dc4a-b935-49f4-ae91-4c9100b681c8 2f46d1e6-2a85-4d46-b955-10c2eded661c b69e598c-a6e5-4830-bb8d-15b77e0a6154 6c1123bb-1aab-46e9-a69f-54e459e4bf50 grp-f6a0d8f5-468d-4e47-bfca-e7d13b75f26d cda837dd-1632-45f8-88f7-cfbf7875523b ebc9f0f8-924b-47d1-a639-de4f2d6e6a4c 3ec3eab7-842d-409d-8866-42ddcbd24cd9 3feecf60-787b-4472-ab8d-a5b49c51d1f4 37d183ce-ba64-4ad2-8a54-ae2fb791fd38 272e8bcd-32a8-48ce-a9c4-a5f0a4f15145 ab875220-cd6c-410d-8fbc-94742e51e775 grp-65403036-df60-4ccb-ac72-2808b841665c grp-a3e528b8-dce9-431f-b3ca-b2707f3439d2 93f78437-229d-4824-a8c1-68d9b17e754d 42d548dc-bb10-427f-a1fe-468f31bc0de5 grp-6de30946-5d3a-47a8-b1d0-790937405da3 grp-d13aa822-29de-428a-bdf4-f4d6ec4a22e0 5507440a-595e-4049-b43b-ac7c9bbae1a9 grp-745aef91-750a-48aa-9464-88802a2a7a40 269eea13-c70a-42f6-aba5-41ef622d3112 grp-d59f69bd-8250-4d06-998b-f057f51e6a8f grp-415c9b83-b4a1-49ba-832b-f77c2e6f996c 42e4a840-68a1-4992-923d-7452500b4218 grp-95710114-4168-47b4-a63e-a4d220b42fcf grp-ef725741-fe17-4bd2-ad6e-aba3e9468fd5 049cfb89-3bcc-4fa3-8d0e-4e7e218b05ae c2aecde5-ea0c-4343-83c1-355b050e6ffe f43bb351-fb98-4a74-bd50-f57e91d3863f fa2f1291-3796-41a6-8f7b-6e7c1491b9b2 d36bb05b-2b9a-468c-93c1-7469aa559baf 5093842e-7cf9-4509-bf04-6e0ec6b75b27 9fabfbc8-1d5c-495e-9bb2-03795f0145ae grp-530dd2a8-462c-450b-9f38-1dfff28f139e grp-87cfce50-3d03-4ffe-b9a7-e94a435175e3 grp-5aa3cd50-4925-4a1a-a8d5-2e18af017660 f735d4bb-d65e-4965-ac0d-270c0b9e5993 4474c9c2-9d20-46fd-8fec-7d64942738e7 e3d02ddb-f386-4ae3-a62d-e4fe4db7f345 bc6bf18b-0ef8-4cb9-aa51-d5d3558916e5 690f58f1-f18c-4415-bab0-787c2f83d051 grp-229e8124-605e-4c86-b4ac-fc03e0a71111 grp-dc4afc9e-7a2d-4876-b5cf-fde740582358 grp-74462b79-89be-40c4-8148-e176fc150265 32ccccb7-547d-4bd3-9669-d6bb71466fe4 7f806670-8a33-4462-b02d-305c1426475b 24ba7993-7fc8-4447-afd5-7ff6d548b11a d362ba00-301d-4e88-8786-c4da2684e62e 892629b0-61eb-425d-97f4-7d213074c435 debfb68a-eae2-464e-847a-cd3fea23f3ca 58aff1ab-21a8-4ba3-a006-8d3bb12b2ccc 15440074-6cd7-479c-b308-4d68bf813cc1 2763117d-04c7-4b65-bd9f-1c549051113d 3534864b-2289-4aaf-b3ed-10eeeee7acd2 0f07958c-04e3-4be9-9118-f3313c4e183e f319b070-3775-4a57-95d8-43aab8e67394 a16dde53-8a4d-4246-aab4-9759f0af81f0 grp-8338763a-3f8c-47b1-a6e7-fa3af04cfbf3 a9c13069-d229-4e09-92e8-bd6cf3c3448a grp-8c8e2e9b-2c15-4dac-a4b2-16a3dda1eac4 7913c8a8-1f99-4c2d-8a5d-9a5793162447 grp-0869732c-5228-4a28-9c5a-467a5ebef78c b491e3c2-80b4-441f-908b-814cf80d57e6 6dafeac7-75b6-4d69-96f7-d08708a0a99e 2d5b5f4e-8854-4d60-afb6-ccaf9814d4fb ca1773b8-ec8e-4f61-8e8f-7e4211830793 254e8485-eb84-461a-aed5-a71716588fad bb16e081-d56d-40c0-a000-6d59ddb4498d 227165a6-277b-451c-bcda-1d2cf60577ab 2800eb2e-b97c-4d63-8178-b7d1510731a6 466c9201-dba2-44e9-93c4-82788ac6282b 9e9c5b05-c7d4-450d-9850-e6ae83caa9a5 grp-8e92e289-96dd-4777-b485-3dd1efb2d757 ad331cf7-e2bc-4c3a-b987-41bad0521281 b94a8b8e-6645-4732-aed7-61fe0f9c1b28 ac582760-09b1-4a6e-be08-f19f9bf5dfcb grp-8eac6789-726f-4d09-a713-b3ce6a45ac21 4d1b11b2-e53a-40a5-a3a5-2b2441c60e17 0fedfa42-bfda-47c1-8f59-2c91b2c229fe grp-22db2380-7ca6-4747-ad13-79a1a084bf54 016bfe72-74ef-4956-9cc9-7a7ad2f6ab48 cae284a9-0794-4dc0-879a-3126d51a71b6 e6bdfe96-48c7-48c9-a5c8-5f09aee849b7 2da5c1ee-bd40-406d-83a7-2f3d93293949 020f30ad-0a70-4aaf-835b-fb394830b06c 573fc64b-6613-449a-aa28-69810a346e14 01ce4fd6-197a-4792-8778-775b03780369 06bb2e99-5112-4987-ac5b-9fd52bb144d0 798cc542-3fd4-42eb-9bf4-f3910603158b 3817b065-3d46-44ff-b6a6-8c4d646165f2 433fb84b-4f39-4d31-9975-3185d8a9bac1 35e0e637-ea14-40a6-b930-a0d063aef5d4 bf6e4f01-7891-42fe-9b52-1b5033379b44 25b86bdb-b2ca-4d25-b139-2d203cc48979 2c7f1ac0-25cc-49ac-8924-548ef35c98a0 bbcf6b2b-0885-4c8b-a779-6aefdc108475 grp-b0c747fb-6126-4d24-8a98-eed8c211834e grp-ef348048-3886-484a-8662-6bb59d3fd829 6f19928b-79d6-43ef-9567-b34b70de4042 grp-42686a5b-10d2-499f-b9a8-8043f528efdd grp-a6bd7096-ada1-4fe1-a81b-3b7609a39f31 grp-5009ae25-4bc5-47c2-b4be-5a94d53539f3 grp-6073bebd-0755-428d-a652-63efcdc4f4e5 0c7c9f06-9ddd-46df-83c2-20c8edcf1a9b grp-64246b7f-86c9-4062-a11f-3352fae1fca1 grp-292b2447-407d-45b5-8663-8d92a3f03064 3b989129-a310-4aa9-85f5-e5e9a90df99b 77cdd8dd-402b-45d7-a16c-a16520c737e3 ffdb7654-1b86-4cc6-9453-834bbe3361aa a055e4e8-cc07-47c1-a438-06f45c4f724c ba23930c-cef7-4f3e-b5bb-8f0a4ae5b1e4 bcfd04cb-a544-42dc-bf53-71190f23e681 3a9464f8-5025-4a79-ac94-9e3d51f1ef49 6ac1d2ed-1f6b-4828-a1ab-f81c40bd5e80 b936190d-3df3-4ae8-afe2-ce71ab695aae 538c2f0a-f89e-47b5-b012-047a1b98de27 c0f702e1-d2e3-4277-8981-7177d106174a 7ea94f18-3b89-4c8e-aa91-685a76fc4e01 grp-51cb7800-2c5a-473c-86d3-e87f4bc5e65d ae0300cd-994f-4e7d-9d61-78c823c292b6 1120c597-930c-49b7-8a61-f0dce9c31be5 c546c508-8352-4c5c-8770-e8f30fb4562a 6bdc7ecb-0d9c-461f-8f32-ee0fbbe47c49 ccc05b6c-1c3d-4748-9ba4-9d87efc42fe3 grp-b19ba0e0-c95b-497a-9cf3-151ffa18d099 623ee886-3326-4d70-b6c1-e9c969e23f62 grp-8c309d88-bf71-49f3-9d05-b7a1d84babd4 826e419a-8788-484f-9543-550964666762 487ca35f-25c6-4e5d-9ba9-d079bc4c162a bf198d9c-8e12-4426-9d42-7017cf4a5aeb e09a667f-04bc-49b5-8246-daf248a29174 b17ff269-ec2d-4ad8-88aa-b00b75921427 f054bbcf-e9ed-42f7-8dd4-9167a9f24035 grp-e230ee03-c90d-426c-91d2-256bdc0a3e68 7ffad86d-f151-42d7-8adb-d5667c3bc7bc 5c2e910c-84e0-4042-b5d6-880a731c3e67 grp-bfbb0a28-756c-441b-a0a0-de04288fae47 543e4c99-5d9f-407d-be75-c397d633fe56 321b5e21-2951-40c9-a2f9-6ce0c145cfb8 28fe3d66-382b-425a-8409-3cf17f5c8670 grp-5b728b4b-d750-4ca3-953b-eb712ddadf07 grp-ee401f80-7732-4f67-a9bb-0c1e58b40b84 5b4ee633-78b9-4282-b001-5a85373d549e cf95d6a4-6ad7-462c-9700-9f04bd993667 457ddf5b-8154-4099-aadf-df0c08fe15a4 115774b6-534d-444f-b7aa-d1b834eb0ee7 9434b584-177a-49ea-8402-078e9d7f933a a7a31f23-8348-405e-a01a-cad63010bcc7 5c15607b-96af-4503-84b4-d1745f3a3ae0 02953bf3-4b5b-45ea-8339-465ed47a9337 64d62404-4689-462a-a573-e49aff0b350a 7fdfeb1d-f27d-4689-9e19-1367fad530f9 3d06684b-1cfb-45f0-8321-57c1635e590a 341b5211-bb72-4bec-bd3d-c0d518887960 2043d7fa-c369-431e-8bd4-3826c6c5d9cc b2bd978d-1c84-4f58-897e-02667fdc156a 206cef4f-5301-4a9e-8f87-1fa3905bf9bd grp-ece7309f-9e11-4cd0-93e7-e5bcf38eb78b 526d389b-a187-4c63-a5c6-c36bd66266b6 3f38e607-c9d0-43fd-8ba8-952f73fa8e64 4f7fb690-4ee7-4555-87bd-0fe6171b4239 dfaba491-c7e9-43c0-8294-b5b96d22fa7e 5e9e692b-dd68-4618-bfa3-012a7934abc2 f9a98d72-b5f1-4840-9093-d351586269c0 69c7d261-18f8-4a1d-9f56-6b4e8eac4d23 57e88d87-257e-434d-953e-6025367e99fe bd716d32-2fad-46b3-a93a-f5b4b618deb4 f0204f83-ea03-4c33-b7e7-13d2188ab3e5 3c0dffd0-e38e-4643-bc48-d513943dc20b b9c91169-7019-4bfa-8a63-97df8cbefe97 9b58e3ab-7b6d-4e79-9eea-c21420b0eedc f295992e-6615-4007-9461-e6320cfaa696 a267b011-b1db-4e3c-aa49-438e2afdd6dc 29e00040-6e0f-4f0e-816d-1ac97c1e5485 edc1869c-8a97-44fd-ab47-63fda4a54df9 c13c132e-97df-4969-b525-9cca74ad218e da6a171b-188a-4a9d-978f-0a8a784481d7 64b06e7f-de80-4793-a31c-55e2bb535c82 39d0559a-d1e8-4fca-b7f4-db87bbbbde7e grp-982e2d58-f1a9-444b-9151-756a920dcd9e e75caa1f-8658-432c-b559-f6a1f3fc409c 4d620f82-6792-49eb-8bd4-e831a252c70b 62b73007-c94a-4c7e-a39f-98df30139f1c 99482472-b8cc-47c9-9f54-e0ff4e42182b ab9c4cd4-632f-43d0-8bdd-1d41ac037f50 6eb083c4-a7dc-454b-84bc-2f0d8a69dffe 6a5fa00b-64de-4851-98fa-7e96f3f441f6 grp-690f58f1-f18c-4415-bab0-787c2f83d051 grp-526a15e9-39a2-49a0-ba0b-83da2e276b09 36248b1e-9ba7-4789-bbf5-b9e33e3ab408 70f2a750-f403-41b8-aabb-480eb3ab4ed4 9b14c997-a2a2-4920-84e2-8278c66e860a grp-c8e39184-6bf1-48e4-9c62-441b58f6e391 95b0ae61-6063-4b35-a406-edfefeffe43d 0ae6293e-eda5-44f7-b56e-e8f27fcde953 51364391-163c-484c-8de5-122abb5898de 0d2d5c6d-08e6-461f-baac-a6cbf467e86f 1e5ca2af-3f1b-40d5-b3a7-d712ac4b5065 cba13243-5ad3-4360-87df-6286867c473a 8db05748-e83e-4422-ac45-de586be75f70 5deac998-26a7-4725-a6bf-235202373732 02a06bf1-51b8-4902-b088-573e29fcd7ec fb5ea36d-8164-40cd-b786-dd1e70b985d4 77718528-2de9-48b4-b6b8-e7c602032afb f3a0487b-70f6-4446-99a0-16dc78019ee7 8c3e4a8e-f4dd-44f8-be1f-3b4d4d503556 grp-401c588f-907f-4559-b6f7-8180ae6969ec e0f75a35-4dde-44ef-aee7-cab38e4524f6 grp-b59f7f5d-2991-49a6-8e88-0e2f2db92585 793a9c9d-327e-4457-9c40-e626b2208aae 2978ddbc-cdc9-4bfa-9a7c-4bf056904010 c799c3ab-9e07-427c-94f9-0d9d295153b8 d37e336e-31b7-464f-bc74-f836279dcee3 51fc7393-cb83-4178-9ade-6c7853a001e0 grp-aee01849-0c36-4e61-ad3f-0304ee4ee999 grp-8d30335e-635c-43b6-b1e1-09fa12033416 dcd09fa4-afe2-4a0d-9703-83af2867ebd3 18f5c2be-cb79-46fa-8ff1-e03b7e26c986 105d3303-8e2d-4c20-96ff-e9a8ff325109 abab0e69-f7e4-40c1-aa58-375798df487a a1cf9215-730c-4c5a-9980-3108250984c2 7f9f75fd-a660-4635-8890-239c6ad82023 7a176aa7-d8b0-4df6-b694-36361f80a77a 4e5663cd-24ba-4461-8d6f-665a45c97dfb 30f78038-4b88-4dd3-be80-4f2fe791f3e1 95e3cefa-e6a2-4c1e-831d-616a86ff177b c9a135a3-233e-4e76-9793-0fca387345e4 d2e05761-29c4-4dd5-8ef6-027e40fea282 e339898f-5e79-4723-89d7-44ba33b163de 2725d34b-04d5-411a-b405-c5e12d167ade 8fc2c084-ff56-4112-af4a-dfa2609f17c3 0d1b2c6a-e71a-4aa1-8a40-2c877b34aa73 cb235c78-e524-417a-89fd-57b682bb223b 406c7c13-4390-4c19-99c6-68861245da0d 1f110c61-1f3e-4f23-8e0d-886f5cdfb761 1a894d3c-b3ef-448a-a3de-2b38677cef36 8dcbac26-8ea1-4b55-b269-882eda459ee1 98434f4c-6216-4067-ad59-4a89cb47bb9b 487d752c-6e22-43e3-9c08-627bc2a6c6d4 grp-1f6e01ad-350e-4665-b094-dbff31d0460d 4a969457-e470-4533-9b1b-72904f5d7ff8 grp-487f5966-3469-4753-9b44-7899a311d73d grp-ed22d86f-992b-4df9-8847-15134f19fe0d grp-36061570-8403-4cc1-8ea0-1de39853d47b grp-8b9b9816-d6eb-4544-818e-9d59e400b80d grp-7f959a19-7aaa-40f7-8159-726e85aa513b a6419de9-1e40-4793-b21b-9c8d9038835a 6e4baf27-2090-4a90-816b-a35a0aff0e56 grp-40d6688c-fc38-4b92-ab7a-62ebfb4d310e grp-97f3c1c5-3fc2-4bc8-8956-b6e679ace868 d2de811c-9255-4c4f-8a54-a2fc65527f59 d27d4db8-c1c5-46e0-af9f-bc9aa24f1d4c 8d27f903-5c76-4a63-9d0b-2ff2d29ae9a9 grp-7f70ae0a-d097-4dda-9afa-318188dfce2d grp-3f0286ca-92d7-4366-b510-d3146251d825 6b3972a8-98ee-46b7-83d4-6d8cb192e920 9d1f1f10-32fc-4d7d-8131-4254c68fb845 1c795a0e-e718-466f-8bee-46febdc2b17a 9faf5095-8741-4b2d-8b2e-e803467c7130 9db435f7-e89c-44fe-842f-2544b2660507 grp-63f522db-8a30-4eab-a1a1-d4e89c800dd0 f2f94646-069f-4a5e-8db0-5d3b779790af 7e3b7dff-bf38-4352-8adc-43799beb556f grp-2deae04b-c991-425b-b00e-5fd6c0e7f117 7e8d03f2-2ff9-431d-af81-e5ffcd954a63 grp-3ba731dd-156e-419b-80de-c19d4f88aa7d 8ff7558e-8f83-41a6-9860-792aaad455dc 2ba0becb-58c2-43a1-97bb-7e153a34eb47 grp-f7b7c31e-cfdb-4029-b850-9f7ba98e42c2 1ead2ccf-0c67-41e7-88d3-de7ecd0c8c7c grp-cecd4a27-9e08-4e56-b288-f3eeab2ac8a6 grp-e09ffaab-08c0-46ce-b242-ee029a4306be ee7bc1e4-fca9-4c23-9b98-63ce27333824 026dac2d-2ab3-4f9c-9e1d-6198db4fb080 db532215-0f8f-4cb9-8118-004746c5786f aa30794e-fd69-4e30-99a8-5c44dd3ecbf7 5dab6f94-5ca7-4985-bcd0-67f4fc04687a 089359b2-bab1-40c4-bddb-cd9bbf47c931 grp-62786c81-614b-4c6e-966b-4541c829b0e7 20ef0632-9c41-43d0-aea4-60307be7431a grp-63932be6-4b53-4390-bf5b-1706282353f9 grp-f30e01bb-e8f1-42d2-922c-aa7b66da9035 grp-3f0bd238-228d-4796-a3e4-820308fb04b0 c5a22c25-2649-4441-8bb0-777af79d544e 64b355f3-ef49-4990-8622-9e9eef68b495 grp-a790b051-6a4a-47d2-ba1c-349a1dd29049 4b3153ab-c0dd-4792-ad9a-96abe1311da4 grp-4a36b555-865b-43ad-ba27-cf022521bb6d grp-9c9a1df7-2423-4e84-8f81-152869f98862 grp-0d32d3bd-bfc8-4631-9002-7ffd97e4d65f 8837c861-ef7a-41b1-bb40-a597dd254031 3c0a04d4-ae07-4150-94ee-e4b4e4ac742f d3146817-e038-4fce-b407-fa955b2d1963 grp-7124feaf-8255-4bad-b99b-7b2b1fe71d8b grp-a037eb93-9749-4022-8925-471aefb946b5 2ce4a646-43d5-4501-ae4c-fcba545baa9f 47bb1fd4-d41f-42b4-8d0c-29c4e9fdff9f grp-69c9d98e-c125-4d24-b180-aea768ef900a db8e8171-882a-4359-ae23-89de26c98e84 d7a2e92e-dc74-4e79-be04-a86f829fc3ec 5baf4e1b-582a-4fbc-9391-3e794057c759 4bc033f3-9bfe-4b00-8595-09148707bb02 1dc85adb-fbdd-4275-b9cf-42976acb4d14 2b7d3454-447e-415f-a22f-2a32445bebf9 8e6f1793-33e7-47af-b565-ed7fd8d4a4a3 024713b7-b198-4502-a114-02ca0485353b grp-33b87859-7487-423d-b899-36c84abffd02 grp-6146205c-f045-4368-acc2-a60dc5e1490b 6c47fe78-9441-4b8e-8b16-f99a9c507c00 grp-9e4edf4d-e557-4b3d-bc35-0d7f1f91019b grp-3ee7070a-fe81-49a9-97a2-902268af9985 843e6d37-9722-4b71-acbd-d1e2774ae2af 597b1ca1-e2ea-4a0e-8be0-31b713151ba2 grp-96677cbb-14bc-457a-9dbc-498e3c457f3b 6f3bbdad-4454-4de7-a97f-d3840fe2ff0a 5dd8a212-e71d-48b1-956a-cf3e99d74953 grp-20bdff17-7831-4982-a4d2-705697c49b42 5dde766e-e93a-4d48-b3c7-96774f24d39d 4d19cd93-f45a-4b94-aecd-6a4be2e524ec c7e49f16-df6f-456d-9b3b-c04354f26add grp-ea33c0ee-82e7-4c65-adf1-dbbd9fc83d9b grp-10358e57-51f9-4db5-903e-11529bdde9a6 9b990848-7edb-4501-b8ff-5ada88405592 55510a84-858b-4857-bb9f-6a923b5f7882 78e73d85-db28-4fd0-ab07-df18f397388f 5d9261fb-7d80-4cb0-b601-38c17fbf6f75 53da674a-089d-428a-a719-e322b2de002b 5ce1f996-f784-4c9e-8208-e370bf8adf39 495172da-f1f8-459e-bffa-e8cec7dfc52e c1382500-1379-4f71-a14e-2cbf443611f0 4d980c7b-3e02-47ff-8a11-af55d04a8c4d 18c05110-1ef1-4da2-8b59-c80bf0cc9751 d0cd84b0-afb3-4dde-9263-baaa4f40463a eb2652af-7458-431a-a0a7-9e263594b910 grp-342c7d2a-509b-4a35-83d3-0dd14c58a4da grp-c05fa645-0673-4a79-b6dc-7854f56f7d06 dcd30089-0bff-430d-a8ae-c41516301d88 c85a2212-db93-4258-af1f-ba25d558d066 grp-8aa8a9ce-9ff9-4ff8-a61b-3f6cb999f61a e4257a81-330b-4b51-b560-36b59c4d4679 58baa94e-8a14-4608-907b-ddcda8cd7e21 31cbf7bb-d464-4ec3-bddd-c387766f8572 907fd0e7-6821-4e2d-9c62-6d7afad5a9d1 fd0839c6-2472-4e23-a69f-31e2f62c2c95 grp-d813a821-8cc1-4700-a7a4-d4e6edfed26e 55af042b-23ae-45f9-943d-3765a83a5d44 grp-c7df0fe0-38ac-4fc1-a068-498ed8ac8ad2 672c902a-7871-4e8f-bae5-6e12e2a4e342 14e9c56e-b418-4bbf-bfe0-63810ef744d4 c707920d-846e-4dc2-9f16-71705507669f grp-dc7320e9-fc3d-497c-9ba4-fbbb1b28d79d 994616c8-63b0-47bd-a526-0680f4acff9e 28e0affc-cacb-4db8-ab32-dfc16931b86a 628f181f-de40-4db8-b56c-f1b62ab6ba8a 6d738e16-abe9-4e7f-870b-1c60ea2cd257 grp-2991a3c3-ce12-4fdf-806c-a4c5608c4624 10fe0677-6ee2-4252-b007-e75a3797e807 ae03efc8-6d45-4013-b834-33729283992f grp-b21c02b1-0ac9-4739-8524-f7b061d92777 0fb8012d-430d-4b45-a8eb-5fd8cb43f5b0 c8f8ebf1-5613-4f4a-802c-ada5e4c4b651 82c57c2c-45e8-4a1e-b4b6-46b5c3fc1bf3 ff8a5283-bf6e-40ef-b662-c91216d24c0d a8425172-35e9-4b94-9360-91328e84ea47 bac30fe6-c597-4f1a-add1-d8d989205d98 375ca7e7-1e3c-4159-9f7f-4691ef11f322 5bc10385-011f-4dc5-832e-58f48ffe8fe5 grp-509abfee-b1aa-41a6-8c80-6dc7ce2afd94 ed60dcdb-b273-44e7-b5dc-f9527d7c403f 29e45749-f8d5-42c7-af09-7fbb3d6697e9 6f93978d-a3d0-467d-b401-e23b3c92f3bf grp-c9d4550d-76d9-47f7-b1e4-916cbef743e5 73a525a3-f393-47e3-b3f7-1ecc5b5f0437 grp-eb6422b1-c6da-4aff-bc62-189131fa8a96 6b89ed88-54d3-427f-835f-6a5345206955 a49bdcc8-8f23-445d-bae0-8d9e5c4d9c63 fea524d4-a1b6-466c-ac48-8777c3fd173d grp-1f9c087f-0d2e-424a-8f90-d5402d639fb8 95114c1f-5849-4b40-ab78-7d415034d6f8 daf5384b-ea5c-4cce-bb8a-540a360075bf a75199b2-6032-427c-bb94-0429e97e1859 88b48d98-361c-4663-a406-3c21aeab6972 5036befb-ecf4-4a8b-a9a7-d6aeafaaa462 c19c69ba-ac3a-4ba9-82ea-d09e77876f7e ac0c1dbc-2552-49c8-9bc9-f18074a53156 ec3f2fa8-babe-4407-97bc-8fe8f1ee27be 06cf946b-4713-4ca2-addf-55ce95a26d98 adf4d8c5-2c49-4d25-9a20-7dc29bbda0ce 54a1c38b-6d19-4ec9-bd71-189a1b4ff67a grp-72732366-3a3f-44d0-8cba-3c1c0f4659ca 2b8a34f9-10ac-4961-86e1-b09de51a15cd grp-19fed6e1-5a0b-4042-9d6e-bb606936cb50 201af2e0-72dd-466c-8280-8c3dc00a7981 56fe0c73-77c4-40d9-a687-b2df28d5f7d7 grp-50b2fa2f-9d39-4b9c-8e3c-4a4ef0669956 ba11fcda-0048-4440-a7e8-fd15d1661a27 c82d38c0-e570-4e50-9bde-1f1c3c5a0ad8 grp-7b271797-e305-491d-a4f2-58cf4b1e1456 14bcb17c-f70a-41d5-b10d-294388084dfc 8dfdf47b-b446-4866-b38f-54add1a8e702 324ec8a1-3bd1-46b6-9abb-a824e53c0879 e4ab68fe-3560-4dc1-8dbf-f8d4df39f770 92540c42-ea23-4838-9348-a39901344049 grp-1f65c1a4-00a1-49fb-a7bf-91b70c606316 grp-81bb7d9f-31c1-4ef6-a4be-12284c641ec6 ab7ed4f7-10ee-4ccb-bb21-4853c9018b1e 7ba01fd2-4b09-4825-a98b-348519e9b731 grp-c88e94a6-5b9a-49a0-9c8a-1fde00d1f97f grp-e19b1be3-8ee9-44cc-ae7d-99a3591ebba5 grp-82ace2ff-4a87-4abe-ba45-3965bbc13658 grp-a43fbc55-2835-447f-b88f-1ce3d426d790 31d6fe77-da70-42da-8f47-66bb79b9285b 9732292c-19dd-4457-8b29-c6e18cc82977 414f3e08-b515-4c9b-9d9f-eeccf586fb3a bb04b03d-ae0d-416a-8c4c-b2325edec070 16a1999e-f488-4da8-a367-a037a94ac79f 2dbb7845-1de0-4e26-877a-035c051d12a5 f86e10e3-ba23-4b1b-8964-82876eed5863 eaa560d5-6432-4030-a03a-b6ba512e621d 1c14c094-8a86-4e61-bf94-5e3ad7cbd120 grp-e3c805ff-3afc-4275-9e4d-b91937aeb642 115cb95f-7030-4eab-b5de-120b63b3f21c 5461912b-69cd-40d7-8f79-50832f92f049 e6231d1a-1f7f-4198-a499-7635509adfaf 35080724-6604-401c-8b06-19b7cece3d45 grp-217b513e-ce31-4118-875d-51393db09cfe 2413dce7-2c3e-43cd-8482-fbc3ed465adf e8a47631-b7e6-4c7d-bf0f-a37bf1ec913a c75ff6d3-b909-46bf-82ce-da0c1ba0333c 89857b33-fa50-469a-bbb3-91c8ab655931 grp-ffd863cb-f06b-404e-a013-54acb61f1ed9 5ca76592-eb15-4531-9c28-a1431c115f41 46e07357-6946-4ff0-ba36-ae11840bdc39 grp-bcb745e1-55a3-41a4-9013-8977a2837737 grp-bb9b356a-c038-4214-85dd-9039ab41cffc 15758e99-690c-49d0-ae5f-92acc47df06e 002d2729-df71-438d-8396-5895b349e8fd f5ac654b-8f39-427b-856f-4a9a2d4a3020 grp-d7949184-0578-4cc8-ac05-b0c65bdb3d1c 04041aaa-d309-42db-b65c-dcaf86b9f96c c13c8d8c-917c-4071-9fe4-f7f166f3e6b2 grp-deea1ad6-01dd-4ea5-b5f0-932b2292bed1 2bd1593c-ae88-417e-827f-3997201da229 65a76574-ef3e-4aa0-b1b0-7df9e5f34296 bdb9673c-8585-4d1c-9459-fbe4b56c2149 c7715af7-8687-41b7-94ec-51e526450637 4adf81a9-0e72-4fed-b0d2-bb84246cb7b6 d67e2788-e28c-417d-8142-f081a0c174c8 e6185339-0e35-4337-8260-5d43b46ecbff 46766cb1-52b9-4ce3-a413-abb4c9950136 c615d305-14fe-41cd-9099-caf420beb604 grp-90a0cc01-f498-490a-bda1-01ad94db2946 55e6a9ac-9a1d-47f7-be3d-eea1296d1627 2c8fe342-f08b-474f-ae35-843cf583a19a grp-a9b2b5ec-dff3-4154-a34c-a0ec3722495d 72c1c79c-c222-49c3-a20d-cf76e865b9bd e4ad6fd7-2e3e-4991-b392-a0056f702286 grp-5e15c5d1-06b5-408b-bd16-c5e277a2da82 a84e378e-c9d5-4ace-8e42-e07b95784746 9df7ece6-df68-4158-a294-06aa242c2b9d grp-cd12361d-4162-4d47-826e-7f0bcd8878a1 3eb0829f-6f33-46b6-b491-c6c53200de4b grp-bfd0b75b-25b0-44a3-b1dd-2e8e9c0e9364 fe452f9c-d389-4f2a-82e8-ee87d6ee94a9 3728f856-0d47-4614-824f-37b6dda8e357 2bc7d6fa-a02e-4367-b316-d6b4e8a2ce3f e334bf47-e5f0-4922-8cde-4700951fa193 grp-056220c6-3c5c-419d-87b2-286e8a3c0706 216e3f0e-ccb9-4d54-ba56-d275fedbf52f grp-09a00c95-fce3-41d7-ab1c-a19692eea8f3 grp-21d4012a-bc29-46ac-a2d0-d2ba504a2f83 ea9f7fd9-a572-4ccb-a4bf-19a61976ea83 grp-9239bf0f-db8c-4378-866d-15f302da08b5 d5f74b8a-7636-45c3-9c1b-9e0a596c2b56 8e910cd4-9d9d-477d-b10d-c4bb01135813 a23b3840-0a21-4bdc-87df-b0c3b7df6bd2 e8c52c5d-4d8f-4d9f-befd-29f661f80f27 4a3fe6c1-bfdc-4bbb-a430-3cc19fbd484b be462bcf-13ad-446a-8dfb-248cb2e3417a grp-cacb6d38-3451-4223-aa13-7ef58a6573db grp-a82e3cde-345a-4e63-a405-a3c32d4d3314 2270f91a-6ef7-47ff-a743-cead1744fa74 6628a2fb-19e2-4fe5-aedb-92fe5ceee9c9 f2ee7e0b-c4f3-4f8b-af9e-8d1cea686be5 7921902b-293f-49e2-9401-d96791a90e15 a06ac945-e65f-4259-9563-00bbcf62436f 3005b4c5-5f20-4190-af07-4a65ebb478ed e250017c-16ff-4825-9c30-160f391e1549 0a09f8fc-ff87-4210-b682-d2ae38af33eb 4e0f3560-0a0b-4952-b5d7-1e98c3734f0b cddbe0c1-8b82-4cc8-bd9f-152081bc51fc 94c24bfc-c712-4e7e-9be0-4ea3ac215a79 282e9dfa-a79f-4cee-b251-59b48ce05815 516203a8-70b3-4e9f-8279-f7bb92a95c81 20474be2-080f-48bd-a30c-871b9664e806 9a30454f-b06b-45b7-a8a0-90d3f4ea2eb1 ae2d99c2-1720-4354-bc4d-f7bc3e4ee28d ec718d69-4356-42c0-966b-87bbcd70179f ba2402fb-fe9a-40ea-bd0c-1eb5e5f747d5 7e34a240-f880-42a1-ba19-79dba39a6cb0 38a7b760-56f9-4565-8b70-f8dad5768ace 38ead8a1-4d57-4bfb-b7dc-a9785b22f93a 3e057cdc-bf48-4090-81d6-b66bb18542e7'"
      ]
     },
     "execution_count": 48,
     "metadata": {},
     "output_type": "execute_result"
    }
   ],
   "source": [
    "\" \".join(video_uids)"
   ]
  },
  {
   "cell_type": "code",
   "execution_count": null,
   "id": "fdd2a441",
   "metadata": {},
   "outputs": [],
   "source": []
  }
 ],
 "metadata": {
  "kernelspec": {
   "display_name": "Python 3 (ipykernel)",
   "language": "python",
   "name": "python3"
  },
  "language_info": {
   "codemirror_mode": {
    "name": "ipython",
    "version": 3
   },
   "file_extension": ".py",
   "mimetype": "text/x-python",
   "name": "python",
   "nbconvert_exporter": "python",
   "pygments_lexer": "ipython3",
   "version": "3.8.13"
  }
 },
 "nbformat": 4,
 "nbformat_minor": 5
}
