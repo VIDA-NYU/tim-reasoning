{
 "cells": [
  {
   "cell_type": "markdown",
   "metadata": {},
   "source": [
    "### Using the Baseline for Reasoning"
   ]
  },
  {
   "cell_type": "code",
   "execution_count": 1,
   "metadata": {},
   "outputs": [],
   "source": [
    "from tim_reasoning import BaselineReasoning"
   ]
  },
  {
   "cell_type": "code",
   "execution_count": 2,
   "metadata": {},
   "outputs": [],
   "source": [
    "recipe_instructions = '''\n",
    "Take the orange. Lightly smack the orange. \n",
    "Grab the knife and cut the orange with the knife in half. \n",
    "Squeeze the orange into a glass. \n",
    "Enjoy the juice.'''"
   ]
  },
  {
   "cell_type": "code",
   "execution_count": 3,
   "metadata": {},
   "outputs": [
    {
     "name": "stderr",
     "output_type": "stream",
     "text": [
      "/Users/rlopez/opt/anaconda3/envs/allennlp/lib/python3.7/site-packages/allennlp/tango/__init__.py:18: UserWarning: AllenNLP Tango is an experimental API and parts of it might change or disappear every time we release a new version.\n",
      "  \"AllenNLP Tango is an experimental API and parts of it might change or disappear \"\n"
     ]
    }
   ],
   "source": [
    "baseline = BaselineReasoning(recipe_instructions, '/Users/rlopez/PTG/experiments/models/structured-prediction-srl-bert.2020.12.15.tar.gz')"
   ]
  },
  {
   "cell_type": "code",
   "execution_count": 4,
   "metadata": {},
   "outputs": [
    {
     "name": "stdout",
     "output_type": "stream",
     "text": [
      "STEP            ACTION          OBJECTS\n",
      "Step 1          take            orange\n",
      "Step 2          smack           orange\n",
      "Step 3          grab            knife\n",
      "Step 4          cut             orange, knife half\n",
      "Step 5          squeeze         orange, glass\n",
      "Step 6          enjoy           juice\n",
      "Graph task built (6 steps)\n"
     ]
    }
   ],
   "source": [
    "baseline.build_task_graph()"
   ]
  },
  {
   "cell_type": "code",
   "execution_count": 5,
   "metadata": {},
   "outputs": [
    {
     "name": "stdout",
     "output_type": "stream",
     "text": [
      "Take orange\n"
     ]
    }
   ],
   "source": [
    "instruction = baseline.begin_instructions()\n",
    "print(instruction)"
   ]
  },
  {
   "cell_type": "code",
   "execution_count": 6,
   "metadata": {},
   "outputs": [
    {
     "name": "stdout",
     "output_type": "stream",
     "text": [
      "Next step is: \"Smack orange\"\n"
     ]
    }
   ],
   "source": [
    "objects = ['orange']\n",
    "instruction = baseline.next_instruction(objects)\n",
    "print(instruction)"
   ]
  },
  {
   "cell_type": "code",
   "execution_count": 7,
   "metadata": {},
   "outputs": [
    {
     "name": "stdout",
     "output_type": "stream",
     "text": [
      "Next step is: \"Grab knife\"\n"
     ]
    }
   ],
   "source": [
    "objects = ['orange']\n",
    "instruction = baseline.next_instruction(objects)\n",
    "print(instruction)"
   ]
  },
  {
   "cell_type": "code",
   "execution_count": 8,
   "metadata": {},
   "outputs": [
    {
     "name": "stdout",
     "output_type": "stream",
     "text": [
      "Next step is: \"Cut orange\"\n"
     ]
    }
   ],
   "source": [
    "objects = ['knife']\n",
    "instruction = baseline.next_instruction(objects)\n",
    "print(instruction)"
   ]
  },
  {
   "cell_type": "code",
   "execution_count": 9,
   "metadata": {},
   "outputs": [
    {
     "name": "stdout",
     "output_type": "stream",
     "text": [
      "Next step is: \"Squeeze orange\"\n"
     ]
    }
   ],
   "source": [
    "objects = ['knife', 'orange']\n",
    "instruction = baseline.next_instruction(objects)\n",
    "print(instruction)"
   ]
  },
  {
   "cell_type": "code",
   "execution_count": 10,
   "metadata": {},
   "outputs": [
    {
     "name": "stdout",
     "output_type": "stream",
     "text": [
      "Next step is: \"Enjoy juice\", and that is all!\n"
     ]
    }
   ],
   "source": [
    "objects = ['glass', 'orange']\n",
    "instruction = baseline.next_instruction(objects)\n",
    "print(instruction)"
   ]
  }
 ],
 "metadata": {
  "kernelspec": {
   "display_name": "Python 3 (ipykernel)",
   "language": "python",
   "name": "python3"
  },
  "language_info": {
   "codemirror_mode": {
    "name": "ipython",
    "version": 3
   },
   "file_extension": ".py",
   "mimetype": "text/x-python",
   "name": "python",
   "nbconvert_exporter": "python",
   "pygments_lexer": "ipython3",
   "version": "3.7.11"
  }
 },
 "nbformat": 4,
 "nbformat_minor": 2
}
