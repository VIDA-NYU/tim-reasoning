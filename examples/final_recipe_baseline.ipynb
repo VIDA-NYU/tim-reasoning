{
 "cells": [
  {
   "cell_type": "code",
   "execution_count": 1,
   "id": "66b4bb1e-884c-4751-9ce5-55bc30b475db",
   "metadata": {},
   "outputs": [
    {
     "data": {
      "application/vnd.jupyter.widget-view+json": {
       "model_id": "03a2df96e4c949dda96f93d0ac39cee9",
       "version_major": 2,
       "version_minor": 0
      },
      "text/plain": [
       "downloading:   0%|          | 0.00/387M [00:00<?, ?iB/s]"
      ]
     },
     "metadata": {},
     "output_type": "display_data"
    },
    {
     "data": {
      "application/vnd.jupyter.widget-view+json": {
       "model_id": "7225cd4b5a14426ab2a23c4ee236cf7b",
       "version_major": 2,
       "version_minor": 0
      },
      "text/plain": [
       "Downloading:   0%|          | 0.00/28.0 [00:00<?, ?B/s]"
      ]
     },
     "metadata": {},
     "output_type": "display_data"
    },
    {
     "data": {
      "application/vnd.jupyter.widget-view+json": {
       "model_id": "75540a2fb4fc444db926b63502f48bcd",
       "version_major": 2,
       "version_minor": 0
      },
      "text/plain": [
       "Downloading:   0%|          | 0.00/570 [00:00<?, ?B/s]"
      ]
     },
     "metadata": {},
     "output_type": "display_data"
    },
    {
     "data": {
      "application/vnd.jupyter.widget-view+json": {
       "model_id": "2b7c345f5a3f4f85a334411172a656c5",
       "version_major": 2,
       "version_minor": 0
      },
      "text/plain": [
       "Downloading:   0%|          | 0.00/226k [00:00<?, ?B/s]"
      ]
     },
     "metadata": {},
     "output_type": "display_data"
    },
    {
     "data": {
      "application/vnd.jupyter.widget-view+json": {
       "model_id": "fcb3c28a312649aca1d238d39938db08",
       "version_major": 2,
       "version_minor": 0
      },
      "text/plain": [
       "Downloading:   0%|          | 0.00/455k [00:00<?, ?B/s]"
      ]
     },
     "metadata": {},
     "output_type": "display_data"
    },
    {
     "data": {
      "application/vnd.jupyter.widget-view+json": {
       "model_id": "7f06d3f1245345a2961a1dd570c06855",
       "version_major": 2,
       "version_minor": 0
      },
      "text/plain": [
       "Downloading:   0%|          | 0.00/420M [00:00<?, ?B/s]"
      ]
     },
     "metadata": {},
     "output_type": "display_data"
    },
    {
     "name": "stdout",
     "output_type": "stream",
     "text": [
      "huggingface/tokenizers: The current process just got forked, after parallelism has already been used. Disabling parallelism to avoid deadlocks...\n",
      "To disable this warning, you can either:\n",
      "\t- Avoid using `tokenizers` before the fork if possible\n",
      "\t- Explicitly set the environment variable TOKENIZERS_PARALLELISM=(true | false)\n",
      "Collecting en-core-web-sm==3.2.0\n",
      "  Downloading https://github.com/explosion/spacy-models/releases/download/en_core_web_sm-3.2.0/en_core_web_sm-3.2.0-py3-none-any.whl (13.9 MB)\n",
      "     ━━━━━━━━━━━━━━━━━━━━━━━━━━━━━━━━━━━━━━━━ 13.9/13.9 MB 27.5 MB/s eta 0:00:00\n",
      "Requirement already satisfied: spacy<3.3.0,>=3.2.0 in /opt/anaconda3/envs/s/lib/python3.10/site-packages (from en-core-web-sm==3.2.0) (3.2.4)\n",
      "Requirement already satisfied: wasabi<1.1.0,>=0.8.1 in /opt/anaconda3/envs/s/lib/python3.10/site-packages (from spacy<3.3.0,>=3.2.0->en-core-web-sm==3.2.0) (0.9.1)\n",
      "Requirement already satisfied: murmurhash<1.1.0,>=0.28.0 in /opt/anaconda3/envs/s/lib/python3.10/site-packages (from spacy<3.3.0,>=3.2.0->en-core-web-sm==3.2.0) (1.0.7)\n",
      "Requirement already satisfied: pydantic!=1.8,!=1.8.1,<1.9.0,>=1.7.4 in /opt/anaconda3/envs/s/lib/python3.10/site-packages (from spacy<3.3.0,>=3.2.0->en-core-web-sm==3.2.0) (1.8.2)\n",
      "Requirement already satisfied: srsly<3.0.0,>=2.4.1 in /opt/anaconda3/envs/s/lib/python3.10/site-packages (from spacy<3.3.0,>=3.2.0->en-core-web-sm==3.2.0) (2.4.3)\n",
      "Requirement already satisfied: requests<3.0.0,>=2.13.0 in /opt/anaconda3/envs/s/lib/python3.10/site-packages (from spacy<3.3.0,>=3.2.0->en-core-web-sm==3.2.0) (2.27.1)\n",
      "Requirement already satisfied: catalogue<2.1.0,>=2.0.6 in /opt/anaconda3/envs/s/lib/python3.10/site-packages (from spacy<3.3.0,>=3.2.0->en-core-web-sm==3.2.0) (2.0.7)\n",
      "Requirement already satisfied: typer<0.5.0,>=0.3.0 in /opt/anaconda3/envs/s/lib/python3.10/site-packages (from spacy<3.3.0,>=3.2.0->en-core-web-sm==3.2.0) (0.4.1)\n",
      "Requirement already satisfied: tqdm<5.0.0,>=4.38.0 in /opt/anaconda3/envs/s/lib/python3.10/site-packages (from spacy<3.3.0,>=3.2.0->en-core-web-sm==3.2.0) (4.62.3)\n",
      "Requirement already satisfied: thinc<8.1.0,>=8.0.12 in /opt/anaconda3/envs/s/lib/python3.10/site-packages (from spacy<3.3.0,>=3.2.0->en-core-web-sm==3.2.0) (8.0.16)\n",
      "Requirement already satisfied: pathy>=0.3.5 in /opt/anaconda3/envs/s/lib/python3.10/site-packages (from spacy<3.3.0,>=3.2.0->en-core-web-sm==3.2.0) (0.6.1)\n",
      "Requirement already satisfied: langcodes<4.0.0,>=3.2.0 in /opt/anaconda3/envs/s/lib/python3.10/site-packages (from spacy<3.3.0,>=3.2.0->en-core-web-sm==3.2.0) (3.3.0)\n",
      "Requirement already satisfied: preshed<3.1.0,>=3.0.2 in /opt/anaconda3/envs/s/lib/python3.10/site-packages (from spacy<3.3.0,>=3.2.0->en-core-web-sm==3.2.0) (3.0.6)\n",
      "Requirement already satisfied: blis<0.8.0,>=0.4.0 in /opt/anaconda3/envs/s/lib/python3.10/site-packages (from spacy<3.3.0,>=3.2.0->en-core-web-sm==3.2.0) (0.7.7)\n",
      "Requirement already satisfied: spacy-loggers<2.0.0,>=1.0.0 in /opt/anaconda3/envs/s/lib/python3.10/site-packages (from spacy<3.3.0,>=3.2.0->en-core-web-sm==3.2.0) (1.0.2)\n",
      "Requirement already satisfied: spacy-legacy<3.1.0,>=3.0.8 in /opt/anaconda3/envs/s/lib/python3.10/site-packages (from spacy<3.3.0,>=3.2.0->en-core-web-sm==3.2.0) (3.0.9)\n",
      "Requirement already satisfied: setuptools in /opt/anaconda3/envs/s/lib/python3.10/site-packages (from spacy<3.3.0,>=3.2.0->en-core-web-sm==3.2.0) (58.0.4)\n",
      "Requirement already satisfied: click<8.1.0 in /opt/anaconda3/envs/s/lib/python3.10/site-packages (from spacy<3.3.0,>=3.2.0->en-core-web-sm==3.2.0) (8.0.4)\n",
      "Requirement already satisfied: jinja2 in /opt/anaconda3/envs/s/lib/python3.10/site-packages (from spacy<3.3.0,>=3.2.0->en-core-web-sm==3.2.0) (3.0.3)\n",
      "Requirement already satisfied: numpy>=1.15.0 in /opt/anaconda3/envs/s/lib/python3.10/site-packages (from spacy<3.3.0,>=3.2.0->en-core-web-sm==3.2.0) (1.21.5)\n",
      "Requirement already satisfied: cymem<2.1.0,>=2.0.2 in /opt/anaconda3/envs/s/lib/python3.10/site-packages (from spacy<3.3.0,>=3.2.0->en-core-web-sm==3.2.0) (2.0.6)\n",
      "Requirement already satisfied: packaging>=20.0 in /opt/anaconda3/envs/s/lib/python3.10/site-packages (from spacy<3.3.0,>=3.2.0->en-core-web-sm==3.2.0) (21.3)\n",
      "Requirement already satisfied: pyparsing!=3.0.5,>=2.0.2 in /opt/anaconda3/envs/s/lib/python3.10/site-packages (from packaging>=20.0->spacy<3.3.0,>=3.2.0->en-core-web-sm==3.2.0) (3.0.6)\n",
      "Requirement already satisfied: smart-open<6.0.0,>=5.0.0 in /opt/anaconda3/envs/s/lib/python3.10/site-packages (from pathy>=0.3.5->spacy<3.3.0,>=3.2.0->en-core-web-sm==3.2.0) (5.2.1)\n",
      "Requirement already satisfied: typing-extensions>=3.7.4.3 in /opt/anaconda3/envs/s/lib/python3.10/site-packages (from pydantic!=1.8,!=1.8.1,<1.9.0,>=1.7.4->spacy<3.3.0,>=3.2.0->en-core-web-sm==3.2.0) (4.0.1)\n",
      "Requirement already satisfied: idna<4,>=2.5 in /opt/anaconda3/envs/s/lib/python3.10/site-packages (from requests<3.0.0,>=2.13.0->spacy<3.3.0,>=3.2.0->en-core-web-sm==3.2.0) (3.3)\n",
      "Requirement already satisfied: certifi>=2017.4.17 in /opt/anaconda3/envs/s/lib/python3.10/site-packages (from requests<3.0.0,>=2.13.0->spacy<3.3.0,>=3.2.0->en-core-web-sm==3.2.0) (2020.6.20)\n",
      "Requirement already satisfied: urllib3<1.27,>=1.21.1 in /opt/anaconda3/envs/s/lib/python3.10/site-packages (from requests<3.0.0,>=2.13.0->spacy<3.3.0,>=3.2.0->en-core-web-sm==3.2.0) (1.26.8)\n",
      "Requirement already satisfied: charset-normalizer~=2.0.0 in /opt/anaconda3/envs/s/lib/python3.10/site-packages (from requests<3.0.0,>=2.13.0->spacy<3.3.0,>=3.2.0->en-core-web-sm==3.2.0) (2.0.10)\n",
      "Requirement already satisfied: MarkupSafe>=2.0 in /opt/anaconda3/envs/s/lib/python3.10/site-packages (from jinja2->spacy<3.3.0,>=3.2.0->en-core-web-sm==3.2.0) (2.0.1)\n",
      "Installing collected packages: en-core-web-sm\n",
      "Successfully installed en-core-web-sm-3.2.0\n"
     ]
    },
    {
     "name": "stderr",
     "output_type": "stream",
     "text": [
      "WARNING: You are using pip version 22.0.4; however, version 22.1 is available.\n",
      "You should consider upgrading via the '/opt/anaconda3/envs/s/bin/python -m pip install --upgrade pip' command.\n"
     ]
    },
    {
     "name": "stdout",
     "output_type": "stream",
     "text": [
      "\u001b[38;5;2m✔ Download and installation successful\u001b[0m\n",
      "You can now load the package via spacy.load('en_core_web_sm')\n"
     ]
    }
   ],
   "source": [
    "import tim_reasoning as tir"
   ]
  },
  {
   "cell_type": "markdown",
   "id": "5045fb67-78f5-468b-abbe-ce60fcfcd2f8",
   "metadata": {},
   "source": [
    "## Recipe A: Pinwheels\n",
    "\n",
    "### Ingredients\n",
    " - 1 8-inch flour tortilla\n",
    " - Jar of nut butter or allergy-friendly alternative (such as sunbutter, soy butter, or seed butter) Jar of jelly, jam, or fruit preserves\n",
    " - Tools and Utensils\n",
    " - cutting board\n",
    " - butter knife\n",
    " - paper towel\n",
    " - toothpicks\n",
    " - ~12-inch strand of dental floss plate\n",
    "\n",
    "### Instructions\n",
    "1. Place tortilla on cutting board.\n",
    "2. Use a butter knife to scoop about a tablespoon of nut butter from the jar. Spread nut butter\n",
    "onto tortilla, leaving 1/2-inch uncovered at the edges.\n",
    "3. Clean the knife by wiping with a paper towel.\n",
    "4. Use the knife to scoop about a tablespoon of jelly from the jar. Spread jelly over the nut butter.\n",
    "5. Clean the knife by wiping with a paper towel.\n",
    "6. Roll the tortilla from one end to the other into a log shape, about 1.5 inches thick. Roll it tight\n",
    "enough to prevent gaps, but not so tight that the filling leaks.\n",
    "7. Secure the rolled tortilla by inserting 5 toothpicks about 1 inch apart.\n",
    "8. Trim the ends of the tortilla roll with the butter knife, leaving 1⁄2 inch margin between the last\n",
    "toothpick and the end of the roll. Discard ends.\n",
    "9. Slide floss under the tortilla, perpendicular to the length of the roll. Place the floss halfway\n",
    "between two toothpicks.\n",
    "10. Cross the two ends of the floss over the top of the tortilla roll. Holding one end of the floss in\n",
    "each hand, pull the floss ends in opposite directions to slice.\n",
    "11. Continue slicing with floss to create 5 pinwheels.\n",
    "12. Place the pinwheels on a plate."
   ]
  },
  {
   "cell_type": "markdown",
   "id": "15a453f3-538a-40ea-b83c-98cb66f3458d",
   "metadata": {},
   "source": [
    "post hoc verification:\n",
    " - tortilla is on cutting board\n",
    "     - more than 80% on ?\n",
    " - peanut butter is spread on tortilla\n",
    "     - 1/2 inch around the edges\n",
    " - knife is cleaned (optional)\n",
    " - tortilla is rolled into log shape\n",
    "     - log is 1.5 inches thick\n",
    "     - filling not leaking\n",
    " - 5 toothpicks inserted into the tortilla\n",
    "     - equally spaced\n",
    " - trim ends of the tortilla roll\n",
    "     - 1/2 inch between the last toothpick\n",
    " - \n",
    "     "
   ]
  },
  {
   "cell_type": "markdown",
   "id": "7e39f8a4-9d70-489d-951c-45270bbbe599",
   "metadata": {},
   "source": [
    "1. tortilla\n",
    "    - tortilla is on top of cutting board\n",
    "2. PB\n",
    "    - active butter knife and peanut butter\n",
    "    - knife has tablespoon of peanut butter on it\n",
    "4. "
   ]
  },
  {
   "cell_type": "code",
   "execution_count": 2,
   "id": "2432bdaf-681f-4304-9924-14cd424145e1",
   "metadata": {},
   "outputs": [],
   "source": [
    "recipe = '''\n",
    "1. Place tortilla on cutting board.\n",
    "2. Use a butter knife to scoop about a tablespoon of nut butter from the jar. Spread nut butter\n",
    "onto tortilla, leaving 1/2-inch uncovered at the edges.\n",
    "3. Clean the knife by wiping with a paper towel.\n",
    "4. Use the knife to scoop about a tablespoon of jelly from the jar. Spread jelly over the nut butter.\n",
    "5. Clean the knife by wiping with a paper towel.\n",
    "6. Roll the tortilla from one end to the other into a log shape, about 1.5 inches thick. Roll it tight\n",
    "enough to prevent gaps, but not so tight that the filling leaks.\n",
    "7. Secure the rolled tortilla by inserting 5 toothpicks about 1 inch apart.\n",
    "8. Trim the ends of the tortilla roll with the butter knife, leaving 1⁄2 inch margin between the last\n",
    "toothpick and the end of the roll. Discard ends.\n",
    "9. Slide floss under the tortilla, perpendicular to the length of the roll. Place the floss halfway\n",
    "between two toothpicks.\n",
    "10. Cross the two ends of the floss over the top of the tortilla roll. Holding one end of the floss in\n",
    "each hand, pull the floss ends in opposite directions to slice.\n",
    "11. Continue slicing with floss to create 5 pinwheels.\n",
    "12. Place the pinwheels on a plate.\n",
    "'''"
   ]
  },
  {
   "cell_type": "code",
   "execution_count": 3,
   "id": "e0a2c587-7866-437c-aa76-fd67ee768ad2",
   "metadata": {},
   "outputs": [
    {
     "name": "stdout",
     "output_type": "stream",
     "text": [
      "STEP            ACTION          OBJECTS\n",
      "Step 1          place           tortilla, board\n",
      "Step 2          cutting         \n",
      "Step 3          use             butter knife, tablespoon nut butter jar\n",
      "Step 4          scoop           tablespoon nut butter, jar\n",
      "Step 5          spread          nut butter, tortilla\n",
      "Step 6          leaving         inch, \n",
      "Step 7          uncovered       inch\n",
      "Step 8          clean           knife\n",
      "Step 9          wiping          paper towel\n",
      "Step 10         use             knife, tablespoon jelly jar\n",
      "Step 11         scoop           tablespoon jelly, jar\n",
      "Step 12         spread          , nut butter\n",
      "Step 13         clean           knife\n",
      "Step 14         wiping          paper towel\n",
      "Step 15         roll            tortilla, log shape inches\n",
      "Step 16         roll            \n",
      "Step 17         prevent         \n",
      "Step 18         filling         leaks\n",
      "Step 19         secure          tortilla\n",
      "Step 20         rolled          tortilla\n",
      "Step 21         inserting       toothpicks inch\n",
      "Step 22         trim            ends tortilla roll\n",
      "Step 23         leaving         inch margin\n",
      "Step 24         ends            \n",
      "Step 25         slide           \n",
      "Step 26         place           floss, toothpicks\n",
      "Step 27         cross           ends floss, tortilla roll\n",
      "Step 28         holding         end floss, hand\n",
      "Step 29         pull            floss\n",
      "Step 30         slice           \n",
      "Step 31         continue        floss pinwheels\n",
      "Step 32         slicing         \n",
      "Step 33         create          pinwheels\n",
      "Step 34         place           pinwheels, plate\n"
     ]
    },
    {
     "ename": "IndexError",
     "evalue": "list index out of range",
     "output_type": "error",
     "traceback": [
      "\u001b[0;31m---------------------------------------------------------------------------\u001b[0m",
      "\u001b[0;31mIndexError\u001b[0m                                Traceback (most recent call last)",
      "\u001b[0;32m/var/folders/xc/pw9rt_qd4csc7jcxt11bwbdr0000gn/T/ipykernel_9634/3926383843.py\u001b[0m in \u001b[0;36m<module>\u001b[0;34m\u001b[0m\n\u001b[1;32m      1\u001b[0m \u001b[0mbaseline\u001b[0m \u001b[0;34m=\u001b[0m \u001b[0mtir\u001b[0m\u001b[0;34m.\u001b[0m\u001b[0mBaselineReasoning\u001b[0m\u001b[0;34m(\u001b[0m\u001b[0mrecipe\u001b[0m\u001b[0;34m)\u001b[0m\u001b[0;34m\u001b[0m\u001b[0;34m\u001b[0m\u001b[0m\n\u001b[0;32m----> 2\u001b[0;31m \u001b[0mbaseline\u001b[0m\u001b[0;34m.\u001b[0m\u001b[0mbuild_task_graph\u001b[0m\u001b[0;34m(\u001b[0m\u001b[0;34m)\u001b[0m\u001b[0;34m\u001b[0m\u001b[0;34m\u001b[0m\u001b[0m\n\u001b[0m",
      "\u001b[0;32m/opt/Github/tim-reasoning/tim_reasoning/baseline_reasoning.py\u001b[0m in \u001b[0;36mbuild_task_graph\u001b[0;34m(self)\u001b[0m\n\u001b[1;32m     52\u001b[0m         \u001b[0;32mfor\u001b[0m \u001b[0mi\u001b[0m \u001b[0;32min\u001b[0m \u001b[0mrange\u001b[0m\u001b[0;34m(\u001b[0m\u001b[0mlen\u001b[0m\u001b[0;34m(\u001b[0m\u001b[0mactions\u001b[0m\u001b[0;34m)\u001b[0m\u001b[0;34m)\u001b[0m\u001b[0;34m:\u001b[0m\u001b[0;34m\u001b[0m\u001b[0;34m\u001b[0m\u001b[0m\n\u001b[1;32m     53\u001b[0m             step = {'action': actions[i], 'objects': objects[i],\n\u001b[0;32m---> 54\u001b[0;31m                     \u001b[0;34m'instruction'\u001b[0m\u001b[0;34m:\u001b[0m \u001b[0;34m'%s %s'\u001b[0m \u001b[0;34m%\u001b[0m \u001b[0;34m(\u001b[0m\u001b[0mactions\u001b[0m\u001b[0;34m[\u001b[0m\u001b[0mi\u001b[0m\u001b[0;34m]\u001b[0m\u001b[0;34m.\u001b[0m\u001b[0mcapitalize\u001b[0m\u001b[0;34m(\u001b[0m\u001b[0;34m)\u001b[0m\u001b[0;34m,\u001b[0m \u001b[0mobjects\u001b[0m\u001b[0;34m[\u001b[0m\u001b[0mi\u001b[0m\u001b[0;34m]\u001b[0m\u001b[0;34m[\u001b[0m\u001b[0;36m0\u001b[0m\u001b[0;34m]\u001b[0m\u001b[0;34m)\u001b[0m\u001b[0;34m,\u001b[0m\u001b[0;34m\u001b[0m\u001b[0;34m\u001b[0m\u001b[0m\n\u001b[0m\u001b[1;32m     55\u001b[0m                     'description': '%s %s' % (actions[i], ' '.join(objects[i])), 'is_done': False}\n\u001b[1;32m     56\u001b[0m             \u001b[0mself\u001b[0m\u001b[0;34m.\u001b[0m\u001b[0mgraph_task\u001b[0m\u001b[0;34m.\u001b[0m\u001b[0mappend\u001b[0m\u001b[0;34m(\u001b[0m\u001b[0mstep\u001b[0m\u001b[0;34m)\u001b[0m\u001b[0;34m\u001b[0m\u001b[0;34m\u001b[0m\u001b[0m\n",
      "\u001b[0;31mIndexError\u001b[0m: list index out of range"
     ]
    }
   ],
   "source": [
    "baseline = tir.BaselineReasoning(recipe)\n",
    "baseline.build_task_graph()"
   ]
  },
  {
   "cell_type": "markdown",
   "id": "f1ca6d63-fffe-4e0c-a3c3-41fa54cfdb0b",
   "metadata": {},
   "source": [
    "## Recipe B: Pour-over Coffee\n",
    "\n",
    "### Ingredients\n",
    " - 12 oz water\n",
    " - 25 grams whole coffee beans\n",
    " - Tools and Utensils\n",
    " - 2-cup liquid measuring cup electric kettle\n",
    " - kitchen scale\n",
    " - coffee grinder\n",
    " - filter cone dripper (stainless steel)\n",
    " - paper basket filter (standard 8-12 cup size) 12-ounce coffee mug\n",
    " - thermometer\n",
    " - timer (optional)\n",
    "\n",
    "### Instructions\n",
    "1. Measure 12 ounces of cold water and transfer to a kettle.\n",
    "2. While the water is boiling, assemble the filter cone. Place the dripper on top of a coffee mug.\n",
    "3. Prepare the filter insert by folding the paper filter in half to create a semi-circle, and in half again\n",
    "to create a quarter-circle. Place the paper filter in the dripper and spread open to create a cone.\n",
    "4. Weigh the coffee beans and grind until the coffee grounds are the consistency of course sand,\n",
    "about 20 seconds. Transfer the grounds to the filter cone.\n",
    "5. Once the water has boiled, check the temperature. The water should be between 195-205\n",
    "degrees Fahrenheit or between 91-96 degrees Celsius. If the water is too hot, let it cool briefly.\n",
    "6. Pour a small amount of water in the filter to wet the grounds. Wait for coffee to bloom, about\n",
    "30 seconds. You will see small bubbles or foam on the coffee grounds during this step.\n",
    "7. Slowly pour the rest of the water over the grounds in a circular motion. Do not overfill beyond\n",
    "the top of the paper filter.\n",
    "8. Let the coffee drain completely into the mug before removing the dripper. Discard the paper\n",
    "filter and coffee grounds."
   ]
  },
  {
   "cell_type": "code",
   "execution_count": null,
   "id": "99152c8c-4e0b-4ad4-afa6-2bd05fcef161",
   "metadata": {},
   "outputs": [],
   "source": []
  },
  {
   "cell_type": "markdown",
   "id": "7448175b-6c9b-409c-b02d-098b94bd58a2",
   "metadata": {},
   "source": [
    "## Recipe C: Mug Cake\n",
    "\n",
    "### Ingredients\n",
    " - 2 Tablespoons all-purpose flour\n",
    " - 1.5 Tablespoons granulated sugar\n",
    " - 1⁄4 teaspoon baking powder\n",
    " - Pinch salt\n",
    " - 2 teaspoons canola or vegetable oil\n",
    " - 2 Tablespoons water\n",
    " - 1⁄4 teaspoon vanilla extract\n",
    " - Container of chocolate frosting (premade)\n",
    " - Tools and Utensils\n",
    " - measuring spoons small mixing bowl whisk\n",
    " - paper cupcake liner 12-ounce coffee mug plate\n",
    " - microwave\n",
    " - zip-top bag, snack or sandwich size scissors\n",
    " - spoon\n",
    "\n",
    "### Instructions\n",
    "1. Place the paper cupcake liner inside the mug. Set aside.\n",
    "2. Measure and add the flour, sugar, baking powder, and salt to the mixing bowl.\n",
    "3. Whisk to combine.\n",
    "4. Measure and add the oil, water, and vanilla to the bowl.\n",
    "5. Whisk batter until no lumps remain.\n",
    "6. Pour batter into prepared mug.\n",
    "7. Microwave the mug and batter on high power for 60 seconds.\n",
    "8. Check the cake for doneness; it should be mostly dry and springy at the top. If the cake still looks wet, microwave for an additional 5 seconds.\n",
    "9. Invert the mug to release the cake onto a place. Carefully remove paper liner.\n",
    "10. While the cake is cooling, prepare to pipe the frosting. Scoop a spoonful of chocolate frosting\n",
    "into a zip-top bag and seal, removing as much air as possible.\n",
    "11. Use scissors to cut one corner from the bag to create a small opening 1⁄4-inch in diameter.\n",
    "12. Squeeze the frosting through the opening to apply small dollops of frosting to the plate in a\n",
    "circle around the base of the cake."
   ]
  },
  {
   "cell_type": "code",
   "execution_count": null,
   "id": "63de339e-0a99-40e9-8b3b-878c1b411363",
   "metadata": {},
   "outputs": [],
   "source": []
  }
 ],
 "metadata": {
  "kernelspec": {
   "display_name": "(conda)s",
   "language": "python",
   "name": "s"
  },
  "language_info": {
   "codemirror_mode": {
    "name": "ipython",
    "version": 3
   },
   "file_extension": ".py",
   "mimetype": "text/x-python",
   "name": "python",
   "nbconvert_exporter": "python",
   "pygments_lexer": "ipython3",
   "version": "3.10.0"
  },
  "widgets": {
   "application/vnd.jupyter.widget-state+json": {
    "state": {},
    "version_major": 2,
    "version_minor": 0
   }
  }
 },
 "nbformat": 4,
 "nbformat_minor": 5
}
