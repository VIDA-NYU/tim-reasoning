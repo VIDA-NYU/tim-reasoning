{
 "cells": [
  {
   "cell_type": "markdown",
   "metadata": {},
   "source": [
    "# Using the State Manager"
   ]
  },
  {
   "cell_type": "code",
   "execution_count": 1,
   "metadata": {},
   "outputs": [
    {
     "name": "stdout",
     "output_type": "stream",
     "text": [
      "INFO: Better speed can be achieved with apex installed from https://www.github.com/nvidia/apex .\n",
      "INFO: Better speed can be achieved with apex installed from https://www.github.com/nvidia/apex .\n"
     ]
    }
   ],
   "source": [
    "from tim_reasoning import StateManager"
   ]
  },
  {
   "cell_type": "code",
   "execution_count": 2,
   "metadata": {},
   "outputs": [],
   "source": [
    "import logging\n",
    "# Change level of logging for all modules\n",
    "for logger_name in logging.root.manager.loggerDict:\n",
    "    logging.getLogger(logger_name).setLevel(logging.CRITICAL)"
   ]
  },
  {
   "cell_type": "code",
   "execution_count": 3,
   "metadata": {},
   "outputs": [],
   "source": [
    "# See the README file to download the models\n",
    "configs = {'rule_classifier_path': '/Users/rlopez/PTG/experiments/models/recipe_tagger',\n",
    "           'bert_classifier_path': '/Users/rlopez/PTG/experiments/models/bert_classifier/'} "
   ]
  },
  {
   "cell_type": "code",
   "execution_count": 4,
   "metadata": {},
   "outputs": [],
   "source": [
    "manager = StateManager(configs)"
   ]
  },
  {
   "cell_type": "code",
   "execution_count": 5,
   "metadata": {},
   "outputs": [],
   "source": [
    "recipe = {\n",
    "      \"name\":\"Pinwheels\",\n",
    "      \"ingredients\":[\n",
    "        \"1 8-inch flour tortilla\",\n",
    "        \"Jar of nut butter or allergy-friendly alternative (such as sunbutter, soy butter, or seed butter)\",\n",
    "        \"Jar of jelly, jam, or fruit preserves\"\n",
    "      ],\n",
    "      \"tools\":[\n",
    "        \"cutting board\",\n",
    "        \"butter knife\",\n",
    "        \"paper towel\",\n",
    "        \"toothpicks\",\n",
    "        \"~12-inch strand of dental floss\",\n",
    "        \"plate\"\n",
    "      ],\n",
    "      \"instructions\":[\n",
    "        \"Place tortilla on cutting board.\",\n",
    "        \"Use a butter knife to scoop nut butter from the jar. Spread nut butter onto tortilla, leaving 1/2-inch uncovered at the edges.\",\n",
    "        \"Clean the knife by wiping with a paper towel.\",\n",
    "        \"Use the knife to scoop jelly from the jar. Spread jelly over the nut butter.\",\n",
    "        \"Clean the knife by wiping with a paper towel.\",\n",
    "        \"Roll the tortilla from one end to the other into a log shape, about 1.5 inches thick. Roll it tight enough to prevent gaps, but not so tight that the filling leaks.\",\n",
    "        \"Secure the rolled tortilla by inserting 5 toothpicks about 1 inch apart.\",\n",
    "        \"Trim the ends of the tortilla roll with the butter knife, leaving 1⁄2 inch margin between the last toothpick and the end of the roll. Discard ends.\",\n",
    "        \"Slide floss under the tortilla, perpendicular to the length of the roll. Place the floss halfway between two toothpicks.\",\n",
    "        \"Cross the two ends of the floss over the top of the tortilla roll. Holding one end of the floss in each hand, pull the floss ends in opposite directions to slice.\",\n",
    "        \"Continue slicing with floss to create 5 pinwheels.\",\n",
    "        \"Place the pinwheels on a plate.\"\n",
    "      ]\n",
    "}"
   ]
  },
  {
   "cell_type": "code",
   "execution_count": 6,
   "metadata": {},
   "outputs": [],
   "source": [
    "step_data = manager.start_recipe(recipe)"
   ]
  },
  {
   "cell_type": "code",
   "execution_count": 7,
   "metadata": {},
   "outputs": [
    {
     "name": "stdout",
     "output_type": "stream",
     "text": [
      "{'step_id': 0, 'step_status': 'IN_PROGRESS', 'step_description': 'Place tortilla on cutting board.', 'error_status': False, 'error_description': ''}\n"
     ]
    }
   ],
   "source": [
    "print(step_data)"
   ]
  },
  {
   "cell_type": "code",
   "execution_count": 8,
   "metadata": {},
   "outputs": [],
   "source": [
    "actions = ['Grab tortilla', 'Grab tortilla from plate'] # From perception module\n",
    "step_data = manager.check_status(actions)"
   ]
  },
  {
   "cell_type": "code",
   "execution_count": 9,
   "metadata": {},
   "outputs": [
    {
     "name": "stdout",
     "output_type": "stream",
     "text": [
      "{'step_id': 1, 'step_status': 'NEW', 'step_description': 'Use a butter knife to scoop nut butter from the jar. Spread nut butter onto tortilla, leaving 1/2-inch uncovered at the edges.', 'error_status': False, 'error_description': ''}\n"
     ]
    }
   ],
   "source": [
    "print(step_data)"
   ]
  },
  {
   "cell_type": "code",
   "execution_count": 10,
   "metadata": {},
   "outputs": [],
   "source": [
    "actions = ['Scoop nut butter', 'Scoop peanut butter'] # From perception module\n",
    "step_data = manager.check_status(actions)"
   ]
  },
  {
   "cell_type": "code",
   "execution_count": 11,
   "metadata": {},
   "outputs": [
    {
     "name": "stdout",
     "output_type": "stream",
     "text": [
      "{'step_id': 2, 'step_status': 'NEW', 'step_description': 'Clean the knife by wiping with a paper towel.', 'error_status': False, 'error_description': ''}\n"
     ]
    }
   ],
   "source": [
    "print(step_data)"
   ]
  }
 ],
 "metadata": {
  "kernelspec": {
   "display_name": "Python 3 (ipykernel)",
   "language": "python",
   "name": "python3"
  },
  "language_info": {
   "codemirror_mode": {
    "name": "ipython",
    "version": 3
   },
   "file_extension": ".py",
   "mimetype": "text/x-python",
   "name": "python",
   "nbconvert_exporter": "python",
   "pygments_lexer": "ipython3",
   "version": "3.8.13"
  }
 },
 "nbformat": 4,
 "nbformat_minor": 2
}
