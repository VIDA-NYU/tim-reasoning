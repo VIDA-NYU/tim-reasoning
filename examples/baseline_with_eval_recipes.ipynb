{
 "cells": [
  {
   "cell_type": "code",
   "execution_count": 1,
   "id": "66b4bb1e-884c-4751-9ce5-55bc30b475db",
   "metadata": {},
   "outputs": [],
   "source": [
    "import tim_reasoning as tir"
   ]
  },
  {
   "cell_type": "markdown",
   "id": "5045fb67-78f5-468b-abbe-ce60fcfcd2f8",
   "metadata": {},
   "source": [
    "## Recipe A: Pinwheels\n",
    "\n",
    "### Ingredients\n",
    " - 1 8-inch flour tortilla\n",
    " - Jar of nut butter or allergy-friendly alternative (such as sunbutter, soy butter, or seed butter) Jar of jelly, jam, or fruit preserves\n",
    " - Tools and Utensils\n",
    " - cutting board\n",
    " - butter knife\n",
    " - paper towel\n",
    " - toothpicks\n",
    " - ~12-inch strand of dental floss plate\n",
    "\n",
    "### Instructions\n",
    "1. Place tortilla on cutting board.\n",
    "2. Use a butter knife to scoop about a tablespoon of nut butter from the jar. Spread nut butter\n",
    "onto tortilla, leaving 1/2-inch uncovered at the edges.\n",
    "3. Clean the knife by wiping with a paper towel.\n",
    "4. Use the knife to scoop about a tablespoon of jelly from the jar. Spread jelly over the nut butter.\n",
    "5. Clean the knife by wiping with a paper towel.\n",
    "6. Roll the tortilla from one end to the other into a log shape, about 1.5 inches thick. Roll it tight\n",
    "enough to prevent gaps, but not so tight that the filling leaks.\n",
    "7. Secure the rolled tortilla by inserting 5 toothpicks about 1 inch apart.\n",
    "8. Trim the ends of the tortilla roll with the butter knife, leaving 1⁄2 inch margin between the last\n",
    "toothpick and the end of the roll. Discard ends.\n",
    "9. Slide floss under the tortilla, perpendicular to the length of the roll. Place the floss halfway\n",
    "between two toothpicks.\n",
    "10. Cross the two ends of the floss over the top of the tortilla roll. Holding one end of the floss in\n",
    "each hand, pull the floss ends in opposite directions to slice.\n",
    "11. Continue slicing with floss to create 5 pinwheels.\n",
    "12. Place the pinwheels on a plate."
   ]
  },
  {
   "cell_type": "markdown",
   "id": "15a453f3-538a-40ea-b83c-98cb66f3458d",
   "metadata": {},
   "source": [
    "post hoc verification:\n",
    " - tortilla is on cutting board\n",
    "     - more than 80% on ?\n",
    " - peanut butter is spread on tortilla\n",
    "     - 1/2 inch around the edges\n",
    " - knife is cleaned (optional)\n",
    " - tortilla is rolled into log shape\n",
    "     - log is 1.5 inches thick\n",
    "     - filling not leaking\n",
    " - 5 toothpicks inserted into the tortilla\n",
    "     - equally spaced\n",
    " - trim ends of the tortilla roll\n",
    "     - 1/2 inch between the last toothpick\n",
    " - \n",
    "     "
   ]
  },
  {
   "cell_type": "markdown",
   "id": "7e39f8a4-9d70-489d-951c-45270bbbe599",
   "metadata": {},
   "source": [
    "1. tortilla\n",
    "    - tortilla is on top of cutting board\n",
    "2. PB\n",
    "    - active butter knife and peanut butter\n",
    "    - knife has tablespoon of peanut butter on it\n",
    "4. "
   ]
  },
  {
   "cell_type": "code",
   "execution_count": 2,
   "id": "2432bdaf-681f-4304-9924-14cd424145e1",
   "metadata": {},
   "outputs": [],
   "source": [
    "recipe = '''\n",
    "1. Place tortilla on cutting board.\n",
    "2. Use a butter knife to scoop about a tablespoon of nut butter from the jar. Spread nut butter\n",
    "onto tortilla, leaving 1/2-inch uncovered at the edges.\n",
    "3. Clean the knife by wiping with a paper towel.\n",
    "4. Use the knife to scoop about a tablespoon of jelly from the jar. Spread jelly over the nut butter.\n",
    "5. Clean the knife by wiping with a paper towel.\n",
    "6. Roll the tortilla from one end to the other into a log shape, about 1.5 inches thick. Roll it tight\n",
    "enough to prevent gaps, but not so tight that the filling leaks.\n",
    "7. Secure the rolled tortilla by inserting 5 toothpicks about 1 inch apart.\n",
    "8. Trim the ends of the tortilla roll with the butter knife, leaving 1⁄2 inch margin between the last\n",
    "toothpick and the end of the roll. Discard ends.\n",
    "9. Slide floss under the tortilla, perpendicular to the length of the roll. Place the floss halfway\n",
    "between two toothpicks.\n",
    "10. Cross the two ends of the floss over the top of the tortilla roll. Holding one end of the floss in\n",
    "each hand, pull the floss ends in opposite directions to slice.\n",
    "11. Continue slicing with floss to create 5 pinwheels.\n",
    "12. Place the pinwheels on a plate.\n",
    "'''"
   ]
  },
  {
   "cell_type": "code",
   "execution_count": 3,
   "id": "e0a2c587-7866-437c-aa76-fd67ee768ad2",
   "metadata": {},
   "outputs": [
    {
     "name": "stderr",
     "output_type": "stream",
     "text": [
      "/Users/rlopez/opt/anaconda3/envs/allennlp/lib/python3.7/site-packages/allennlp/tango/__init__.py:18: UserWarning: AllenNLP Tango is an experimental API and parts of it might change or disappear every time we release a new version.\n",
      "  \"AllenNLP Tango is an experimental API and parts of it might change or disappear \"\n"
     ]
    },
    {
     "name": "stdout",
     "output_type": "stream",
     "text": [
      "STEP            ACTION          OBJECTS\n",
      "Step 1          use             butter knife, tablespoon nut butter jar\n",
      "Step 2          scoop           tablespoon nut butter, jar\n",
      "Step 3          spread          nut butter, tortilla\n",
      "Step 4          leaving         inch\n",
      "Step 5          uncovered       inch\n",
      "Step 6          wiping          paper towel\n",
      "Step 7          use             knife, tablespoon jelly jar\n",
      "Step 8          scoop           tablespoon jelly, jar\n",
      "Step 9          spread          jelly, nut butter\n",
      "Step 10         wiping          paper towel\n",
      "Step 11         roll            tortilla, log shape inches\n",
      "Step 12         prevent         gaps\n",
      "Step 13         filling         leaks\n",
      "Step 14         secure          tortilla\n",
      "Step 15         rolled          tortilla\n",
      "Step 16         inserting       toothpicks inch\n",
      "Step 17         trim            ends tortilla\n",
      "Step 18         roll            tortilla\n",
      "Step 19         leaving         inch margin\n",
      "Step 20         place           floss, toothpicks\n",
      "Step 21         cross           ends floss, tortilla\n",
      "Step 22         holding         end floss, hand\n",
      "Step 23         pull            floss\n",
      "Step 24         ends            floss, directions\n",
      "Step 25         continue        floss pinwheels\n",
      "Step 26         create          pinwheels\n",
      "Step 27         place           pinwheels, plate\n",
      "Graph task built (27 steps)\n"
     ]
    }
   ],
   "source": [
    "baseline = tir.BaselineReasoning(recipe, '/Users/rlopez/PTG/experiments/models/structured-prediction-srl-bert.2020.12.15.tar.gz')\n",
    "baseline.build_task_graph()"
   ]
  },
  {
   "cell_type": "markdown",
   "id": "f1ca6d63-fffe-4e0c-a3c3-41fa54cfdb0b",
   "metadata": {},
   "source": [
    "## Recipe B: Pour-over Coffee\n",
    "\n",
    "### Ingredients\n",
    " - 12 oz water\n",
    " - 25 grams whole coffee beans\n",
    " - Tools and Utensils\n",
    " - 2-cup liquid measuring cup electric kettle\n",
    " - kitchen scale\n",
    " - coffee grinder\n",
    " - filter cone dripper (stainless steel)\n",
    " - paper basket filter (standard 8-12 cup size) 12-ounce coffee mug\n",
    " - thermometer\n",
    " - timer (optional)\n",
    "\n",
    "### Instructions\n",
    "1. Measure 12 ounces of cold water and transfer to a kettle.\n",
    "2. While the water is boiling, assemble the filter cone. Place the dripper on top of a coffee mug.\n",
    "3. Prepare the filter insert by folding the paper filter in half to create a semi-circle, and in half again\n",
    "to create a quarter-circle. Place the paper filter in the dripper and spread open to create a cone.\n",
    "4. Weigh the coffee beans and grind until the coffee grounds are the consistency of course sand,\n",
    "about 20 seconds. Transfer the grounds to the filter cone.\n",
    "5. Once the water has boiled, check the temperature. The water should be between 195-205\n",
    "degrees Fahrenheit or between 91-96 degrees Celsius. If the water is too hot, let it cool briefly.\n",
    "6. Pour a small amount of water in the filter to wet the grounds. Wait for coffee to bloom, about\n",
    "30 seconds. You will see small bubbles or foam on the coffee grounds during this step.\n",
    "7. Slowly pour the rest of the water over the grounds in a circular motion. Do not overfill beyond\n",
    "the top of the paper filter.\n",
    "8. Let the coffee drain completely into the mug before removing the dripper. Discard the paper\n",
    "filter and coffee grounds."
   ]
  },
  {
   "cell_type": "code",
   "execution_count": null,
   "id": "99152c8c-4e0b-4ad4-afa6-2bd05fcef161",
   "metadata": {},
   "outputs": [],
   "source": []
  },
  {
   "cell_type": "markdown",
   "id": "7448175b-6c9b-409c-b02d-098b94bd58a2",
   "metadata": {},
   "source": [
    "## Recipe C: Mug Cake\n",
    "\n",
    "### Ingredients\n",
    " - 2 Tablespoons all-purpose flour\n",
    " - 1.5 Tablespoons granulated sugar\n",
    " - 1⁄4 teaspoon baking powder\n",
    " - Pinch salt\n",
    " - 2 teaspoons canola or vegetable oil\n",
    " - 2 Tablespoons water\n",
    " - 1⁄4 teaspoon vanilla extract\n",
    " - Container of chocolate frosting (premade)\n",
    " - Tools and Utensils\n",
    " - measuring spoons small mixing bowl whisk\n",
    " - paper cupcake liner 12-ounce coffee mug plate\n",
    " - microwave\n",
    " - zip-top bag, snack or sandwich size scissors\n",
    " - spoon\n",
    "\n",
    "### Instructions\n",
    "1. Place the paper cupcake liner inside the mug. Set aside.\n",
    "2. Measure and add the flour, sugar, baking powder, and salt to the mixing bowl.\n",
    "3. Whisk to combine.\n",
    "4. Measure and add the oil, water, and vanilla to the bowl.\n",
    "5. Whisk batter until no lumps remain.\n",
    "6. Pour batter into prepared mug.\n",
    "7. Microwave the mug and batter on high power for 60 seconds.\n",
    "8. Check the cake for doneness; it should be mostly dry and springy at the top. If the cake still looks wet, microwave for an additional 5 seconds.\n",
    "9. Invert the mug to release the cake onto a place. Carefully remove paper liner.\n",
    "10. While the cake is cooling, prepare to pipe the frosting. Scoop a spoonful of chocolate frosting\n",
    "into a zip-top bag and seal, removing as much air as possible.\n",
    "11. Use scissors to cut one corner from the bag to create a small opening 1⁄4-inch in diameter.\n",
    "12. Squeeze the frosting through the opening to apply small dollops of frosting to the plate in a\n",
    "circle around the base of the cake."
   ]
  },
  {
   "cell_type": "code",
   "execution_count": null,
   "id": "63de339e-0a99-40e9-8b3b-878c1b411363",
   "metadata": {},
   "outputs": [],
   "source": []
  }
 ],
 "metadata": {
  "kernelspec": {
   "display_name": "Python 3 (ipykernel)",
   "language": "python",
   "name": "python3"
  },
  "language_info": {
   "codemirror_mode": {
    "name": "ipython",
    "version": 3
   },
   "file_extension": ".py",
   "mimetype": "text/x-python",
   "name": "python",
   "nbconvert_exporter": "python",
   "pygments_lexer": "ipython3",
   "version": "3.7.11"
  },
  "widgets": {
   "application/vnd.jupyter.widget-state+json": {
    "state": {},
    "version_major": 2,
    "version_minor": 0
   }
  }
 },
 "nbformat": 4,
 "nbformat_minor": 5
}
