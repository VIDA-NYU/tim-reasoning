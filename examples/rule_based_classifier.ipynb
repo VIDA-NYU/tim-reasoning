{
 "cells": [
  {
   "cell_type": "markdown",
   "metadata": {},
   "source": [
    "# Using the Rule Based Classifier to Detect Mistakes"
   ]
  },
  {
   "cell_type": "code",
   "execution_count": 1,
   "metadata": {},
   "outputs": [],
   "source": [
    "from tim_reasoning import RuleBasedClassifier"
   ]
  },
  {
   "cell_type": "code",
   "execution_count": 2,
   "metadata": {},
   "outputs": [],
   "source": [
    "model_tagger_path = '/Users/rlopez/PTG/experiments/models/recipe_tagger' # See the README file to download it\n",
    "classifier = RuleBasedClassifier(model_tagger_path)"
   ]
  },
  {
   "cell_type": "code",
   "execution_count": 3,
   "metadata": {},
   "outputs": [],
   "source": [
    "recipe_steps =[\n",
    "    \"Place tortilla on cutting board.\",\n",
    "    \"Use a butter knife to scoop nut butter from the jar. Spread nut butter onto tortilla, leaving 1/2-inch uncovered at the edges.\",\n",
    "    \"Clean the knife by wiping with a paper towel.\",\n",
    "    \"Use the knife to scoop jelly from the jar. Spread jelly over the nut butter.\",\n",
    "    \"Clean the knife by wiping with a paper towel.\",\n",
    "    \"Roll the tortilla from one end to the other into a log shape, about 1.5 inches thick. Roll it tight enough to prevent gaps, but not so tight that the filling leaks.\",\n",
    "    \"Secure the rolled tortilla by inserting 5 toothpicks about 1 inch apart.\",\n",
    "    \"Trim the ends of the tortilla roll with the butter knife, leaving 1⁄2 inch margin between the last toothpick and the end of the roll. Discard ends.\",\n",
    "    \"Slide floss under the tortilla, perpendicular to the length of the roll. Place the floss halfway between two toothpicks.\",\n",
    "    \"Cross the two ends of the floss over the top of the tortilla roll. Holding one end of the floss in each hand, pull the floss ends in opposite directions to slice.\",\n",
    "    \"Continue slicing with floss to create 5 pinwheels.\",\n",
    "    \"Place the pinwheels on a plate.\"\n",
    "  ]"
   ]
  },
  {
   "cell_type": "code",
   "execution_count": 4,
   "metadata": {},
   "outputs": [
    {
     "name": "stdout",
     "output_type": "stream",
     "text": [
      "INFO: Pair of (action, object) for the recipe step: [('Place', 'tortilla'), ('Place', 'cutting board')]\n",
      "INFO: Pair of (action, object) for the detected actions: [('Put', 'tortilla'), ('Grab', 'tortilla'), ('Grab', 'plate'), ('Place', 'tortilla')]\n",
      "INFO: Found similar pairs: Place tortilla and Put tortilla (0.91)\n",
      "INFO: It is not a mistake!\n"
     ]
    },
    {
     "data": {
      "text/plain": [
       "False"
      ]
     },
     "execution_count": 4,
     "metadata": {},
     "output_type": "execute_result"
    }
   ],
   "source": [
    "detected_actions = ['Put tortilla', 'Grab tortilla from plate', 'Place tortilla'] # From perception module\n",
    "classifier.is_mistake(recipe_steps[0], detected_actions)"
   ]
  },
  {
   "cell_type": "code",
   "execution_count": 5,
   "metadata": {},
   "outputs": [
    {
     "name": "stdout",
     "output_type": "stream",
     "text": [
      "INFO: Pair of (action, object) for the recipe step: [('Use', 'butter knife'), ('scoop', 'nut butter'), ('scoop', 'jar'), ('Spread', 'nut butter onto tortilla'), ('leaving', None)]\n",
      "INFO: Pair of (action, object) for the detected actions: [('Grab', 'tortilla'), ('Grab', 'tortilla'), ('Grab', 'plate'), ('Place', 'tortilla')]\n",
      "INFO: It is a mistake!\n"
     ]
    },
    {
     "data": {
      "text/plain": [
       "True"
      ]
     },
     "execution_count": 5,
     "metadata": {},
     "output_type": "execute_result"
    }
   ],
   "source": [
    "detected_actions = ['Grab tortilla', 'Grab tortilla from plate', 'Place tortilla'] # From perception module\n",
    "classifier.is_mistake(recipe_steps[1], detected_actions)"
   ]
  }
 ],
 "metadata": {
  "kernelspec": {
   "display_name": "Python 3 (ipykernel)",
   "language": "python",
   "name": "python3"
  },
  "language_info": {
   "codemirror_mode": {
    "name": "ipython",
    "version": 3
   },
   "file_extension": ".py",
   "mimetype": "text/x-python",
   "name": "python",
   "nbconvert_exporter": "python",
   "pygments_lexer": "ipython3",
   "version": "3.7.11"
  }
 },
 "nbformat": 4,
 "nbformat_minor": 2
}
